{
 "cells": [
  {
   "cell_type": "code",
   "execution_count": 1,
   "metadata": {},
   "outputs": [
    {
     "name": "stderr",
     "output_type": "stream",
     "text": [
      "2025-04-12 19:09:43,764 - katabatic.models.ctabganp - INFO - CTABGANP module initialized\n"
     ]
    },
    {
     "name": "stdout",
     "output_type": "stream",
     "text": [
      "---Initialise CTABGANP Model\n"
     ]
    },
    {
     "data": {
      "text/plain": [
       "\"\\ndata_path = 'data/car/car.csv'\\ndf = pd.read_csv(data_path)\\nprint(df[3:10])\\nlabelencoder=preprocessing.LabelEncoder()\\ndf= df.apply(lambda col: labelencoder.fit_transform(col) if col.dtype =='object' else col)\\nprint(df[3:10])\\n\""
      ]
     },
     "execution_count": 1,
     "metadata": {},
     "output_type": "execute_result"
    }
   ],
   "source": [
    "from katabatic.models.ctabganp import CTABGANPAdapter, CTABGANP, preprocess_data, postprocess_data\n",
    "import pandas as pd\n",
    "from sklearn.model_selection import train_test_split\n",
    "from sklearn.linear_model import LogisticRegression\n",
    "from sklearn.ensemble import RandomForestClassifier\n",
    "from sklearn.neural_network import MLPClassifier\n",
    "from xgboost import XGBClassifier, XGBRegressor\n",
    "from sklearn.preprocessing import OneHotEncoder, OrdinalEncoder, LabelEncoder\n",
    "from sklearn import preprocessing\n",
    "from sklearn.pipeline import Pipeline\n",
    "from sklearn.metrics import accuracy_score, precision_score, recall_score, f1_score\n",
    "\n",
    "def preprocessing_raw_df(raw_df):\n",
    "    labelencoder=preprocessing.LabelEncoder()\n",
    "    raw_df = raw_df.apply(lambda col: labelencoder.fit_transform(col) if col.dtype =='object' else col)\n",
    "    return raw_df\n",
    "\n",
    "data_path = \"data/Magic/magic_gamma.csv\"\n",
    "ctabgan_adapter = CTABGANPAdapter(type='continuous', raw_csv_path = data_path)\n",
    "ctabgan_adapter.load_model(\n",
    "                 test_ratio = 0.20,\n",
    "                 categorical_columns = ['class'], \n",
    "                 log_columns = [],\n",
    "                 mixed_columns= {},\n",
    "                 general_columns = [],\n",
    "                 non_categorical_columns = ['fLength','fWidth','fSize','fConc','fConc1','fAsym','fM3Long','fM3Trans','fAlpha','fDist'],\n",
    "                 integer_columns = [],\n",
    "                 problem_type= {\"Classification\": 'class'},\n",
    "                 preprocessing_raw_df=preprocessing_raw_df) \n",
    "\n",
    "df = ctabgan_adapter.raw_df\n",
    "x_train = ctabgan_adapter.x_train\n",
    "y_train = ctabgan_adapter.y_train\n",
    "x_test = ctabgan_adapter.x_test\n",
    "y_test = ctabgan_adapter.y_test\n",
    "\n",
    "'''\n",
    "data_path = 'data/car/car.csv'\n",
    "df = pd.read_csv(data_path)\n",
    "print(df[3:10])\n",
    "labelencoder=preprocessing.LabelEncoder()\n",
    "df= df.apply(lambda col: labelencoder.fit_transform(col) if col.dtype =='object' else col)\n",
    "print(df[3:10])\n",
    "'''\n"
   ]
  },
  {
   "cell_type": "code",
   "execution_count": 2,
   "metadata": {},
   "outputs": [
    {
     "name": "stderr",
     "output_type": "stream",
     "text": [
      "100%|██████████| 100/100 [51:55<00:00, 31.15s/it] "
     ]
    },
    {
     "name": "stdout",
     "output_type": "stream",
     "text": [
      "Finished training in 3135.7605905532837  seconds.\n"
     ]
    },
    {
     "name": "stderr",
     "output_type": "stream",
     "text": [
      "\n"
     ]
    }
   ],
   "source": [
    "ctabgan_adapter.fit(epochs=100)"
   ]
  },
  {
   "cell_type": "code",
   "execution_count": 3,
   "metadata": {},
   "outputs": [
    {
     "name": "stdout",
     "output_type": "stream",
     "text": [
      "self.batch_size: 1000\n",
      "fLength : fLength\n",
      "70.646540    1\n",
      "56.190448    1\n",
      "20.118097    1\n",
      "35.731656    1\n",
      "21.679917    1\n",
      "            ..\n",
      "28.365525    1\n",
      "69.013954    1\n",
      "24.902097    1\n",
      "74.475946    1\n",
      "70.983330    1\n",
      "Name: count, Length: 19020, dtype: int64\n",
      "fWidth : fWidth\n",
      "8.204658     2\n",
      "27.337040    1\n",
      "14.981843    1\n",
      "17.384717    1\n",
      "13.466804    1\n",
      "            ..\n",
      "17.211399    1\n",
      "18.586560    1\n",
      "37.877297    1\n",
      "9.519795     1\n",
      "39.685986    1\n",
      "Name: count, Length: 19019, dtype: int64\n",
      "fSize : fSize\n",
      "2.853829    2\n",
      "3.911169    1\n",
      "2.333172    1\n",
      "3.132010    1\n",
      "2.589564    1\n",
      "           ..\n",
      "3.189424    1\n",
      "2.784278    1\n",
      "2.783940    1\n",
      "2.669791    1\n",
      "3.158091    1\n",
      "Name: count, Length: 19019, dtype: int64\n",
      "fConc : fConc\n",
      "0.499937    2\n",
      "0.104237    1\n",
      "0.722729    1\n",
      "0.261524    1\n",
      "0.490917    1\n",
      "           ..\n",
      "0.269816    1\n",
      "0.384679    1\n",
      "0.316606    1\n",
      "0.631864    1\n",
      "0.079714    1\n",
      "Name: count, Length: 19019, dtype: int64\n",
      "fConc1 : fConc1\n",
      "0.053386    1\n",
      "0.252644    1\n",
      "0.268351    1\n",
      "0.309780    1\n",
      "0.215763    1\n",
      "           ..\n",
      "0.212337    1\n",
      "0.242244    1\n",
      "0.343418    1\n",
      "0.196865    1\n",
      "0.060725    1\n",
      "Name: count, Length: 19020, dtype: int64\n",
      "fAsym : fAsym\n",
      "-130.493535    2\n",
      " 75.419893     1\n",
      " 24.900168     1\n",
      " 16.208217     1\n",
      "-24.111397     1\n",
      "              ..\n",
      " 46.772155     1\n",
      " 2.881282      1\n",
      "-22.815590     1\n",
      "-34.153083     1\n",
      " 99.185696     1\n",
      "Name: count, Length: 19019, dtype: int64\n",
      "fM3Long : fM3Long\n",
      " 49.598451     1\n",
      "-13.652795     1\n",
      "-16.110776     1\n",
      "-20.343881     1\n",
      "-1.793995      1\n",
      "              ..\n",
      "-18.557634     1\n",
      "-116.677732    1\n",
      " 2.822038      1\n",
      " 43.612441     1\n",
      " 83.213639     1\n",
      "Name: count, Length: 19020, dtype: int64\n",
      "fM3Trans : fM3Trans\n",
      "-9.629044     1\n",
      "-8.216586     1\n",
      " 9.778679     1\n",
      " 2.148392     1\n",
      "-0.308035     1\n",
      "             ..\n",
      "-9.107218     1\n",
      "-13.931364    1\n",
      "-5.655888     1\n",
      " 8.803001     1\n",
      "-23.703884    1\n",
      "Name: count, Length: 19020, dtype: int64\n",
      "fAlpha : fAlpha\n",
      "3.330936     2\n",
      "1.711577     1\n",
      "57.253110    1\n",
      "61.517541    1\n",
      "28.585268    1\n",
      "            ..\n",
      "56.122326    1\n",
      "14.861874    1\n",
      "12.835197    1\n",
      "3.933213     1\n",
      "4.053890     1\n",
      "Name: count, Length: 19019, dtype: int64\n",
      "fDist : fDist\n",
      "188.109188    1\n",
      "140.166098    1\n",
      "33.355231     1\n",
      "130.197560    1\n",
      "190.767631    1\n",
      "             ..\n",
      "72.469750     1\n",
      "202.323236    1\n",
      "80.743016     1\n",
      "187.105162    1\n",
      "288.083374    1\n",
      "Name: count, Length: 19020, dtype: int64\n",
      "class : class\n",
      "0    11650\n",
      "1     7370\n",
      "Name: count, dtype: int64\n"
     ]
    }
   ],
   "source": [
    "synthetic_df = ctabgan_adapter.generate(size=1000)\n",
    "for column in synthetic_df.columns:\n",
    "    print(column, \":\", synthetic_df[column].value_counts())"
   ]
  },
  {
   "cell_type": "code",
   "execution_count": 4,
   "metadata": {},
   "outputs": [],
   "source": [
    "x_sync_train = synthetic_df.drop(synthetic_df.columns[-1],axis=1).values\n",
    "y_sync_train = synthetic_df.iloc[ :, -1:].values"
   ]
  },
  {
   "cell_type": "code",
   "execution_count": 6,
   "metadata": {},
   "outputs": [
    {
     "name": "stdout",
     "output_type": "stream",
     "text": [
      "Classifier Evaluation on Syn Data:\n",
      "                     Accuracy  Precision    Recall  F1 Score\n",
      "Logistic Regression  0.798896   0.786963  0.759936  0.769573\n",
      "Random Forest        0.840694   0.829133  0.816618  0.822094\n",
      "MLP Classifier       0.818875   0.835837  0.762526  0.780939\n",
      "XGB Classifier       0.836488   0.822871  0.814912  0.818552\n"
     ]
    }
   ],
   "source": [
    "y_sync_train = LabelEncoder().fit_transform(y_sync_train)\n",
    "models = {\n",
    "    \"Logistic Regression\": LogisticRegression(max_iter=300, random_state=42),\n",
    "    \"Random Forest\": RandomForestClassifier(random_state=42),\n",
    "    \"MLP Classifier\": MLPClassifier(max_iter=300, random_state=42),\n",
    "    \"XGB Classifier\": XGBClassifier(use_label_encoder=False, eval_metric='logloss', random_state=42)\n",
    "}\n",
    "\n",
    "results = {}\n",
    "for name, model in models.items():\n",
    "    model.fit(x_sync_train, y_sync_train)\n",
    "    y_pred = model.predict(x_test)\n",
    "    results[name] = {\n",
    "        \"Accuracy\": accuracy_score(y_test, y_pred),\n",
    "        \"Precision\": precision_score(y_test, y_pred, average='macro', zero_division=0),\n",
    "        \"Recall\": recall_score(y_test, y_pred, average='macro', zero_division=0),\n",
    "        \"F1 Score\": f1_score(y_test, y_pred, average='macro', zero_division=0)\n",
    "    }\n",
    "results_df = pd.DataFrame(results).T\n",
    "print(\"Classifier Evaluation on Syn Data:\")\n",
    "print(results_df)"
   ]
  }
 ],
 "metadata": {
  "kernelspec": {
   "display_name": "py39",
   "language": "python",
   "name": "python3"
  },
  "language_info": {
   "codemirror_mode": {
    "name": "ipython",
    "version": 3
   },
   "file_extension": ".py",
   "mimetype": "text/x-python",
   "name": "python",
   "nbconvert_exporter": "python",
   "pygments_lexer": "ipython3",
   "version": "3.9.21"
  }
 },
 "nbformat": 4,
 "nbformat_minor": 2
}
