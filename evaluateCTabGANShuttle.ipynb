{
 "cells": [
  {
   "cell_type": "code",
   "execution_count": 6,
   "metadata": {},
   "outputs": [
    {
     "name": "stdout",
     "output_type": "stream",
     "text": [
      "---Initialise CTABGANP Model\n"
     ]
    }
   ],
   "source": [
    "from katabatic.models.ctabganp import CTABGANPAdapter, CTABGANP, preprocess_data, postprocess_data\n",
    "import pandas as pd\n",
    "from sklearn.model_selection import train_test_split\n",
    "from sklearn.linear_model import LogisticRegression\n",
    "from sklearn.ensemble import RandomForestClassifier\n",
    "from sklearn.neural_network import MLPClassifier\n",
    "from xgboost import XGBClassifier, XGBRegressor\n",
    "from sklearn.preprocessing import OneHotEncoder, OrdinalEncoder, LabelEncoder\n",
    "from sklearn import preprocessing\n",
    "from sklearn.pipeline import Pipeline\n",
    "from sklearn.metrics import accuracy_score, precision_score, recall_score, f1_score\n",
    "\n",
    "data_path = 'data/shuttle/shuttle.tst'\n",
    "headers = ['f0','f1','f2','f3','f4','f5','f6','f7','f8','class']\n",
    "ctabgan_adapter = CTABGANPAdapter(type='continuous', raw_csv_path = data_path)\n",
    "ctabgan_adapter.load_model(\n",
    "                 test_ratio = 0.20,\n",
    "                 headers=headers,\n",
    "                 sep=\" \",\n",
    "                 categorical_columns = [], \n",
    "                 log_columns = [],\n",
    "                 mixed_columns= {},\n",
    "                 general_columns = [],\n",
    "                 non_categorical_columns = [],\n",
    "                 integer_columns = ['f0','f1','f2','f3','f4','f5','f6','f7','f8','class'],\n",
    "                 problem_type= {\"Classification\": 'class'}) \n",
    "\n",
    "df = ctabgan_adapter.raw_df\n",
    "x_train = ctabgan_adapter.x_train\n",
    "y_train = ctabgan_adapter.y_train\n",
    "x_test = ctabgan_adapter.x_test\n",
    "y_test = ctabgan_adapter.y_test"
   ]
  },
  {
   "cell_type": "code",
   "execution_count": 7,
   "metadata": {},
   "outputs": [
    {
     "name": "stderr",
     "output_type": "stream",
     "text": [
      "100%|██████████| 100/100 [12:10<00:00,  7.31s/it]"
     ]
    },
    {
     "name": "stdout",
     "output_type": "stream",
     "text": [
      "Finished training in 740.4923467636108  seconds.\n"
     ]
    },
    {
     "name": "stderr",
     "output_type": "stream",
     "text": [
      "\n"
     ]
    }
   ],
   "source": [
    "ctabgan_adapter.fit(epochs=100)"
   ]
  },
  {
   "cell_type": "code",
   "execution_count": 8,
   "metadata": {},
   "outputs": [
    {
     "name": "stdout",
     "output_type": "stream",
     "text": [
      "self.batch_size: 1000\n"
     ]
    }
   ],
   "source": [
    "synthetic_df = ctabgan_adapter.generate(size=1000)"
   ]
  },
  {
   "cell_type": "code",
   "execution_count": 9,
   "metadata": {},
   "outputs": [],
   "source": [
    "x_sync_train = synthetic_df.drop(synthetic_df.columns[-1],axis=1).values\n",
    "y_sync_train = synthetic_df.iloc[ :, -1:].values"
   ]
  },
  {
   "cell_type": "code",
   "execution_count": 13,
   "metadata": {},
   "outputs": [
    {
     "name": "stdout",
     "output_type": "stream",
     "text": [
      "Classifier Evaluation on Syn Data:\n",
      "                     Accuracy  Precision    Recall  F1 Score\n",
      "Logistic Regression  0.010345   0.011521  0.001867  0.003213\n",
      "Random Forest        0.003448   0.003239  0.000622  0.001044\n",
      "MLP Classifier       0.001034   0.000985  0.000187  0.000314\n",
      "XGB Classifier       0.004483   0.004173  0.000809  0.001355\n"
     ]
    }
   ],
   "source": [
    "y_sync_train = LabelEncoder().fit_transform(y_sync_train)\n",
    "\n",
    "models = {\n",
    "    \"Logistic Regression\": LogisticRegression(max_iter=300, random_state=42),\n",
    "    \"Random Forest\": RandomForestClassifier(random_state=42),\n",
    "    \"MLP Classifier\": MLPClassifier(max_iter=300, random_state=42),\n",
    "    \"XGB Classifier\": XGBClassifier(use_label_encoder=False, eval_metric='logloss', random_state=42)\n",
    "}\n",
    "\n",
    "results = {}\n",
    "for name, model in models.items():\n",
    "    model.fit(x_sync_train, y_sync_train)\n",
    "    y_pred = model.predict(x_test)\n",
    "    results[name] = {\n",
    "        \"Accuracy\": accuracy_score(y_test, y_pred),\n",
    "        \"Precision\": precision_score(y_test, y_pred, average='macro', zero_division=0),\n",
    "        \"Recall\": recall_score(y_test, y_pred, average='macro', zero_division=0),\n",
    "        \"F1 Score\": f1_score(y_test, y_pred, average='macro', zero_division=0)\n",
    "    }\n",
    "results_df = pd.DataFrame(results).T\n",
    "print(\"Classifier Evaluation on Syn Data:\")\n",
    "print(results_df)"
   ]
  }
 ],
 "metadata": {
  "kernelspec": {
   "display_name": "py39",
   "language": "python",
   "name": "python3"
  },
  "language_info": {
   "codemirror_mode": {
    "name": "ipython",
    "version": 3
   },
   "file_extension": ".py",
   "mimetype": "text/x-python",
   "name": "python",
   "nbconvert_exporter": "python",
   "pygments_lexer": "ipython3",
   "version": "3.9.21"
  }
 },
 "nbformat": 4,
 "nbformat_minor": 2
}
