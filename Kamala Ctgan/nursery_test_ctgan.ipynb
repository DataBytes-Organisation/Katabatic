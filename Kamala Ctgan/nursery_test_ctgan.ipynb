{
 "cells": [
  {
   "cell_type": "code",
   "execution_count": 1,
   "metadata": {},
   "outputs": [],
   "source": [
    "import pandas as pd\n",
    "import numpy as np\n",
    "from ctgan_adapter import CtganAdapter\n",
    "from ctgan_benchmark import evaluate_ctgan, print_evaluation_results\n",
    "from ctgan_utils import preprocess_data, get_tstr_results\n",
    "import json"
   ]
  },
  {
   "cell_type": "code",
   "execution_count": 2,
   "metadata": {},
   "outputs": [
    {
     "name": "stdout",
     "output_type": "stream",
     "text": [
      "# Load configuration\n"
     ]
    }
   ],
   "source": [
    "# Load configuration\n",
    "print(\"# Load configuration\")\n",
    "with open(\"config.json\", \"r\") as f:\n",
    "    config = json.load(f)"
   ]
  },
  {
   "cell_type": "code",
   "execution_count": 3,
   "metadata": {},
   "outputs": [
    {
     "name": "stdout",
     "output_type": "stream",
     "text": [
      "# 1. Load and prepare the dataset\n",
      "Columns in dataset: [' parents', 'has_nurs', 'form', 'children', 'housing', 'finance', 'social', 'health', 'Target']\n",
      "Dataset shape: (12960, 9)\n",
      "   parents has_nurs      form children     housing     finance         social  \\\n",
      "0    usual   proper  complete        1  convenient  convenient        nonprob   \n",
      "1    usual   proper  complete        1  convenient  convenient        nonprob   \n",
      "2    usual   proper  complete        1  convenient  convenient        nonprob   \n",
      "3    usual   proper  complete        1  convenient  convenient  slightly_prob   \n",
      "4    usual   proper  complete        1  convenient  convenient  slightly_prob   \n",
      "\n",
      "        health     Target  \n",
      "0  recommended  recommend  \n",
      "1     priority   priority  \n",
      "2    not_recom  not_recom  \n",
      "3  recommended  recommend  \n",
      "4     priority   priority  \n"
     ]
    }
   ],
   "source": [
    "# 1. Load and prepare the dataset\n",
    "print(\"# 1. Load and prepare the dataset\")\n",
    "data_raw = pd.read_csv(\"nursery.csv\")\n",
    "print(f\"Columns in dataset: {data_raw.columns.tolist()}\")\n",
    "print(f\"Dataset shape: {data_raw.shape}\")\n",
    "print(data_raw.head())"
   ]
  },
  {
   "cell_type": "code",
   "execution_count": 4,
   "metadata": {},
   "outputs": [
    {
     "name": "stderr",
     "output_type": "stream",
     "text": [
      "2025-03-31 10:57:17,179 - INFO - Converted  parents to category type (has 3 unique values)\n",
      "2025-03-31 10:57:17,184 - INFO - Converted has_nurs to category type (has 5 unique values)\n",
      "2025-03-31 10:57:17,190 - INFO - Converted form to category type (has 4 unique values)\n",
      "2025-03-31 10:57:17,195 - INFO - Converted children to category type (has 4 unique values)\n",
      "2025-03-31 10:57:17,200 - INFO - Converted housing to category type (has 3 unique values)\n",
      "2025-03-31 10:57:17,206 - INFO - Converted finance to category type (has 2 unique values)\n",
      "2025-03-31 10:57:17,214 - INFO - Converted social to category type (has 3 unique values)\n",
      "2025-03-31 10:57:17,221 - INFO - Converted health to category type (has 3 unique values)\n",
      "2025-03-31 10:57:17,228 - INFO - Converted Target to category type (has 5 unique values)\n"
     ]
    },
    {
     "name": "stdout",
     "output_type": "stream",
     "text": [
      "\n",
      "# 2. Preprocess data and detect categorical columns\n",
      "Detected categorical columns: [' parents', 'has_nurs', 'form', 'children', 'housing', 'finance', 'social', 'health', 'Target']\n"
     ]
    }
   ],
   "source": [
    "# 2. Preprocess data and detect categorical columns\n",
    "print(\"\\n# 2. Preprocess data and detect categorical columns\")\n",
    "data, categorical_columns = preprocess_data(data_raw)\n",
    "print(f\"Detected categorical columns: {categorical_columns}\")"
   ]
  },
  {
   "cell_type": "code",
   "execution_count": 5,
   "metadata": {},
   "outputs": [
    {
     "name": "stdout",
     "output_type": "stream",
     "text": [
      "\n",
      "# 3. Define the target column for this dataset\n",
      "Target column: Target\n"
     ]
    }
   ],
   "source": [
    "# 3. Define the target column for this dataset\n",
    "print(\"\\n# 3. Define the target column for this dataset\")\n",
    "target_column = \"Target\"\n",
    "print(f\"Target column: {target_column}\")"
   ]
  },
  {
   "cell_type": "code",
   "execution_count": 7,
   "metadata": {},
   "outputs": [
    {
     "name": "stdout",
     "output_type": "stream",
     "text": [
      "\n",
      "# 4. Split the data into features and target\n",
      "Features shape: (12960, 8)\n",
      "Target shape: (12960,)\n",
      "Target distribution:\n",
      "Target\n",
      "not_recom     4320\n",
      "priority      4266\n",
      "spec_prior    4044\n",
      "very_recom     328\n",
      "recommend        2\n",
      "Name: count, dtype: int64\n"
     ]
    }
   ],
   "source": [
    "# 4. Split the data into features and target\n",
    "print(\"\\n# 4. Split the data into features and target\")\n",
    "X = data.drop(columns=[target_column])\n",
    "y = data[target_column]\n",
    "print(f\"Features shape: {X.shape}\")\n",
    "print(f\"Target shape: {y.shape}\")\n",
    "print(f\"Target distribution:\\n{y.value_counts()}\")"
   ]
  },
  {
   "cell_type": "code",
   "execution_count": 8,
   "metadata": {},
   "outputs": [
    {
     "name": "stdout",
     "output_type": "stream",
     "text": [
      "\n",
      "# 5. Initialize and train CTGAN\n",
      "Training CTGAN model...\n"
     ]
    },
    {
     "name": "stderr",
     "output_type": "stream",
     "text": [
      "Training Epochs:   0%|          | 1/300 [00:58<4:51:25, 58.48s/it]"
     ]
    },
    {
     "name": "stdout",
     "output_type": "stream",
     "text": [
      "Epoch 0, Loss D: 6.2771, Loss G: 1.0666\n"
     ]
    },
    {
     "name": "stderr",
     "output_type": "stream",
     "text": [
      "Training Epochs:  10%|█         | 31/300 [22:30<3:02:54, 40.80s/it]"
     ]
    },
    {
     "name": "stdout",
     "output_type": "stream",
     "text": [
      "Epoch 30, Loss D: 0.0373, Loss G: 0.3428\n"
     ]
    },
    {
     "name": "stderr",
     "output_type": "stream",
     "text": [
      "Training Epochs:  20%|██        | 61/300 [42:19<2:42:49, 40.88s/it]"
     ]
    },
    {
     "name": "stdout",
     "output_type": "stream",
     "text": [
      "Epoch 60, Loss D: -0.2794, Loss G: 0.8706\n"
     ]
    },
    {
     "name": "stderr",
     "output_type": "stream",
     "text": [
      "Training Epochs:  30%|███       | 91/300 [1:01:58<2:16:35, 39.21s/it]"
     ]
    },
    {
     "name": "stdout",
     "output_type": "stream",
     "text": [
      "Epoch 90, Loss D: -1.8146, Loss G: 1.3066\n"
     ]
    },
    {
     "name": "stderr",
     "output_type": "stream",
     "text": [
      "Training Epochs:  40%|████      | 121/300 [1:21:22<1:39:50, 33.46s/it]"
     ]
    },
    {
     "name": "stdout",
     "output_type": "stream",
     "text": [
      "Epoch 120, Loss D: -1.9714, Loss G: 1.2658\n"
     ]
    },
    {
     "name": "stderr",
     "output_type": "stream",
     "text": [
      "Training Epochs:  50%|█████     | 151/300 [1:33:58<1:01:45, 24.87s/it]"
     ]
    },
    {
     "name": "stdout",
     "output_type": "stream",
     "text": [
      "Epoch 150, Loss D: -1.8867, Loss G: 1.2879\n"
     ]
    },
    {
     "name": "stderr",
     "output_type": "stream",
     "text": [
      "Training Epochs:  60%|██████    | 181/300 [1:46:18<49:40, 25.04s/it]  "
     ]
    },
    {
     "name": "stdout",
     "output_type": "stream",
     "text": [
      "Epoch 180, Loss D: -1.8101, Loss G: 1.3353\n"
     ]
    },
    {
     "name": "stderr",
     "output_type": "stream",
     "text": [
      "Training Epochs:  70%|███████   | 211/300 [1:58:38<37:51, 25.52s/it]"
     ]
    },
    {
     "name": "stdout",
     "output_type": "stream",
     "text": [
      "Epoch 210, Loss D: -1.6483, Loss G: 1.2837\n"
     ]
    },
    {
     "name": "stderr",
     "output_type": "stream",
     "text": [
      "Training Epochs:  80%|████████  | 241/300 [2:11:23<27:52, 28.35s/it]"
     ]
    },
    {
     "name": "stdout",
     "output_type": "stream",
     "text": [
      "Epoch 240, Loss D: -1.4880, Loss G: 1.2236\n"
     ]
    },
    {
     "name": "stderr",
     "output_type": "stream",
     "text": [
      "Training Epochs:  90%|█████████ | 271/300 [2:26:08<14:38, 30.28s/it]"
     ]
    },
    {
     "name": "stdout",
     "output_type": "stream",
     "text": [
      "Epoch 270, Loss D: -1.4197, Loss G: 1.0215\n"
     ]
    },
    {
     "name": "stderr",
     "output_type": "stream",
     "text": [
      "Training Epochs: 100%|██████████| 300/300 [2:43:48<00:00, 32.76s/it]"
     ]
    },
    {
     "name": "stdout",
     "output_type": "stream",
     "text": [
      "Training completed\n"
     ]
    },
    {
     "name": "stderr",
     "output_type": "stream",
     "text": [
      "\n"
     ]
    }
   ],
   "source": [
    "# 5. Initialize and train CTGAN\n",
    "print(\"\\n# 5. Initialize and train CTGAN\")\n",
    "ctgan = CtganAdapter(**config[\"ctgan_params\"])\n",
    "print(\"Training CTGAN model...\")\n",
    "ctgan.fit(X, y)\n",
    "print(\"Training completed\")"
   ]
  },
  {
   "cell_type": "code",
   "execution_count": 9,
   "metadata": {},
   "outputs": [
    {
     "name": "stdout",
     "output_type": "stream",
     "text": [
      "\n",
      "# 6. Generate synthetic data\n",
      "Generating 1000 synthetic samples...\n",
      "Generated 1000 synthetic samples\n",
      "Synthetic data head:\n",
      "       parents     has_nurs        form children     housing     finance  \\\n",
      "0   great_pret  less_proper  incomplete        1    critical      inconv   \n",
      "1   great_pret     improper  incomplete        3  convenient  convenient   \n",
      "2   great_pret       proper      foster        2    critical      inconv   \n",
      "3  pretentious       proper    complete        1    critical      inconv   \n",
      "4  pretentious    very_crit    complete     more  convenient  convenient   \n",
      "\n",
      "          social       health      Target  \n",
      "0        nonprob  recommended  spec_prior  \n",
      "1    problematic  recommended    priority  \n",
      "2        nonprob    not_recom   not_recom  \n",
      "3  slightly_prob     priority    priority  \n",
      "4        nonprob    not_recom   not_recom  \n"
     ]
    }
   ],
   "source": [
    "# 6. Generate synthetic data\n",
    "print(\"\\n# 6. Generate synthetic data\")\n",
    "n_samples = 1000  \n",
    "print(f\"Generating {n_samples} synthetic samples...\")\n",
    "synthetic_data = ctgan.generate(n_samples)\n",
    "print(f\"Generated {len(synthetic_data)} synthetic samples\")\n",
    "print(\"Synthetic data head:\")\n",
    "print(synthetic_data.head())"
   ]
  },
  {
   "cell_type": "code",
   "execution_count": 10,
   "metadata": {},
   "outputs": [
    {
     "name": "stderr",
     "output_type": "stream",
     "text": [
      "2025-03-31 13:41:49,226 - WARNING - No numerical columns found for likelihood fitness evaluation\n",
      "2025-03-31 13:41:49,259 - INFO - Encoded categorical target with mapping: {'not_recom': 0, 'priority': 1, 'recommend': 2, 'spec_prior': 3, 'very_recom': 4}\n"
     ]
    },
    {
     "name": "stdout",
     "output_type": "stream",
     "text": [
      "\n",
      "# 7. Evaluate quality using TSTR and other metrics\n",
      "Running evaluation...\n"
     ]
    },
    {
     "name": "stderr",
     "output_type": "stream",
     "text": [
      "2025-03-31 13:41:56,110 - ERROR - Error training XGBoost classifier: Invalid classes inferred from unique values of `y`.  Expected: [0 1 2 3], got [0 1 3 4]\n",
      "2025-03-31 13:41:56,117 - INFO - Encoded categorical targets with mapping: {'not_recom': 0, 'priority': 1, 'recommend': 2, 'spec_prior': 3, 'very_recom': 4}\n",
      "2025-03-31 13:42:03,178 - ERROR - Error in TSTR with XGBoost: Invalid classes inferred from unique values of `y`.  Expected: [0 1 2], got [0 1 3]\n",
      "2025-03-31 13:42:03,178 - INFO - CTGAN Evaluation Results:\n",
      "2025-03-31 13:42:03,178 - INFO - \n",
      "Likelihood Fitness: Not applicable for fully categorical data\n",
      "2025-03-31 13:42:03,178 - INFO - \n",
      "Statistical Similarity Metrics:\n",
      "2025-03-31 13:42:03,186 - INFO -   - Jensen-Shannon Divergence Mean (Categorical): 0.0198\n",
      "2025-03-31 13:42:03,186 - INFO - \n",
      "Machine Learning Efficacy Metrics on Real Data:\n",
      "2025-03-31 13:42:03,186 - INFO -   LogisticRegression:\n",
      "2025-03-31 13:42:03,189 - INFO -     - Accuracy: 0.9267\n",
      "2025-03-31 13:42:03,189 - INFO -     - F1: 0.9256\n",
      "2025-03-31 13:42:03,189 - INFO -   RandomForest:\n",
      "2025-03-31 13:42:03,189 - INFO -     - Accuracy: 0.9911\n",
      "2025-03-31 13:42:03,189 - INFO -     - F1: 0.9907\n",
      "2025-03-31 13:42:03,189 - INFO -   MLP:\n",
      "2025-03-31 13:42:03,195 - INFO -     - Accuracy: 0.9992\n",
      "2025-03-31 13:42:03,196 - INFO -     - F1: 0.9988\n",
      "2025-03-31 13:42:03,196 - INFO -   XGBoost:\n",
      "2025-03-31 13:42:03,196 - INFO -     - Error: Invalid classes inferred from unique values of `y`.  Expected: [0 1 2 3], got [0 1 3 4]\n",
      "2025-03-31 13:42:03,196 - INFO - \n",
      "Machine Learning Utility using TSTR Approach:\n",
      "2025-03-31 13:42:03,196 - INFO -   LogisticRegression:\n",
      "2025-03-31 13:42:03,196 - INFO -     - Accuracy: 0.8994\n",
      "2025-03-31 13:42:03,196 - INFO -     - F1: 0.8887\n",
      "2025-03-31 13:42:03,201 - INFO -   RandomForest:\n",
      "2025-03-31 13:42:03,201 - INFO -     - Accuracy: 0.8676\n",
      "2025-03-31 13:42:03,203 - INFO -     - F1: 0.8573\n",
      "2025-03-31 13:42:03,203 - INFO -   MLP:\n",
      "2025-03-31 13:42:03,203 - INFO -     - Accuracy: 0.8493\n",
      "2025-03-31 13:42:03,203 - INFO -     - F1: 0.8393\n",
      "2025-03-31 13:42:03,206 - INFO -   XGBoost:\n",
      "2025-03-31 13:42:03,206 - INFO -     - Error: Invalid classes inferred from unique values of `y`.  Expected: [0 1 2], got [0 1 3]\n"
     ]
    }
   ],
   "source": [
    "# 7. Evaluate quality using TSTR and other metrics\n",
    "print(\"\\n# 7. Evaluate quality using TSTR and other metrics\")\n",
    "print(\"Running evaluation...\")\n",
    "evaluation_results = evaluate_ctgan(data, synthetic_data, target_column=target_column)\n",
    "print_evaluation_results(evaluation_results)\n"
   ]
  },
  {
   "cell_type": "code",
   "execution_count": 11,
   "metadata": {},
   "outputs": [
    {
     "name": "stdout",
     "output_type": "stream",
     "text": [
      "\n",
      "# 8. TSTR Performance Results\n",
      "                    Accuracy        F1\n",
      "LogisticRegression  0.899383  0.888663\n",
      "RandomForest        0.867593  0.857337\n",
      "MLP                 0.849306  0.839284\n",
      "XGBoost                  NaN       NaN\n"
     ]
    }
   ],
   "source": [
    "# 8. Extract and display TSTR results specifically\n",
    "print(\"\\n# 8. TSTR Performance Results\")\n",
    "tstr_results = get_tstr_results(evaluation_results)\n",
    "if tstr_results is not None:\n",
    "    print(tstr_results)"
   ]
  },
  {
   "cell_type": "code",
   "execution_count": 12,
   "metadata": {},
   "outputs": [
    {
     "name": "stdout",
     "output_type": "stream",
     "text": [
      "\n",
      "# 9. Save synthetic data\n",
      "Synthetic data saved to nursery_synthetic.csv\n",
      "\n",
      "Test completed successfully!\n"
     ]
    }
   ],
   "source": [
    "# 9. Save the synthetic data\n",
    "print(\"\\n# 9. Save synthetic data\")\n",
    "output_path = \"nursery_synthetic.csv\"\n",
    "synthetic_data.to_csv(output_path, index=False)\n",
    "print(f\"Synthetic data saved to {output_path}\")\n",
    "\n",
    "print(\"\\nTest completed successfully!\")"
   ]
  }
 ],
 "metadata": {
  "kernelspec": {
   "display_name": "sit378",
   "language": "python",
   "name": "python3"
  },
  "language_info": {
   "codemirror_mode": {
    "name": "ipython",
    "version": 3
   },
   "file_extension": ".py",
   "mimetype": "text/x-python",
   "name": "python",
   "nbconvert_exporter": "python",
   "pygments_lexer": "ipython3",
   "version": "3.9.13"
  }
 },
 "nbformat": 4,
 "nbformat_minor": 2
}
