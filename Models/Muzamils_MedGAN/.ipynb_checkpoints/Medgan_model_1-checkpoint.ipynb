{
 "cells": [
  {
   "cell_type": "code",
   "execution_count": 13,
   "id": "9e160729-dfe3-43b1-a28b-75a24aff2f69",
   "metadata": {},
   "outputs": [],
   "source": [
    "from medgan_model import Medgan\n",
    "from data_loader import load_shuttle_data\n",
    "import numpy as np\n",
    "import matplotlib.pyplot as plt\n",
    "import tensorflow as tf\n",
    "from sklearn.model_selection import train_test_split\n",
    "from sklearn.metrics import accuracy_score, precision_score, recall_score, f1_score\n",
    "from sklearn.preprocessing import StandardScaler, LabelEncoder\n",
    "from sklearn.ensemble import RandomForestClassifier\n",
    "from sklearn.neural_network import MLPClassifier\n",
    "from sklearn.linear_model import LogisticRegression\n",
    "from xgboost import XGBClassifier\n",
    "import pandas as pd"
   ]
  },
  {
   "cell_type": "code",
   "execution_count": 14,
   "id": "fd23e8f4-15d4-4a6d-afa3-952ccce8fbc0",
   "metadata": {},
   "outputs": [],
   "source": [
    "# --- Load and preprocess real shuttle data ---\n",
    "df = pd.read_csv(\"datasets/shuttle.csv\", header=None)\n",
    "X_real = df.iloc[:, :-1]\n",
    "y_real = df.iloc[:, -1]"
   ]
  },
  {
   "cell_type": "code",
   "execution_count": 15,
   "id": "0ee767b5-b05b-4bb0-af0d-f629bb044947",
   "metadata": {},
   "outputs": [],
   "source": [
    "# Encode target for XGBClassifier\n",
    "le = LabelEncoder()\n",
    "y_encoded = le.fit_transform(y_real)\n",
    "\n",
    "# Normalize features\n",
    "scaler = StandardScaler()\n",
    "X_scaled = scaler.fit_transform(X_real)\n",
    "\n",
    "# Train-test split\n",
    "X_train_real, X_test_real, y_train_real, y_test_real = train_test_split(X_scaled, y_encoded, test_size=0.2, random_state=42)"
   ]
  },
  {
   "cell_type": "code",
   "execution_count": 16,
   "id": "12d863f1-5cb6-469f-9b6f-865129507225",
   "metadata": {},
   "outputs": [],
   "source": [
    "# --- Load data without labels for GAN training ---\n",
    "X_train, X_test = load_shuttle_data(\"datasets/shuttle.csv\")\n",
    "input_dim = X_train.shape[1]"
   ]
  },
  {
   "cell_type": "code",
   "execution_count": 17,
   "id": "0ec5d2e9-dca8-4018-9474-37d2f2027bb1",
   "metadata": {},
   "outputs": [
    {
     "name": "stderr",
     "output_type": "stream",
     "text": [
      "C:\\Anaconda\\envs\\tf-env\\lib\\site-packages\\keras\\src\\layers\\core\\input_layer.py:27: UserWarning: Argument `input_shape` is deprecated. Use `shape` instead.\n",
      "  warnings.warn(\n"
     ]
    },
    {
     "name": "stdout",
     "output_type": "stream",
     "text": [
      "Epoch 1/10 completed\n",
      "Epoch 2/10 completed\n",
      "Epoch 3/10 completed\n",
      "Epoch 4/10 completed\n",
      "Epoch 5/10 completed\n",
      "Epoch 6/10 completed\n",
      "Epoch 7/10 completed\n",
      "Epoch 8/10 completed\n",
      "Epoch 9/10 completed\n",
      "Epoch 10/10 completed\n"
     ]
    }
   ],
   "source": [
    "# --- Initialize and Train MedGAN ---\n",
    "medgan = Medgan(input_dim=input_dim, ae_loss_type='bce')\n",
    "optimizer = tf.keras.optimizers.Adam(learning_rate=0.0002)\n",
    "batch_size = 64\n",
    "n_epochs = 10\n",
    "\n",
    "for epoch in range(n_epochs):\n",
    "    np.random.shuffle(X_train)\n",
    "    for i in range(0, len(X_train), batch_size):\n",
    "        batch = X_train[i:i + batch_size]\n",
    "        noise = np.random.normal(size=(batch.shape[0], medgan.random_dim))\n",
    "        medgan.train_step(batch, noise)\n",
    "    print(f\"Epoch {epoch+1}/{n_epochs} completed\")"
   ]
  },
  {
   "cell_type": "code",
   "execution_count": 18,
   "id": "483dfa9d-c410-483d-a5ed-16e2f6f8d85f",
   "metadata": {},
   "outputs": [],
   "source": [
    "# --- Generate Synthetic Data ---\n",
    "synthetic_data = medgan.generate_data(num_samples=len(X_train_real))\n",
    "synthetic_data_scaled = scaler.transform(synthetic_data)  # Scale similarly"
   ]
  },
  {
   "cell_type": "code",
   "execution_count": 19,
   "id": "c4411015-aaf5-428c-8145-7b314de60664",
   "metadata": {},
   "outputs": [
    {
     "name": "stderr",
     "output_type": "stream",
     "text": [
      "C:\\Anaconda\\envs\\tf-env\\lib\\site-packages\\xgboost\\core.py:158: UserWarning: [05:51:56] WARNING: C:\\b\\abs_90_bwj_86a\\croot\\xgboost-split_1724073762025\\work\\src\\learner.cc:740: \n",
      "Parameters: { \"use_label_encoder\" } are not used.\n",
      "\n",
      "  warnings.warn(smsg, UserWarning)\n"
     ]
    },
    {
     "name": "stdout",
     "output_type": "stream",
     "text": [
      "\n",
      "Classifier Evaluation on Real Data:\n",
      "                     Accuracy  Precision    Recall  F1 Score\n",
      "Random Forest        0.998966   0.799522  0.791260  0.790563\n",
      "MLP Classifier       0.998966   0.790566  0.750000  0.767305\n",
      "XGB Classifier       0.999655   0.999928  0.999593  0.999761\n",
      "Logistic Regression  0.968621   0.480788  0.476037  0.478302\n"
     ]
    }
   ],
   "source": [
    "# --- Classifier Evaluation ---\n",
    "models = {\n",
    "    \"Random Forest\": RandomForestClassifier(random_state=42),\n",
    "    \"MLP Classifier\": MLPClassifier(max_iter=300, random_state=42),\n",
    "    \"XGB Classifier\": XGBClassifier(use_label_encoder=False, eval_metric='mlogloss', random_state=42),\n",
    "    \"Logistic Regression\": LogisticRegression(max_iter=300, random_state=42)\n",
    "}\n",
    "\n",
    "results = {}\n",
    "for name, model in models.items():\n",
    "    model.fit(X_train_real, y_train_real)\n",
    "    y_pred = model.predict(X_test_real)\n",
    "    results[name] = {\n",
    "        \"Accuracy\": accuracy_score(y_test_real, y_pred),\n",
    "        \"Precision\": precision_score(y_test_real, y_pred, average='macro', zero_division=0),\n",
    "        \"Recall\": recall_score(y_test_real, y_pred, average='macro', zero_division=0),\n",
    "        \"F1 Score\": f1_score(y_test_real, y_pred, average='macro', zero_division=0)\n",
    "    }\n",
    "\n",
    "results_df = pd.DataFrame(results).T\n",
    "print(\"\\nClassifier Evaluation on Real Data:\")\n",
    "print(results_df)"
   ]
  },
  {
   "cell_type": "code",
   "execution_count": null,
   "id": "aeb32085-4fed-4dbd-82c4-ecc6130fbfa0",
   "metadata": {},
   "outputs": [],
   "source": []
  }
 ],
 "metadata": {
  "kernelspec": {
   "display_name": "Python 3 (ipykernel)",
   "language": "python",
   "name": "python3"
  },
  "language_info": {
   "codemirror_mode": {
    "name": "ipython",
    "version": 3
   },
   "file_extension": ".py",
   "mimetype": "text/x-python",
   "name": "python",
   "nbconvert_exporter": "python",
   "pygments_lexer": "ipython3",
   "version": "3.9.21"
  }
 },
 "nbformat": 4,
 "nbformat_minor": 5
}
