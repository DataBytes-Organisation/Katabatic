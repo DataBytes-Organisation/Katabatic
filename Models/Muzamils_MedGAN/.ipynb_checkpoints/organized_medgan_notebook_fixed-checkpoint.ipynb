{
 "cells": [
  {
   "cell_type": "markdown",
   "id": "22bb80ff",
   "metadata": {},
   "source": [
    "## Imports"
   ]
  },
  {
   "cell_type": "code",
   "execution_count": 3,
   "id": "9e160729-dfe3-43b1-a28b-75a24aff2f69",
   "metadata": {},
   "outputs": [],
   "source": [
    "from medgan_model import Medgan\n",
    "from data_loader import load_shuttle_data\n",
    "import numpy as np\n",
    "import matplotlib.pyplot as plt\n",
    "import tensorflow as tf\n",
    "from sklearn.model_selection import train_test_split\n",
    "from sklearn.metrics import accuracy_score, precision_score, recall_score, f1_score\n",
    "from sklearn.preprocessing import StandardScaler, LabelEncoder\n",
    "from sklearn.ensemble import RandomForestClassifier\n",
    "from sklearn.neural_network import MLPClassifier\n",
    "from sklearn.linear_model import LogisticRegression\n",
    "from xgboost import XGBClassifier\n",
    "import pandas as pd"
   ]
  },
  {
   "cell_type": "code",
   "execution_count": 4,
   "id": "15b9a955-6736-425c-bff9-5e451801081c",
   "metadata": {},
   "outputs": [],
   "source": [
    "from medgan_model import Medgan\n",
    "from data_loader import load_shuttle_data\n",
    "import numpy as np\n",
    "import matplotlib.pyplot as plt\n",
    "import tensorflow as tf\n",
    "from sklearn.model_selection import train_test_split\n",
    "from sklearn.metrics import roc_auc_score\n",
    "from sklearn.preprocessing import StandardScaler\n"
   ]
  },
  {
   "cell_type": "markdown",
   "id": "f219c21e",
   "metadata": {},
   "source": [
    "## Load and Preprocess Data"
   ]
  },
  {
   "cell_type": "code",
   "execution_count": 5,
   "id": "fd23e8f4-15d4-4a6d-afa3-952ccce8fbc0",
   "metadata": {},
   "outputs": [],
   "source": [
    "# --- Load and preprocess real shuttle data ---\n",
    "df = pd.read_csv(\"datasets/shuttle.csv\", header=None)\n",
    "X_real = df.iloc[:, :-1]\n",
    "y_real = df.iloc[:, -1]"
   ]
  },
  {
   "cell_type": "code",
   "execution_count": 6,
   "id": "12d863f1-5cb6-469f-9b6f-865129507225",
   "metadata": {},
   "outputs": [],
   "source": [
    "# --- Load data without labels for GAN training ---\n",
    "X_train, X_test = load_shuttle_data(\"datasets/shuttle.csv\")\n",
    "input_dim = X_train.shape[1]"
   ]
  },
  {
   "cell_type": "code",
   "execution_count": 7,
   "id": "52306cd9-7bf5-4477-ae2e-0227cbbd2a9a",
   "metadata": {},
   "outputs": [],
   "source": [
    "# --- Load Data ---\n",
    "X_train, X_test = load_shuttle_data(\"datasets/shuttle.csv\")\n",
    "input_dim = X_train.shape[1]"
   ]
  },
  {
   "cell_type": "markdown",
   "id": "d8736042",
   "metadata": {},
   "source": [
    "## Initialize and Train MedGAN"
   ]
  },
  {
   "cell_type": "code",
   "execution_count": 8,
   "id": "0ec5d2e9-dca8-4018-9474-37d2f2027bb1",
   "metadata": {},
   "outputs": [
    {
     "name": "stdout",
     "output_type": "stream",
     "text": [
      "Epoch 1/10 completed\n",
      "Epoch 2/10 completed\n",
      "Epoch 3/10 completed\n",
      "Epoch 4/10 completed\n",
      "Epoch 5/10 completed\n",
      "Epoch 6/10 completed\n",
      "Epoch 7/10 completed\n",
      "Epoch 8/10 completed\n",
      "Epoch 9/10 completed\n",
      "Epoch 10/10 completed\n"
     ]
    }
   ],
   "source": [
    "# --- Initialize and Train MedGAN ---\n",
    "medgan = Medgan(input_dim=input_dim, ae_loss_type='bce')\n",
    "optimizer = tf.keras.optimizers.Adam(learning_rate=0.0002)\n",
    "batch_size = 64\n",
    "n_epochs = 10\n",
    "\n",
    "for epoch in range(n_epochs):\n",
    "    np.random.shuffle(X_train)\n",
    "    for i in range(0, len(X_train), batch_size):\n",
    "        batch = X_train[i:i + batch_size]\n",
    "        noise = np.random.normal(size=(batch.shape[0], medgan.random_dim))\n",
    "        medgan.train_step(batch, noise)\n",
    "    print(f\"Epoch {epoch+1}/{n_epochs} completed\")"
   ]
  },
  {
   "cell_type": "code",
   "execution_count": 9,
   "id": "4894b145-bbf4-4f1d-a9cd-3533d418e987",
   "metadata": {},
   "outputs": [],
   "source": [
    "medgan = Medgan(input_dim=input_dim, ae_loss_type='bce')\n"
   ]
  },
  {
   "cell_type": "code",
   "execution_count": 10,
   "id": "7da650d2-9938-47a1-948e-a5e2f089b440",
   "metadata": {},
   "outputs": [],
   "source": [
    "# --- Initialize and Compile Model ---\n",
    "medgan = Medgan(input_dim=input_dim, ae_loss_type='bce')  # or 'mse' for real-valued\n",
    "optimizer = tf.keras.optimizers.Adam(learning_rate=0.0002)"
   ]
  },
  {
   "cell_type": "code",
   "execution_count": 11,
   "id": "474fd926-3f26-4677-ae09-517e505ab0d1",
   "metadata": {},
   "outputs": [
    {
     "name": "stdout",
     "output_type": "stream",
     "text": [
      "Epoch 1/10 | AE: 0.6877, D: 1.4328, G: 0.5934\n",
      "Epoch 2/10 | AE: 0.6858, D: 1.4330, G: 0.5926\n",
      "Epoch 3/10 | AE: 0.6862, D: 1.4306, G: 0.5964\n",
      "Epoch 4/10 | AE: 0.6864, D: 1.4381, G: 0.5880\n",
      "Epoch 5/10 | AE: 0.6894, D: 1.4415, G: 0.5857\n",
      "Epoch 6/10 | AE: 0.6869, D: 1.4424, G: 0.5838\n",
      "Epoch 7/10 | AE: 0.6875, D: 1.4494, G: 0.5808\n",
      "Epoch 8/10 | AE: 0.6863, D: 1.4303, G: 0.5945\n",
      "Epoch 9/10 | AE: 0.6861, D: 1.4362, G: 0.5901\n",
      "Epoch 10/10 | AE: 0.6891, D: 1.4363, G: 0.5899\n"
     ]
    }
   ],
   "source": [
    "# --- Training Loop ---\n",
    "ae_losses, d_losses, g_losses = [], [], []\n",
    "\n",
    "for epoch in range(n_epochs):\n",
    "    np.random.shuffle(X_train)\n",
    "    for i in range(0, len(X_train), batch_size):\n",
    "        batch = X_train[i:i + batch_size]\n",
    "        noise = np.random.normal(size=(batch.shape[0], medgan.random_dim))\n",
    "        ae_loss, d_loss, g_loss = medgan.train_step(batch, noise)\n",
    "\n",
    "    ae_losses.append(ae_loss.numpy())\n",
    "    d_losses.append(d_loss.numpy())\n",
    "    g_losses.append(g_loss.numpy())\n",
    "\n",
    "    print(f\"Epoch {epoch + 1}/{n_epochs} | AE: {ae_loss:.4f}, D: {d_loss:.4f}, G: {g_loss:.4f}\")"
   ]
  },
  {
   "cell_type": "code",
   "execution_count": 13,
   "id": "978b19c6-38a2-4b5e-b162-4935d8c36207",
   "metadata": {},
   "outputs": [],
   "source": [
    "# --- Load Data ---\n",
    "X_train, X_test = load_shuttle_data(\"datasets/shuttle.csv\")\n",
    "input_dim = X_train.shape[1]"
   ]
  },
  {
   "cell_type": "markdown",
   "id": "dd7b8f2c",
   "metadata": {},
   "source": [
    "## Generate Synthetic Data"
   ]
  },
  {
   "cell_type": "code",
   "execution_count": null,
   "id": "05fead18",
   "metadata": {},
   "outputs": [],
   "source": [
    "\n",
    "# --- Define X_train_real and related preprocessing variables ---\n",
    "import pandas as pd\n",
    "from sklearn.preprocessing import LabelEncoder, StandardScaler\n",
    "from sklearn.model_selection import train_test_split\n",
    "\n",
    "df = pd.read_csv(\"datasets/shuttle.csv\", header=None)\n",
    "X_real = df.iloc[:, :-1]\n",
    "y_real = df.iloc[:, -1]\n",
    "\n",
    "le = LabelEncoder()\n",
    "y_encoded = le.fit_transform(y_real)\n",
    "\n",
    "scaler = StandardScaler()\n",
    "X_scaled = scaler.fit_transform(X_real)\n",
    "\n",
    "X_train_real, X_test_real, y_train_real, y_test_real = train_test_split(\n",
    "    X_scaled, y_encoded, test_size=0.2, random_state=42\n",
    ")\n"
   ]
  },
  {
   "cell_type": "code",
   "execution_count": 14,
   "id": "483dfa9d-c410-483d-a5ed-16e2f6f8d85f",
   "metadata": {},
   "outputs": [
    {
     "ename": "NameError",
     "evalue": "name 'X_train_real' is not defined",
     "output_type": "error",
     "traceback": [
      "\u001b[1;31m---------------------------------------------------------------------------\u001b[0m",
      "\u001b[1;31mNameError\u001b[0m                                 Traceback (most recent call last)",
      "Cell \u001b[1;32mIn[14], line 2\u001b[0m\n\u001b[0;32m      1\u001b[0m \u001b[38;5;66;03m# --- Generate Synthetic Data ---\u001b[39;00m\n\u001b[1;32m----> 2\u001b[0m synthetic_data \u001b[38;5;241m=\u001b[39m medgan\u001b[38;5;241m.\u001b[39mgenerate_data(num_samples\u001b[38;5;241m=\u001b[39m\u001b[38;5;28mlen\u001b[39m(\u001b[43mX_train_real\u001b[49m))\n\u001b[0;32m      3\u001b[0m synthetic_data_scaled \u001b[38;5;241m=\u001b[39m scaler\u001b[38;5;241m.\u001b[39mtransform(synthetic_data)\n",
      "\u001b[1;31mNameError\u001b[0m: name 'X_train_real' is not defined"
     ]
    }
   ],
   "source": [
    "# --- Generate Synthetic Data ---\n",
    "synthetic_data = medgan.generate_data(num_samples=len(X_train_real))\n",
    "synthetic_data_scaled = scaler.transform(synthetic_data)  # Scale similarly"
   ]
  },
  {
   "cell_type": "code",
   "execution_count": 14,
   "id": "7a53bb23-be58-4778-bcc4-0c2c14511b34",
   "metadata": {},
   "outputs": [
    {
     "name": "stdout",
     "output_type": "stream",
     "text": [
      "Generated Data Shape: (100, 9)\n"
     ]
    }
   ],
   "source": [
    "# --- Generate Synthetic Data ---\n",
    "synthetic_data = medgan.generate_data(num_samples=100)\n",
    "print(\"Generated Data Shape:\", synthetic_data.shape)\n"
   ]
  },
  {
   "cell_type": "code",
   "execution_count": 20,
   "id": "43c849d7-6839-4b39-b703-88983712b02d",
   "metadata": {},
   "outputs": [
    {
     "name": "stdout",
     "output_type": "stream",
     "text": [
      "Generated Data Shape: (100, 9)\n"
     ]
    }
   ],
   "source": [
    "# --- Generate Synthetic Data ---\n",
    "synthetic_data = medgan.generate_data(num_samples=100)\n",
    "print(\"Generated Data Shape:\", synthetic_data.shape)\n"
   ]
  },
  {
   "cell_type": "markdown",
   "id": "3915129d",
   "metadata": {},
   "source": [
    "## Classifier Evaluation"
   ]
  },
  {
   "cell_type": "code",
   "execution_count": 15,
   "id": "0ee767b5-b05b-4bb0-af0d-f629bb044947",
   "metadata": {},
   "outputs": [],
   "source": [
    "# Encode target for XGBClassifier\n",
    "le = LabelEncoder()\n",
    "y_encoded = le.fit_transform(y_real)\n",
    "\n",
    "# Normalize features\n",
    "scaler = StandardScaler()\n",
    "X_scaled = scaler.fit_transform(X_real)\n",
    "\n",
    "# Train-test split\n",
    "X_train_real, X_test_real, y_train_real, y_test_real = train_test_split(X_scaled, y_encoded, test_size=0.2, random_state=42)"
   ]
  },
  {
   "cell_type": "code",
   "execution_count": 19,
   "id": "c4411015-aaf5-428c-8145-7b314de60664",
   "metadata": {},
   "outputs": [
    {
     "name": "stderr",
     "output_type": "stream",
     "text": [
      "C:\\Anaconda\\envs\\tf-env\\lib\\site-packages\\xgboost\\core.py:158: UserWarning: [05:51:56] WARNING: C:\\b\\abs_90_bwj_86a\\croot\\xgboost-split_1724073762025\\work\\src\\learner.cc:740: \n",
      "Parameters: { \"use_label_encoder\" } are not used.\n",
      "\n",
      "  warnings.warn(smsg, UserWarning)\n"
     ]
    },
    {
     "name": "stdout",
     "output_type": "stream",
     "text": [
      "\n",
      "Classifier Evaluation on Real Data:\n",
      "                     Accuracy  Precision    Recall  F1 Score\n",
      "Random Forest        0.998966   0.799522  0.791260  0.790563\n",
      "MLP Classifier       0.998966   0.790566  0.750000  0.767305\n",
      "XGB Classifier       0.999655   0.999928  0.999593  0.999761\n",
      "Logistic Regression  0.968621   0.480788  0.476037  0.478302\n"
     ]
    }
   ],
   "source": [
    "# --- Classifier Evaluation ---\n",
    "models = {\n",
    "    \"Random Forest\": RandomForestClassifier(random_state=42),\n",
    "    \"MLP Classifier\": MLPClassifier(max_iter=300, random_state=42),\n",
    "    \"XGB Classifier\": XGBClassifier(use_label_encoder=False, eval_metric='mlogloss', random_state=42),\n",
    "    \"Logistic Regression\": LogisticRegression(max_iter=300, random_state=42)\n",
    "}\n",
    "\n",
    "results = {}\n",
    "for name, model in models.items():\n",
    "    model.fit(X_train_real, y_train_real)\n",
    "    y_pred = model.predict(X_test_real)\n",
    "    results[name] = {\n",
    "        \"Accuracy\": accuracy_score(y_test_real, y_pred),\n",
    "        \"Precision\": precision_score(y_test_real, y_pred, average='macro', zero_division=0),\n",
    "        \"Recall\": recall_score(y_test_real, y_pred, average='macro', zero_division=0),\n",
    "        \"F1 Score\": f1_score(y_test_real, y_pred, average='macro', zero_division=0)\n",
    "    }\n",
    "\n",
    "results_df = pd.DataFrame(results).T\n",
    "print(\"\\nClassifier Evaluation on Real Data:\")\n",
    "print(results_df)"
   ]
  },
  {
   "cell_type": "code",
   "execution_count": null,
   "id": "aeb32085-4fed-4dbd-82c4-ecc6130fbfa0",
   "metadata": {},
   "outputs": [],
   "source": []
  },
  {
   "cell_type": "code",
   "execution_count": 17,
   "id": "a6f6cf60-141d-44ea-bb0d-f14435e29d23",
   "metadata": {},
   "outputs": [],
   "source": [
    "# --- Training Parameters ---\n",
    "batch_size = 64\n",
    "n_epochs = 50"
   ]
  },
  {
   "cell_type": "code",
   "execution_count": 19,
   "id": "d39e4f86-7464-42ab-99d5-147281173c37",
   "metadata": {},
   "outputs": [
    {
     "data": {
      "image/png": "[encoded data removed]",
      "text/plain": [
       "<Figure size 640x480 with 1 Axes>"
      ]
     },
     "metadata": {},
     "output_type": "display_data"
    }
   ],
   "source": [
    "# --- Plot Losses ---\n",
    "plt.plot(ae_losses, label='Autoencoder Loss')\n",
    "plt.plot(d_losses, label='Discriminator Loss')\n",
    "plt.plot(g_losses, label='Generator Loss')\n",
    "plt.xlabel(\"Epoch\")\n",
    "plt.ylabel(\"Loss\")\n",
    "plt.legend()\n",
    "plt.title(\"Training Loss Curves\")\n",
    "plt.show()"
   ]
  },
  {
   "cell_type": "code",
   "execution_count": null,
   "id": "f7e6806a-a366-4f68-a585-485fe822cba6",
   "metadata": {},
   "outputs": [],
   "source": [
    "# Optional: Save for later use\n",
    "np.save(\"generated_samples.npy\", synthetic_data)"
   ]
  }
 ],
 "metadata": {
  "kernelspec": {
   "display_name": "Python 3 (ipykernel)",
   "language": "python",
   "name": "python3"
  },
  "language_info": {
   "codemirror_mode": {
    "name": "ipython",
    "version": 3
   },
   "file_extension": ".py",
   "mimetype": "text/x-python",
   "name": "python",
   "nbconvert_exporter": "python",
   "pygments_lexer": "ipython3",
   "version": "3.9.21"
  }
 },
 "nbformat": 4,
 "nbformat_minor": 5
}
