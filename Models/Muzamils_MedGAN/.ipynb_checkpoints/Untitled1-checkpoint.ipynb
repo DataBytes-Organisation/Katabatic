{
 "cells": [
  {
   "cell_type": "code",
   "execution_count": null,
   "id": "f8472723-c93b-4e1c-928d-1e4e49c24eef",
   "metadata": {},
   "outputs": [],
   "source": [
    "# train_medgan.ipynb (extended with classifier evaluation)\n",
    "\n",
    "from medgan_model import Medgan\n",
    "from data_loader import load_shuttle_data\n",
    "import numpy as np\n",
    "import matplotlib.pyplot as plt\n",
    "import tensorflow as tf\n",
    "from sklearn.model_selection import train_test_split\n",
    "from sklearn.metrics import accuracy_score, precision_score, recall_score, f1_score\n",
    "from sklearn.preprocessing import StandardScaler, LabelEncoder\n",
    "from sklearn.ensemble import RandomForestClassifier\n",
    "from sklearn.neural_network import MLPClassifier\n",
    "from sklearn.linear_model import LogisticRegression\n",
    "from xgboost import XGBClassifier\n",
    "import pandas as pd"
   ]
  },
  {
   "cell_type": "code",
   "execution_count": null,
   "id": "e44472a6-4eaf-4077-927f-73fb8f0b8082",
   "metadata": {},
   "outputs": [],
   "source": [
    "# --- Load and preprocess real shuttle data ---\n",
    "df = pd.read_csv(\"datasets/shuttle.csv\", header=None)\n",
    "X_real = df.iloc[:, :-1]\n",
    "y_real = df.iloc[:, -1]"
   ]
  },
  {
   "cell_type": "code",
   "execution_count": null,
   "id": "3a5ba683-93b0-47fb-9986-dc8a384169dd",
   "metadata": {},
   "outputs": [],
   "source": [
    "# Encode target for XGBClassifier\n",
    "le = LabelEncoder()\n",
    "y_encoded = le.fit_transform(y_real)"
   ]
  },
  {
   "cell_type": "code",
   "execution_count": null,
   "id": "11fc271a-53b0-4415-8e86-73e79474f98d",
   "metadata": {},
   "outputs": [],
   "source": [
    "# Normalize features\n",
    "scaler = StandardScaler()\n",
    "X_scaled = scaler.fit_transform(X_real)"
   ]
  },
  {
   "cell_type": "code",
   "execution_count": null,
   "id": "a146605a-1169-49ac-ae46-197708ff0ffd",
   "metadata": {},
   "outputs": [],
   "source": [
    "# Train-test split\n",
    "X_train_real, X_test_real, y_train_real, y_test_real = train_test_split(X_scaled, y_encoded, test_size=0.2, random_state=42)\n",
    "\n",
    "# --- Load data without labels for GAN training ---\n",
    "X_train, X_test = load_shuttle_data(\"datasets/shuttle.csv\")\n",
    "input_dim = X_train.shape[1]"
   ]
  },
  {
   "cell_type": "code",
   "execution_count": null,
   "id": "e99bae8a-7340-4ba5-a91c-c9728c90e4a4",
   "metadata": {},
   "outputs": [],
   "source": [
    "# --- Initialize and Train MedGAN ---\n",
    "medgan = Medgan(input_dim=input_dim, ae_loss_type='bce')\n",
    "optimizer = tf.keras.optimizers.Adam(learning_rate=0.0002)\n",
    "batch_size = 64\n",
    "n_epochs = 10\n",
    "\n",
    "for epoch in range(n_epochs):\n",
    "    np.random.shuffle(X_train)\n",
    "    for i in range(0, len(X_train), batch_size):\n",
    "        batch = X_train[i:i + batch_size]\n",
    "        noise = np.random.normal(size=(batch.shape[0], medgan.random_dim))\n",
    "        medgan.train_step(batch, noise)\n",
    "    print(f\"Epoch {epoch+1}/{n_epochs} completed\")"
   ]
  },
  {
   "cell_type": "code",
   "execution_count": null,
   "id": "ab77f740-6bac-4fb3-b5f3-a12782d270b5",
   "metadata": {},
   "outputs": [],
   "source": [
    "# --- Generate Synthetic Data ---\n",
    "synthetic_data = medgan.generate_data(num_samples=len(X_train_real))\n",
    "synthetic_data_scaled = scaler.transform(synthetic_data)  # Scale similarly\n"
   ]
  },
  {
   "cell_type": "code",
   "execution_count": null,
   "id": "f1e87288-13f6-405a-9d34-e11cfe547af2",
   "metadata": {},
   "outputs": [],
   "source": [
    "# --- Classifier Evaluation ---\n",
    "models = {\n",
    "    \"Random Forest\": RandomForestClassifier(random_state=42),\n",
    "    \"MLP Classifier\": MLPClassifier(max_iter=300, random_state=42),\n",
    "    \"XGB Classifier\": XGBClassifier(use_label_encoder=False, eval_metric='mlogloss', random_state=42),\n",
    "    \"Logistic Regression\": LogisticRegression(max_iter=300, random_state=42)\n",
    "}\n",
    "\n",
    "results = {}\n",
    "for name, model in models.items():\n",
    "    model.fit(X_train_real, y_train_real)\n",
    "    y_pred = model.predict(X_test_real)\n",
    "    results[name] = {\n",
    "        \"Accuracy\": accuracy_score(y_test_real, y_pred),\n",
    "        \"Precision\": precision_score(y_test_real, y_pred, average='macro', zero_division=0),\n",
    "        \"Recall\": recall_score(y_test_real, y_pred, average='macro', zero_division=0),\n",
    "        \"F1 Score\": f1_score(y_test_real, y_pred, average='macro', zero_division=0)\n",
    "    }\n",
    "\n",
    "results_df = pd.DataFrame(results).T\n",
    "print(\"\\nClassifier Evaluation on Real Data:\")\n",
    "print(results_df)\n"
   ]
  },
  {
   "cell_type": "code",
   "execution_count": null,
   "id": "b7464f7d-ddf7-4364-a47d-a92f238a10e2",
   "metadata": {},
   "outputs": [],
   "source": []
  }
 ],
 "metadata": {
  "kernelspec": {
   "display_name": "Python 3 (ipykernel)",
   "language": "python",
   "name": "python3"
  },
  "language_info": {
   "codemirror_mode": {
    "name": "ipython",
    "version": 3
   },
   "file_extension": ".py",
   "mimetype": "text/x-python",
   "name": "python",
   "nbconvert_exporter": "python",
   "pygments_lexer": "ipython3",
   "version": "3.9.21"
  }
 },
 "nbformat": 4,
 "nbformat_minor": 5
}
