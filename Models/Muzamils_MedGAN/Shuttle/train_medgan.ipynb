{
 "cells": [
  {
   "cell_type": "markdown",
   "id": "4032fdf7",
   "metadata": {},
   "source": [
    "# MedGAN Training with 5-Fold Cross Validation"
   ]
  },
  {
   "cell_type": "markdown",
   "id": "22bb80ff",
   "metadata": {},
   "source": [
    "## Imports"
   ]
  },
  {
   "cell_type": "code",
   "execution_count": 1,
   "id": "9524f114",
   "metadata": {},
   "outputs": [],
   "source": [
    "from medgan_model import Medgan\n",
    "from data_loader import load_shuttle_data\n",
    "import numpy as np\n",
    "import matplotlib.pyplot as plt\n",
    "import tensorflow as tf\n",
    "from sklearn.model_selection import train_test_split\n",
    "from sklearn.metrics import accuracy_score, precision_score, recall_score, f1_score\n",
    "from sklearn.preprocessing import StandardScaler, LabelEncoder\n",
    "from sklearn.ensemble import RandomForestClassifier\n",
    "from sklearn.neural_network import MLPClassifier\n",
    "from sklearn.linear_model import LogisticRegression\n",
    "from xgboost import XGBClassifier\n",
    "import pandas as pd\n",
    "from sklearn.model_selection import KFold"
   ]
  },
  {
   "cell_type": "code",
   "execution_count": 2,
   "id": "2d51a37f",
   "metadata": {},
   "outputs": [],
   "source": [
    "from medgan_model import Medgan\n",
    "from data_loader import load_shuttle_data\n",
    "import numpy as np\n",
    "import matplotlib.pyplot as plt\n",
    "import tensorflow as tf\n",
    "from sklearn.model_selection import train_test_split\n",
    "from sklearn.metrics import roc_auc_score\n",
    "from sklearn.preprocessing import StandardScaler\n",
    "\n",
    "from sklearn.model_selection import KFold"
   ]
  },
  {
   "cell_type": "markdown",
   "id": "f219c21e",
   "metadata": {},
   "source": [
    "## Load and Preprocess Data"
   ]
  },
  {
   "cell_type": "code",
   "execution_count": 3,
   "id": "fd23e8f4-15d4-4a6d-afa3-952ccce8fbc0",
   "metadata": {},
   "outputs": [],
   "source": [
    "# --- Load and preprocess real shuttle data ---\n",
    "df = pd.read_csv(\"datasets/shuttle.csv\", header=None)\n",
    "X_real = df.iloc[:, :-1]\n",
    "y_real = df.iloc[:, -1]"
   ]
  },
  {
   "cell_type": "code",
   "execution_count": 4,
   "id": "12d863f1-5cb6-469f-9b6f-865129507225",
   "metadata": {},
   "outputs": [],
   "source": [
    "# --- Load data without labels for GAN training ---\n",
    "X_train, X_test = load_shuttle_data(\"datasets/shuttle.csv\", test_size=0.2, normalize=True, n_shuffle=10)\n",
    "input_dim = X_train.shape[1]"
   ]
  },
  {
   "cell_type": "code",
   "execution_count": 5,
   "id": "52306cd9-7bf5-4477-ae2e-0227cbbd2a9a",
   "metadata": {},
   "outputs": [],
   "source": [
    "# --- Load Data ---\n",
    "X_train, X_test = load_shuttle_data(\"datasets/shuttle.csv\", test_size=0.2, normalize=True, n_shuffle=10)\n",
    "input_dim = X_train.shape[1]"
   ]
  },
  {
   "cell_type": "markdown",
   "id": "d8736042",
   "metadata": {},
   "source": [
    "## Initialize and Train MedGAN"
   ]
  },
  {
   "cell_type": "code",
   "execution_count": 6,
   "id": "20b6645c",
   "metadata": {},
   "outputs": [
    {
     "name": "stdout",
     "output_type": "stream",
     "text": [
      "\n",
      "===== Fold 1 of 5 =====\n",
      "\n",
      "===== Fold 2 of 5 =====\n",
      "\n",
      "===== Fold 3 of 5 =====\n",
      "\n",
      "===== Fold 4 of 5 =====\n",
      "\n",
      "===== Fold 5 of 5 =====\n"
     ]
    }
   ],
   "source": [
    "\n",
    "# --- Apply 5-Fold Cross Validation ---\n",
    "kf = KFold(n_splits=5, shuffle=True, random_state=42)\n",
    "\n",
    "for fold, (train_idx, val_idx) in enumerate(kf.split(X_train)):\n",
    "    print(f\"\\n===== Fold {fold+1} of 5 =====\")\n",
    "    \n",
    "    # Prepare train and validation split\n",
    "    X_tr, X_val = X_train[train_idx], X_train[val_idx]\n",
    "    \n",
    "    # Now use X_tr for training instead of X_train\n"
   ]
  },
  {
   "cell_type": "code",
   "execution_count": 7,
   "id": "fe043ba8",
   "metadata": {},
   "outputs": [
    {
     "name": "stdout",
     "output_type": "stream",
     "text": [
      "Epoch 1/100 completed\n",
      "Epoch 2/100 completed\n",
      "Epoch 3/100 completed\n",
      "Epoch 4/100 completed\n",
      "Epoch 5/100 completed\n",
      "Epoch 6/100 completed\n",
      "Epoch 7/100 completed\n",
      "Epoch 8/100 completed\n",
      "Epoch 9/100 completed\n",
      "Epoch 10/100 completed\n",
      "Epoch 11/100 completed\n",
      "Epoch 12/100 completed\n",
      "Epoch 13/100 completed\n",
      "Epoch 14/100 completed\n",
      "Epoch 15/100 completed\n",
      "Epoch 16/100 completed\n",
      "Epoch 17/100 completed\n",
      "Epoch 18/100 completed\n",
      "Epoch 19/100 completed\n",
      "Epoch 20/100 completed\n",
      "Epoch 21/100 completed\n",
      "Epoch 22/100 completed\n",
      "Epoch 23/100 completed\n",
      "Epoch 24/100 completed\n",
      "Epoch 25/100 completed\n",
      "Epoch 26/100 completed\n",
      "Epoch 27/100 completed\n",
      "Epoch 28/100 completed\n",
      "Epoch 29/100 completed\n",
      "Epoch 30/100 completed\n",
      "Epoch 31/100 completed\n",
      "Epoch 32/100 completed\n",
      "Epoch 33/100 completed\n",
      "Epoch 34/100 completed\n",
      "Epoch 35/100 completed\n",
      "Epoch 36/100 completed\n",
      "Epoch 37/100 completed\n",
      "Epoch 38/100 completed\n",
      "Epoch 39/100 completed\n",
      "Epoch 40/100 completed\n",
      "Epoch 41/100 completed\n",
      "Epoch 42/100 completed\n",
      "Epoch 43/100 completed\n",
      "Epoch 44/100 completed\n",
      "Epoch 45/100 completed\n",
      "Epoch 46/100 completed\n",
      "Epoch 47/100 completed\n",
      "Epoch 48/100 completed\n",
      "Epoch 49/100 completed\n",
      "Epoch 50/100 completed\n",
      "Epoch 51/100 completed\n",
      "Epoch 52/100 completed\n",
      "Epoch 53/100 completed\n",
      "Epoch 54/100 completed\n",
      "Epoch 55/100 completed\n",
      "Epoch 56/100 completed\n",
      "Epoch 57/100 completed\n",
      "Epoch 58/100 completed\n",
      "Epoch 59/100 completed\n",
      "Epoch 60/100 completed\n",
      "Epoch 61/100 completed\n",
      "Epoch 62/100 completed\n",
      "Epoch 63/100 completed\n",
      "Epoch 64/100 completed\n",
      "Epoch 65/100 completed\n",
      "Epoch 66/100 completed\n",
      "Epoch 67/100 completed\n",
      "Epoch 68/100 completed\n",
      "Epoch 69/100 completed\n",
      "Epoch 70/100 completed\n",
      "Epoch 71/100 completed\n",
      "Epoch 72/100 completed\n",
      "Epoch 73/100 completed\n",
      "Epoch 74/100 completed\n",
      "Epoch 75/100 completed\n",
      "Epoch 76/100 completed\n",
      "Epoch 77/100 completed\n",
      "Epoch 78/100 completed\n",
      "Epoch 79/100 completed\n",
      "Epoch 80/100 completed\n",
      "Epoch 81/100 completed\n",
      "Epoch 82/100 completed\n",
      "Epoch 83/100 completed\n",
      "Epoch 84/100 completed\n",
      "Epoch 85/100 completed\n",
      "Epoch 86/100 completed\n",
      "Epoch 87/100 completed\n",
      "Epoch 88/100 completed\n",
      "Epoch 89/100 completed\n",
      "Epoch 90/100 completed\n",
      "Epoch 91/100 completed\n",
      "Epoch 92/100 completed\n",
      "Epoch 93/100 completed\n",
      "Epoch 94/100 completed\n",
      "Epoch 95/100 completed\n",
      "Epoch 96/100 completed\n",
      "Epoch 97/100 completed\n",
      "Epoch 98/100 completed\n",
      "Epoch 99/100 completed\n",
      "Epoch 100/100 completed\n"
     ]
    }
   ],
   "source": [
    "# --- Initialize and Train MedGAN ---\n",
    "medgan = Medgan(input_dim=input_dim, ae_loss_type='bce')\n",
    "optimizer = tf.keras.optimizers.Adam(learning_rate=0.0002)\n",
    "batch_size = 64\n",
    "n_epochs = 100\n",
    "\n",
    "for epoch in range(n_epochs):\n",
    "    np.random.shuffle(X_tr)\n",
    "    for i in range(0, len(X_tr), batch_size):\n",
    "        batch = X_tr[i:i + batch_size]\n",
    "        noise = np.random.normal(size=(batch.shape[0], medgan.random_dim))\n",
    "        medgan.train_step(batch, noise)\n",
    "    print(f\"Epoch {epoch+1}/{n_epochs} completed\")"
   ]
  },
  {
   "cell_type": "code",
   "execution_count": 8,
   "id": "4894b145-bbf4-4f1d-a9cd-3533d418e987",
   "metadata": {},
   "outputs": [],
   "source": [
    "medgan = Medgan(input_dim=input_dim, ae_loss_type='bce')\n"
   ]
  },
  {
   "cell_type": "code",
   "execution_count": 9,
   "id": "7da650d2-9938-47a1-948e-a5e2f089b440",
   "metadata": {},
   "outputs": [],
   "source": [
    "# --- Initialize and Compile Model ---\n",
    "medgan = Medgan(input_dim=input_dim, ae_loss_type='bce')  # or 'mse' for real-valued\n",
    "optimizer = tf.keras.optimizers.Adam(learning_rate=0.0002)"
   ]
  },
  {
   "cell_type": "code",
   "execution_count": 10,
   "id": "fcbe8d00",
   "metadata": {},
   "outputs": [
    {
     "name": "stdout",
     "output_type": "stream",
     "text": [
      "\n",
      "===== Fold 1 of 5 =====\n",
      "\n",
      "===== Fold 2 of 5 =====\n",
      "\n",
      "===== Fold 3 of 5 =====\n",
      "\n",
      "===== Fold 4 of 5 =====\n",
      "\n",
      "===== Fold 5 of 5 =====\n"
     ]
    }
   ],
   "source": [
    "\n",
    "# --- Apply 5-Fold Cross Validation ---\n",
    "kf = KFold(n_splits=5, shuffle=True, random_state=42)\n",
    "\n",
    "for fold, (train_idx, val_idx) in enumerate(kf.split(X_train)):\n",
    "    print(f\"\\n===== Fold {fold+1} of 5 =====\")\n",
    "    \n",
    "    # Prepare train and validation split\n",
    "    X_tr, X_val = X_train[train_idx], X_train[val_idx]\n",
    "    \n",
    "    # Now use X_tr for training instead of X_train\n"
   ]
  },
  {
   "cell_type": "code",
   "execution_count": 11,
   "id": "e40e69db",
   "metadata": {},
   "outputs": [
    {
     "name": "stdout",
     "output_type": "stream",
     "text": [
      "Epoch 1/100 | AE: 0.6885, D: 1.3820, G: 0.6485\n",
      "Epoch 2/100 | AE: 0.6889, D: 1.3815, G: 0.6466\n",
      "Epoch 3/100 | AE: 0.6888, D: 1.3875, G: 0.6423\n",
      "Epoch 4/100 | AE: 0.6885, D: 1.3831, G: 0.6484\n",
      "Epoch 5/100 | AE: 0.6888, D: 1.3841, G: 0.6458\n",
      "Epoch 6/100 | AE: 0.6891, D: 1.3809, G: 0.6473\n",
      "Epoch 7/100 | AE: 0.6884, D: 1.3832, G: 0.6476\n",
      "Epoch 8/100 | AE: 0.6891, D: 1.3812, G: 0.6478\n",
      "Epoch 9/100 | AE: 0.6888, D: 1.3848, G: 0.6451\n",
      "Epoch 10/100 | AE: 0.6885, D: 1.3833, G: 0.6479\n",
      "Epoch 11/100 | AE: 0.6888, D: 1.3823, G: 0.6480\n",
      "Epoch 12/100 | AE: 0.6887, D: 1.3832, G: 0.6467\n",
      "Epoch 13/100 | AE: 0.6885, D: 1.3821, G: 0.6482\n",
      "Epoch 14/100 | AE: 0.6886, D: 1.3847, G: 0.6456\n",
      "Epoch 15/100 | AE: 0.6884, D: 1.3849, G: 0.6466\n",
      "Epoch 16/100 | AE: 0.6883, D: 1.3828, G: 0.6485\n",
      "Epoch 17/100 | AE: 0.6884, D: 1.3815, G: 0.6492\n",
      "Epoch 18/100 | AE: 0.6887, D: 1.3838, G: 0.6468\n",
      "Epoch 19/100 | AE: 0.6885, D: 1.3847, G: 0.6467\n",
      "Epoch 20/100 | AE: 0.6885, D: 1.3837, G: 0.6479\n",
      "Epoch 21/100 | AE: 0.6885, D: 1.3839, G: 0.6474\n",
      "Epoch 22/100 | AE: 0.6886, D: 1.3833, G: 0.6472\n",
      "Epoch 23/100 | AE: 0.6882, D: 1.3858, G: 0.6465\n",
      "Epoch 24/100 | AE: 0.6886, D: 1.3853, G: 0.6455\n",
      "Epoch 25/100 | AE: 0.6887, D: 1.3805, G: 0.6493\n",
      "Epoch 26/100 | AE: 0.6882, D: 1.3835, G: 0.6481\n",
      "Epoch 27/100 | AE: 0.6877, D: 1.3842, G: 0.6489\n",
      "Epoch 28/100 | AE: 0.6885, D: 1.3819, G: 0.6486\n",
      "Epoch 29/100 | AE: 0.6888, D: 1.3782, G: 0.6512\n",
      "Epoch 30/100 | AE: 0.6885, D: 1.3815, G: 0.6486\n",
      "Epoch 31/100 | AE: 0.6884, D: 1.3818, G: 0.6495\n",
      "Epoch 32/100 | AE: 0.6881, D: 1.3828, G: 0.6500\n",
      "Epoch 33/100 | AE: 0.6885, D: 1.3851, G: 0.6466\n",
      "Epoch 34/100 | AE: 0.6880, D: 1.3823, G: 0.6499\n",
      "Epoch 35/100 | AE: 0.6887, D: 1.3830, G: 0.6462\n",
      "Epoch 36/100 | AE: 0.6885, D: 1.3812, G: 0.6494\n",
      "Epoch 37/100 | AE: 0.6884, D: 1.3845, G: 0.6468\n",
      "Epoch 38/100 | AE: 0.6886, D: 1.3823, G: 0.6480\n",
      "Epoch 39/100 | AE: 0.6886, D: 1.3842, G: 0.6462\n",
      "Epoch 40/100 | AE: 0.6886, D: 1.3805, G: 0.6509\n",
      "Epoch 41/100 | AE: 0.6889, D: 1.3817, G: 0.6481\n",
      "Epoch 42/100 | AE: 0.6883, D: 1.3857, G: 0.6470\n",
      "Epoch 43/100 | AE: 0.6886, D: 1.3829, G: 0.6475\n",
      "Epoch 44/100 | AE: 0.6886, D: 1.3808, G: 0.6501\n",
      "Epoch 45/100 | AE: 0.6880, D: 1.3865, G: 0.6456\n",
      "Epoch 46/100 | AE: 0.6886, D: 1.3838, G: 0.6461\n",
      "Epoch 47/100 | AE: 0.6884, D: 1.3799, G: 0.6513\n",
      "Epoch 48/100 | AE: 0.6885, D: 1.3831, G: 0.6466\n",
      "Epoch 49/100 | AE: 0.6884, D: 1.3820, G: 0.6491\n",
      "Epoch 50/100 | AE: 0.6884, D: 1.3822, G: 0.6490\n",
      "Epoch 51/100 | AE: 0.6886, D: 1.3793, G: 0.6508\n",
      "Epoch 52/100 | AE: 0.6886, D: 1.3799, G: 0.6501\n",
      "Epoch 53/100 | AE: 0.6887, D: 1.3845, G: 0.6456\n",
      "Epoch 54/100 | AE: 0.6893, D: 1.3801, G: 0.6473\n",
      "Epoch 55/100 | AE: 0.6888, D: 1.3790, G: 0.6500\n",
      "Epoch 56/100 | AE: 0.6890, D: 1.3848, G: 0.6448\n",
      "Epoch 57/100 | AE: 0.6889, D: 1.3799, G: 0.6494\n",
      "Epoch 58/100 | AE: 0.6882, D: 1.3828, G: 0.6491\n",
      "Epoch 59/100 | AE: 0.6884, D: 1.3839, G: 0.6469\n",
      "Epoch 60/100 | AE: 0.6885, D: 1.3853, G: 0.6459\n",
      "Epoch 61/100 | AE: 0.6883, D: 1.3842, G: 0.6476\n",
      "Epoch 62/100 | AE: 0.6887, D: 1.3824, G: 0.6479\n",
      "Epoch 63/100 | AE: 0.6884, D: 1.3836, G: 0.6480\n",
      "Epoch 64/100 | AE: 0.6884, D: 1.3829, G: 0.6483\n",
      "Epoch 65/100 | AE: 0.6886, D: 1.3819, G: 0.6482\n",
      "Epoch 66/100 | AE: 0.6889, D: 1.3816, G: 0.6489\n",
      "Epoch 67/100 | AE: 0.6884, D: 1.3842, G: 0.6463\n",
      "Epoch 68/100 | AE: 0.6881, D: 1.3845, G: 0.6473\n",
      "Epoch 69/100 | AE: 0.6887, D: 1.3833, G: 0.6474\n",
      "Epoch 70/100 | AE: 0.6889, D: 1.3845, G: 0.6455\n",
      "Epoch 71/100 | AE: 0.6887, D: 1.3838, G: 0.6457\n",
      "Epoch 72/100 | AE: 0.6887, D: 1.3806, G: 0.6497\n",
      "Epoch 73/100 | AE: 0.6883, D: 1.3833, G: 0.6476\n",
      "Epoch 74/100 | AE: 0.6882, D: 1.3836, G: 0.6477\n",
      "Epoch 75/100 | AE: 0.6884, D: 1.3878, G: 0.6443\n",
      "Epoch 76/100 | AE: 0.6887, D: 1.3828, G: 0.6468\n",
      "Epoch 77/100 | AE: 0.6890, D: 1.3803, G: 0.6488\n",
      "Epoch 78/100 | AE: 0.6886, D: 1.3834, G: 0.6477\n",
      "Epoch 79/100 | AE: 0.6889, D: 1.3818, G: 0.6472\n",
      "Epoch 80/100 | AE: 0.6880, D: 1.3868, G: 0.6455\n",
      "Epoch 81/100 | AE: 0.6884, D: 1.3839, G: 0.6479\n",
      "Epoch 82/100 | AE: 0.6885, D: 1.3801, G: 0.6505\n",
      "Epoch 83/100 | AE: 0.6882, D: 1.3836, G: 0.6481\n",
      "Epoch 84/100 | AE: 0.6887, D: 1.3828, G: 0.6480\n",
      "Epoch 85/100 | AE: 0.6884, D: 1.3825, G: 0.6483\n",
      "Epoch 86/100 | AE: 0.6891, D: 1.3806, G: 0.6468\n",
      "Epoch 87/100 | AE: 0.6886, D: 1.3835, G: 0.6472\n",
      "Epoch 88/100 | AE: 0.6883, D: 1.3874, G: 0.6442\n",
      "Epoch 89/100 | AE: 0.6888, D: 1.3811, G: 0.6480\n",
      "Epoch 90/100 | AE: 0.6885, D: 1.3811, G: 0.6496\n",
      "Epoch 91/100 | AE: 0.6887, D: 1.3843, G: 0.6473\n",
      "Epoch 92/100 | AE: 0.6888, D: 1.3817, G: 0.6475\n",
      "Epoch 93/100 | AE: 0.6887, D: 1.3816, G: 0.6487\n",
      "Epoch 94/100 | AE: 0.6884, D: 1.3830, G: 0.6481\n",
      "Epoch 95/100 | AE: 0.6889, D: 1.3797, G: 0.6500\n",
      "Epoch 96/100 | AE: 0.6888, D: 1.3805, G: 0.6486\n",
      "Epoch 97/100 | AE: 0.6888, D: 1.3798, G: 0.6494\n",
      "Epoch 98/100 | AE: 0.6886, D: 1.3828, G: 0.6484\n",
      "Epoch 99/100 | AE: 0.6885, D: 1.3833, G: 0.6483\n",
      "Epoch 100/100 | AE: 0.6887, D: 1.3791, G: 0.6505\n"
     ]
    }
   ],
   "source": [
    "# --- Training Loop ---\n",
    "ae_losses, d_losses, g_losses = [], [], []\n",
    "\n",
    "for epoch in range(n_epochs):\n",
    "    np.random.shuffle(X_tr)\n",
    "    for i in range(0, len(X_tr), batch_size):\n",
    "        batch = X_tr[i:i + batch_size]\n",
    "        noise = np.random.normal(size=(batch.shape[0], medgan.random_dim))\n",
    "        ae_loss, d_loss, g_loss = medgan.train_step(batch, noise)\n",
    "\n",
    "    ae_losses.append(ae_loss.numpy())\n",
    "    d_losses.append(d_loss.numpy())\n",
    "    g_losses.append(g_loss.numpy())\n",
    "\n",
    "    print(f\"Epoch {epoch + 1}/{n_epochs} | AE: {ae_loss:.4f}, D: {d_loss:.4f}, G: {g_loss:.4f}\")"
   ]
  },
  {
   "cell_type": "markdown",
   "id": "dd7b8f2c",
   "metadata": {},
   "source": [
    "## Generate Synthetic Data"
   ]
  },
  {
   "cell_type": "code",
   "execution_count": 12,
   "id": "4fb509f8",
   "metadata": {},
   "outputs": [],
   "source": [
    "\n",
    "# --- Define X_train_real and related preprocessing variables ---\n",
    "import pandas as pd\n",
    "from sklearn.preprocessing import LabelEncoder, StandardScaler\n",
    "from sklearn.model_selection import train_test_split\n",
    "\n",
    "df = pd.read_csv(\"datasets/shuttle.csv\", header=None)\n",
    "X_real = df.iloc[:, :-1]\n",
    "y_real = df.iloc[:, -1]\n",
    "\n",
    "le = LabelEncoder()\n",
    "y_encoded = le.fit_transform(y_real)\n",
    "\n",
    "scaler = StandardScaler()\n",
    "X_scaled = scaler.fit_transform(X_real)\n",
    "\n",
    "X_train_real, X_test_real, y_train_real, y_test_real = train_test_split(\n",
    "    X_scaled, y_encoded, test_size=0.2, random_state=42\n",
    ")\n",
    "\n",
    "from sklearn.model_selection import KFold"
   ]
  },
  {
   "cell_type": "code",
   "execution_count": 13,
   "id": "483dfa9d-c410-483d-a5ed-16e2f6f8d85f",
   "metadata": {},
   "outputs": [],
   "source": [
    "# --- Generate Synthetic Data ---\n",
    "synthetic_data = medgan.generate_data(num_samples=len(X_train_real))\n",
    "synthetic_data_scaled = scaler.transform(synthetic_data)  # Scale similarly"
   ]
  },
  {
   "cell_type": "code",
   "execution_count": 14,
   "id": "7a53bb23-be58-4778-bcc4-0c2c14511b34",
   "metadata": {},
   "outputs": [
    {
     "name": "stdout",
     "output_type": "stream",
     "text": [
      "Generated Data Shape: (1000, 9)\n"
     ]
    }
   ],
   "source": [
    "# --- Generate Synthetic Data ---\n",
    "synthetic_data = medgan.generate_data(num_samples=1000)\n",
    "print(\"Generated Data Shape:\", synthetic_data.shape)\n"
   ]
  },
  {
   "cell_type": "code",
   "execution_count": 15,
   "id": "43c849d7-6839-4b39-b703-88983712b02d",
   "metadata": {},
   "outputs": [
    {
     "name": "stdout",
     "output_type": "stream",
     "text": [
      "Generated Data Shape: (1000, 9)\n"
     ]
    }
   ],
   "source": [
    "# --- Generate Synthetic Data ---\n",
    "synthetic_data = medgan.generate_data(num_samples=1000)\n",
    "print(\"Generated Data Shape:\", synthetic_data.shape)\n"
   ]
  },
  {
   "cell_type": "markdown",
   "id": "3915129d",
   "metadata": {},
   "source": [
    "## Classifier Evaluation"
   ]
  },
  {
   "cell_type": "code",
   "execution_count": 16,
   "id": "0ee767b5-b05b-4bb0-af0d-f629bb044947",
   "metadata": {},
   "outputs": [],
   "source": [
    "# Encode target for XGBClassifier\n",
    "le = LabelEncoder()\n",
    "y_encoded = le.fit_transform(y_real)\n",
    "\n",
    "# Normalize features\n",
    "scaler = StandardScaler()\n",
    "X_scaled = scaler.fit_transform(X_real)\n",
    "\n",
    "# Train-test split\n",
    "X_train_real, X_test_real, y_train_real, y_test_real = train_test_split(X_scaled, y_encoded, test_size=0.2, random_state=42)"
   ]
  },
  {
   "cell_type": "code",
   "execution_count": 17,
   "id": "c4411015-aaf5-428c-8145-7b314de60664",
   "metadata": {
    "scrolled": true
   },
   "outputs": [
    {
     "name": "stderr",
     "output_type": "stream",
     "text": [
      "C:\\Anaconda\\envs\\medgan_env\\lib\\site-packages\\xgboost\\core.py:158: UserWarning: [21:26:47] WARNING: C:\\buildkite-agent\\builds\\buildkite-windows-cpu-autoscaling-group-i-08cbc0333d8d4aae1-1\\xgboost\\xgboost-ci-windows\\src\\learner.cc:740: \n",
      "Parameters: { \"use_label_encoder\" } are not used.\n",
      "\n",
      "  warnings.warn(smsg, UserWarning)\n"
     ]
    },
    {
     "name": "stdout",
     "output_type": "stream",
     "text": [
      "\n",
      "Classifier Evaluation on Real Data:\n",
      "                     Accuracy  Precision    Recall  F1 Score\n",
      "Random Forest        0.998966   0.799522  0.791260  0.790563\n",
      "MLP Classifier       0.998966   0.790566  0.750000  0.767305\n",
      "XGB Classifier       0.999655   0.999928  0.999593  0.999761\n",
      "Logistic Regression  0.968621   0.480788  0.476037  0.478302\n"
     ]
    }
   ],
   "source": [
    "# --- Classifier Evaluation ---\n",
    "models = {\n",
    "    \"Random Forest\": RandomForestClassifier(random_state=42),\n",
    "    \"MLP Classifier\": MLPClassifier(max_iter=300, random_state=42),\n",
    "    \"XGB Classifier\": XGBClassifier(use_label_encoder=False, eval_metric='mlogloss', random_state=42),\n",
    "    \"Logistic Regression\": LogisticRegression(max_iter=300, random_state=42)\n",
    "}\n",
    "\n",
    "results = {}\n",
    "for name, model in models.items():\n",
    "    model.fit(X_train_real, y_train_real)\n",
    "    y_pred = model.predict(X_test_real)\n",
    "    results[name] = {\n",
    "        \"Accuracy\": accuracy_score(y_test_real, y_pred),\n",
    "        \"Precision\": precision_score(y_test_real, y_pred, average='macro', zero_division=0),\n",
    "        \"Recall\": recall_score(y_test_real, y_pred, average='macro', zero_division=0),\n",
    "        \"F1 Score\": f1_score(y_test_real, y_pred, average='macro', zero_division=0)\n",
    "    }\n",
    "\n",
    "results_df = pd.DataFrame(results).T\n",
    "print(\"\\nClassifier Evaluation on Real Data:\")\n",
    "print(results_df)"
   ]
  },
  {
   "cell_type": "code",
   "execution_count": 21,
   "id": "a6f6cf60-141d-44ea-bb0d-f14435e29d23",
   "metadata": {},
   "outputs": [],
   "source": []
  },
  {
   "cell_type": "code",
   "execution_count": 22,
   "id": "d39e4f86-7464-42ab-99d5-147281173c37",
   "metadata": {},
   "outputs": [
    {
     "data": {
      "image/png": "[encoded data removed]",
      "text/plain": [
       "<Figure size 640x480 with 1 Axes>"
      ]
     },
     "metadata": {},
     "output_type": "display_data"
    }
   ],
   "source": [
    "# --- Plot Losses ---\n",
    "plt.plot(ae_losses, label='Autoencoder Loss')\n",
    "plt.plot(d_losses, label='Discriminator Loss')\n",
    "plt.plot(g_losses, label='Generator Loss')\n",
    "plt.xlabel(\"Epoch\")\n",
    "plt.ylabel(\"Loss\")\n",
    "plt.legend()\n",
    "plt.title(\"Training Loss Curves\")\n",
    "plt.show()"
   ]
  },
  {
   "cell_type": "code",
   "execution_count": null,
   "id": "f7e6806a-a366-4f68-a585-485fe822cba6",
   "metadata": {},
   "outputs": [],
   "source": [
    "# Optional: Save for later use\n",
    "np.save(\"generated_samples.npy\", synthetic_data)"
   ]
  }
 ],
 "metadata": {
  "kernelspec": {
   "display_name": "Python 3 (ipykernel)",
   "language": "python",
   "name": "python3"
  },
  "language_info": {
   "codemirror_mode": {
    "name": "ipython",
    "version": 3
   },
   "file_extension": ".py",
   "mimetype": "text/x-python",
   "name": "python",
   "nbconvert_exporter": "python",
   "pygments_lexer": "ipython3",
   "version": "3.9.21"
  }
 },
 "nbformat": 4,
 "nbformat_minor": 5
}
