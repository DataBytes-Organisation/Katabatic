{
 "cells": [
  {
   "cell_type": "code",
   "execution_count": 1,
   "metadata": {},
   "outputs": [],
   "source": [
    "import pandas as pd\n",
    "import numpy as np\n",
    "from ctgan_adapter import CtganAdapter\n",
    "from ctgan_benchmark import evaluate_ctgan, print_evaluation_results\n",
    "from ctgan_utils import preprocess_data, get_tstr_results\n",
    "import json"
   ]
  },
  {
   "cell_type": "code",
   "execution_count": 2,
   "metadata": {},
   "outputs": [
    {
     "name": "stdout",
     "output_type": "stream",
     "text": [
      "# Load configuration\n"
     ]
    }
   ],
   "source": [
    "# Load configuration\n",
    "print(\"# Load configuration\")\n",
    "with open(\"config.json\", \"r\") as f:\n",
    "    config = json.load(f)"
   ]
  },
  {
   "cell_type": "code",
   "execution_count": 3,
   "metadata": {},
   "outputs": [
    {
     "name": "stdout",
     "output_type": "stream",
     "text": [
      "# 1. Load and prepare the dataset\n",
      "Columns in dataset: ['class', 'region-centroid-col', 'region-centroid-row', 'region-pixel-count', 'short-line-density-5', 'short-line-density-2', 'vedge-mean', 'vedge-sd', 'hedge-mean', 'hedge-sd', 'intensity-mean', 'rawred-mean', 'rawblue-mean', 'rawgreen-mean', 'exred-mean', 'exblue-mean', 'exgreen-mean', 'value-mean', 'saturatoin-mean', 'hue-mean']\n",
      "Dataset shape: (2310, 20)\n",
      "   class  region-centroid-col  region-centroid-row  region-pixel-count  \\\n",
      "0  218.0                178.0                    9            0.111111   \n",
      "1  113.0                130.0                    9            0.000000   \n",
      "2  202.0                 41.0                    9            0.000000   \n",
      "3   32.0                173.0                    9            0.000000   \n",
      "4   61.0                197.0                    9            0.000000   \n",
      "\n",
      "   short-line-density-5  short-line-density-2  vedge-mean  vedge-sd  \\\n",
      "0                   0.0              0.833333    0.547722  1.111109   \n",
      "1                   0.0              0.277778    0.250924  0.333333   \n",
      "2                   0.0              0.944448    0.772202  1.111112   \n",
      "3                   0.0              1.722222    1.781593  9.000000   \n",
      "4                   0.0              1.444444    1.515353  2.611111   \n",
      "\n",
      "   hedge-mean    hedge-sd  intensity-mean  rawred-mean  rawblue-mean  \\\n",
      "0    0.544331   59.629630       52.444443    75.222220     51.222220   \n",
      "1    0.365148    0.888889        0.000000     2.555556      0.111111   \n",
      "2    1.025597  123.037040      111.888885   139.777790    117.444440   \n",
      "3    6.749488   43.592594       39.555557    52.888890     38.333336   \n",
      "4    1.925463   49.592594       44.222220    61.555557     43.000000   \n",
      "\n",
      "   rawgreen-mean  exred-mean  exblue-mean  exgreen-mean  value-mean  \\\n",
      "0     -21.555555    46.77778   -25.222221     75.222220    0.318996   \n",
      "1      -2.666667     5.00000    -2.333333      2.555556    1.000000   \n",
      "2     -33.444443    50.22222   -16.777779    139.777790    0.199347   \n",
      "3     -12.111111    27.88889   -15.777778     52.888890    0.266914   \n",
      "4     -16.111110    35.88889   -19.777779     61.555557    0.302925   \n",
      "\n",
      "   saturatoin-mean  hue-mean  \n",
      "0        -2.040554         6  \n",
      "1        -2.123254         3  \n",
      "2        -2.299918         2  \n",
      "3        -1.998857         6  \n",
      "4        -2.022274         6  \n"
     ]
    }
   ],
   "source": [
    "# 1. Load and prepare the dataset\n",
    "print(\"# 1. Load and prepare the dataset\")\n",
    "data_raw = pd.read_csv(\"SIGN.csv\")\n",
    "print(f\"Columns in dataset: {data_raw.columns.tolist()}\")\n",
    "print(f\"Dataset shape: {data_raw.shape}\")\n",
    "print(data_raw.head())"
   ]
  },
  {
   "cell_type": "code",
   "execution_count": 4,
   "metadata": {},
   "outputs": [
    {
     "name": "stderr",
     "output_type": "stream",
     "text": [
      "2025-03-31 13:44:40,253 - INFO - Converted region-centroid-row to category type (has 1 unique values)\n",
      "2025-03-31 13:44:40,253 - INFO - Converted hue-mean to category type (has 7 unique values)\n"
     ]
    },
    {
     "name": "stdout",
     "output_type": "stream",
     "text": [
      "\n",
      "# 2. Preprocess data and detect categorical columns\n",
      "Detected categorical columns: ['region-centroid-row', 'hue-mean']\n"
     ]
    }
   ],
   "source": [
    "# 2. Preprocess data and detect categorical columns\n",
    "print(\"\\n# 2. Preprocess data and detect categorical columns\")\n",
    "data, categorical_columns = preprocess_data(data_raw)\n",
    "print(f\"Detected categorical columns: {categorical_columns}\")"
   ]
  },
  {
   "cell_type": "code",
   "execution_count": 14,
   "metadata": {},
   "outputs": [
    {
     "name": "stdout",
     "output_type": "stream",
     "text": [
      "\n",
      "# 3. Define the target column for this dataset\n",
      "Target column: hue-mean\n"
     ]
    }
   ],
   "source": [
    "# 3. Define the target column for this dataset\n",
    "print(\"\\n# 3. Define the target column for this dataset\")\n",
    "target_column = \"hue-mean\"\n",
    "print(f\"Target column: {target_column}\")"
   ]
  },
  {
   "cell_type": "code",
   "execution_count": 15,
   "metadata": {},
   "outputs": [
    {
     "name": "stdout",
     "output_type": "stream",
     "text": [
      "\n",
      "# 4. Split the data into features and target\n",
      "Features shape: (2310, 19)\n",
      "Target shape: (2310,)\n",
      "Target distribution:\n",
      "hue-mean\n",
      "1    330\n",
      "2    330\n",
      "3    330\n",
      "4    330\n",
      "5    330\n",
      "6    330\n",
      "7    330\n",
      "Name: count, dtype: int64\n"
     ]
    }
   ],
   "source": [
    "# 4. Split the data into features and target\n",
    "print(\"\\n# 4. Split the data into features and target\")\n",
    "X = data.drop(columns=[target_column])\n",
    "y = data[target_column]\n",
    "print(f\"Features shape: {X.shape}\")\n",
    "print(f\"Target shape: {y.shape}\")\n",
    "print(f\"Target distribution:\\n{y.value_counts()}\")"
   ]
  },
  {
   "cell_type": "code",
   "execution_count": 16,
   "metadata": {},
   "outputs": [
    {
     "name": "stdout",
     "output_type": "stream",
     "text": [
      "\n",
      "# 5. Initialize and train CTGAN\n",
      "Training CTGAN model...\n"
     ]
    },
    {
     "name": "stderr",
     "output_type": "stream",
     "text": [
      "Training Epochs:   0%|          | 1/300 [00:02<13:22,  2.68s/it]"
     ]
    },
    {
     "name": "stdout",
     "output_type": "stream",
     "text": [
      "Epoch 0, Loss D: 22.6849, Loss G: 1.3231\n"
     ]
    },
    {
     "name": "stderr",
     "output_type": "stream",
     "text": [
      "Training Epochs:  10%|█         | 31/300 [01:30<13:32,  3.02s/it]"
     ]
    },
    {
     "name": "stdout",
     "output_type": "stream",
     "text": [
      "Epoch 30, Loss D: -1.5852, Loss G: 0.3105\n"
     ]
    },
    {
     "name": "stderr",
     "output_type": "stream",
     "text": [
      "Training Epochs:  20%|██        | 61/300 [03:01<12:55,  3.24s/it]"
     ]
    },
    {
     "name": "stdout",
     "output_type": "stream",
     "text": [
      "Epoch 60, Loss D: -1.9030, Loss G: 0.1972\n"
     ]
    },
    {
     "name": "stderr",
     "output_type": "stream",
     "text": [
      "Training Epochs:  30%|███       | 91/300 [04:34<10:15,  2.95s/it]"
     ]
    },
    {
     "name": "stdout",
     "output_type": "stream",
     "text": [
      "Epoch 90, Loss D: -1.7810, Loss G: 0.1217\n"
     ]
    },
    {
     "name": "stderr",
     "output_type": "stream",
     "text": [
      "Training Epochs:  40%|████      | 121/300 [06:03<08:49,  2.96s/it]"
     ]
    },
    {
     "name": "stdout",
     "output_type": "stream",
     "text": [
      "Epoch 120, Loss D: -1.7480, Loss G: 0.0051\n"
     ]
    },
    {
     "name": "stderr",
     "output_type": "stream",
     "text": [
      "Training Epochs:  50%|█████     | 151/300 [07:33<07:30,  3.03s/it]"
     ]
    },
    {
     "name": "stdout",
     "output_type": "stream",
     "text": [
      "Epoch 150, Loss D: -1.7598, Loss G: -0.0168\n"
     ]
    },
    {
     "name": "stderr",
     "output_type": "stream",
     "text": [
      "Training Epochs:  60%|██████    | 181/300 [09:02<06:00,  3.03s/it]"
     ]
    },
    {
     "name": "stdout",
     "output_type": "stream",
     "text": [
      "Epoch 180, Loss D: -1.9509, Loss G: 0.0924\n"
     ]
    },
    {
     "name": "stderr",
     "output_type": "stream",
     "text": [
      "Training Epochs:  70%|███████   | 211/300 [10:33<04:37,  3.12s/it]"
     ]
    },
    {
     "name": "stdout",
     "output_type": "stream",
     "text": [
      "Epoch 210, Loss D: -1.9713, Loss G: 0.1367\n"
     ]
    },
    {
     "name": "stderr",
     "output_type": "stream",
     "text": [
      "Training Epochs:  80%|████████  | 241/300 [12:02<02:59,  3.04s/it]"
     ]
    },
    {
     "name": "stdout",
     "output_type": "stream",
     "text": [
      "Epoch 240, Loss D: -2.0635, Loss G: 0.0676\n"
     ]
    },
    {
     "name": "stderr",
     "output_type": "stream",
     "text": [
      "Training Epochs:  90%|█████████ | 271/300 [13:31<01:24,  2.93s/it]"
     ]
    },
    {
     "name": "stdout",
     "output_type": "stream",
     "text": [
      "Epoch 270, Loss D: -2.1284, Loss G: 0.0880\n"
     ]
    },
    {
     "name": "stderr",
     "output_type": "stream",
     "text": [
      "Training Epochs: 100%|██████████| 300/300 [14:57<00:00,  2.99s/it]"
     ]
    },
    {
     "name": "stdout",
     "output_type": "stream",
     "text": [
      "Training completed\n"
     ]
    },
    {
     "name": "stderr",
     "output_type": "stream",
     "text": [
      "\n"
     ]
    }
   ],
   "source": [
    "# 5. Initialize and train CTGAN\n",
    "print(\"\\n# 5. Initialize and train CTGAN\")\n",
    "ctgan = CtganAdapter(**config[\"ctgan_params\"])\n",
    "print(\"Training CTGAN model...\")\n",
    "ctgan.fit(X, y)\n",
    "print(\"Training completed\")"
   ]
  },
  {
   "cell_type": "code",
   "execution_count": 17,
   "metadata": {},
   "outputs": [
    {
     "name": "stdout",
     "output_type": "stream",
     "text": [
      "\n",
      "# 6. Generate synthetic data\n",
      "Generating 1000 synthetic samples...\n",
      "Generated 1000 synthetic samples\n",
      "Synthetic data head:\n",
      "        class  region-centroid-col  region-centroid-row  region-pixel-count  \\\n",
      "0  108.776090            54.207259                    9            0.000000   \n",
      "1   55.795674            26.721259                    9            0.000000   \n",
      "2  200.759431           172.013136                    9            0.000108   \n",
      "3   75.637295           102.567914                    9            0.000000   \n",
      "4    9.006460           119.666484                    9            0.000000   \n",
      "\n",
      "   short-line-density-5  short-line-density-2  vedge-mean  vedge-sd  \\\n",
      "0              0.000000              0.910067    1.135094  0.830491   \n",
      "1              0.000000              0.414667    0.358131  1.103272   \n",
      "2              0.000000              0.638769    0.000000  2.155316   \n",
      "3              0.000179              0.407835    1.607726  1.057736   \n",
      "4              0.000111              0.384901    1.148091  0.570939   \n",
      "\n",
      "     hedge-mean   hedge-sd  intensity-mean  rawred-mean  rawblue-mean  \\\n",
      "0 -1.589457e-08   9.456339       89.957667   118.023386     10.998396   \n",
      "1  7.787058e-01  72.362577       57.915172    90.738138     59.551921   \n",
      "2  9.078758e-01  47.924614       43.647641    68.276701     40.887715   \n",
      "3  5.627687e-01   5.933038        3.043251     7.080938      4.447693   \n",
      "4  1.287447e+00   6.494637        1.324908    10.927075      3.726118   \n",
      "\n",
      "   rawgreen-mean  exred-mean  exblue-mean  exgreen-mean  value-mean  \\\n",
      "0     -31.454263    1.282194   -15.648137    119.809799    0.315717   \n",
      "1     -15.554948   32.991788   -15.694749     74.998116    0.222766   \n",
      "2     -18.172724   21.006421   -12.352376     62.605455    0.133498   \n",
      "3       3.187704    8.496272    -9.858605     11.119984    0.638150   \n",
      "4     -11.792405    6.155126    -3.323482      9.458800    0.985518   \n",
      "\n",
      "   saturatoin-mean  hue-mean  \n",
      "0         2.168854         2  \n",
      "1        -1.956014         4  \n",
      "2        -1.935185         6  \n",
      "3        -0.701845         1  \n",
      "4        -2.177671         3  \n"
     ]
    }
   ],
   "source": [
    "# 6. Generate synthetic data\n",
    "print(\"\\n# 6. Generate synthetic data\")\n",
    "n_samples = 1000  \n",
    "print(f\"Generating {n_samples} synthetic samples...\")\n",
    "synthetic_data = ctgan.generate(n_samples)\n",
    "print(f\"Generated {len(synthetic_data)} synthetic samples\")\n",
    "print(\"Synthetic data head:\")\n",
    "print(synthetic_data.head())"
   ]
  },
  {
   "cell_type": "code",
   "execution_count": 18,
   "metadata": {},
   "outputs": [
    {
     "name": "stdout",
     "output_type": "stream",
     "text": [
      "\n",
      "# 7. Evaluate quality using TSTR and other metrics\n",
      "Running evaluation...\n"
     ]
    },
    {
     "name": "stderr",
     "output_type": "stream",
     "text": [
      "2025-03-31 15:30:12,091 - INFO - Encoded categorical target with mapping: {1: 0, 2: 1, 3: 2, 4: 3, 5: 4, 6: 5, 7: 6}\n",
      "c:\\Users\\kamal\\OneDrive\\Documents\\Vilo\\DEAKIN\\TRIMESTER 1 2025\\SIT378 TEAM PROJECT B\\KatabaticGitRepo\\sit378\\lib\\site-packages\\xgboost\\core.py:158: UserWarning: [15:30:20] WARNING: C:\\buildkite-agent\\builds\\buildkite-windows-cpu-autoscaling-group-i-08cbc0333d8d4aae1-1\\xgboost\\xgboost-ci-windows\\src\\learner.cc:740: \n",
      "Parameters: { \"use_label_encoder\" } are not used.\n",
      "\n",
      "  warnings.warn(smsg, UserWarning)\n",
      "2025-03-31 15:30:20,720 - INFO - Encoded categorical targets with mapping: {1: 0, 2: 1, 3: 2, 4: 3, 5: 4, 6: 5, 7: 6}\n",
      "c:\\Users\\kamal\\OneDrive\\Documents\\Vilo\\DEAKIN\\TRIMESTER 1 2025\\SIT378 TEAM PROJECT B\\KatabaticGitRepo\\sit378\\lib\\site-packages\\sklearn\\neural_network\\_multilayer_perceptron.py:614: ConvergenceWarning: Stochastic Optimizer: Maximum iterations (1000) reached and the optimization hasn't converged yet.\n",
      "  warnings.warn(\n",
      "c:\\Users\\kamal\\OneDrive\\Documents\\Vilo\\DEAKIN\\TRIMESTER 1 2025\\SIT378 TEAM PROJECT B\\KatabaticGitRepo\\sit378\\lib\\site-packages\\xgboost\\core.py:158: UserWarning: [15:30:29] WARNING: C:\\buildkite-agent\\builds\\buildkite-windows-cpu-autoscaling-group-i-08cbc0333d8d4aae1-1\\xgboost\\xgboost-ci-windows\\src\\learner.cc:740: \n",
      "Parameters: { \"use_label_encoder\" } are not used.\n",
      "\n",
      "  warnings.warn(smsg, UserWarning)\n",
      "2025-03-31 15:30:29,666 - INFO - CTGAN Evaluation Results:\n",
      "2025-03-31 15:30:29,667 - INFO - \n",
      "Likelihood Fitness Metrics:\n",
      "2025-03-31 15:30:29,667 - INFO -   - Lsyn (Synthetic Data Log-Likelihood): -33.8806\n",
      "2025-03-31 15:30:29,668 - INFO -   - Ltest (Real Data Log-Likelihood under Synthetic Model): -267.3284\n",
      "2025-03-31 15:30:29,668 - INFO - \n",
      "Statistical Similarity Metrics:\n",
      "2025-03-31 15:30:29,668 - INFO -   - Jensen-Shannon Divergence Mean (Categorical): 0.0000\n",
      "2025-03-31 15:30:29,668 - INFO -   - Wasserstein Distance Mean (Numerical): 2.4631\n",
      "2025-03-31 15:30:29,670 - INFO - \n",
      "Machine Learning Efficacy Metrics on Real Data:\n",
      "2025-03-31 15:30:29,670 - INFO -   LogisticRegression:\n",
      "2025-03-31 15:30:29,670 - INFO -     - Accuracy: 0.9264\n",
      "2025-03-31 15:30:29,670 - INFO -     - F1: 0.9266\n",
      "2025-03-31 15:30:29,672 - INFO -   RandomForest:\n",
      "2025-03-31 15:30:29,672 - INFO -     - Accuracy: 0.9675\n",
      "2025-03-31 15:30:29,672 - INFO -     - F1: 0.9675\n",
      "2025-03-31 15:30:29,672 - INFO -   MLP:\n",
      "2025-03-31 15:30:29,672 - INFO -     - Accuracy: 0.9740\n",
      "2025-03-31 15:30:29,674 - INFO -     - F1: 0.9740\n",
      "2025-03-31 15:30:29,674 - INFO -   XGBoost:\n",
      "2025-03-31 15:30:29,674 - INFO -     - Accuracy: 0.9827\n",
      "2025-03-31 15:30:29,675 - INFO -     - F1: 0.9827\n",
      "2025-03-31 15:30:29,675 - INFO - \n",
      "Machine Learning Utility using TSTR Approach:\n",
      "2025-03-31 15:30:29,675 - INFO -   LogisticRegression:\n",
      "2025-03-31 15:30:29,675 - INFO -     - Accuracy: 0.8446\n",
      "2025-03-31 15:30:29,677 - INFO -     - F1: 0.8395\n",
      "2025-03-31 15:30:29,677 - INFO -   RandomForest:\n",
      "2025-03-31 15:30:29,677 - INFO -     - Accuracy: 0.8680\n",
      "2025-03-31 15:30:29,677 - INFO -     - F1: 0.8646\n",
      "2025-03-31 15:30:29,677 - INFO -   MLP:\n",
      "2025-03-31 15:30:29,679 - INFO -     - Accuracy: 0.8061\n",
      "2025-03-31 15:30:29,679 - INFO -     - F1: 0.8040\n",
      "2025-03-31 15:30:29,679 - INFO -   XGBoost:\n",
      "2025-03-31 15:30:29,681 - INFO -     - Accuracy: 0.8740\n",
      "2025-03-31 15:30:29,681 - INFO -     - F1: 0.8732\n"
     ]
    }
   ],
   "source": [
    "# 7. Evaluate quality using TSTR and other metrics\n",
    "print(\"\\n# 7. Evaluate quality using TSTR and other metrics\")\n",
    "print(\"Running evaluation...\")\n",
    "evaluation_results = evaluate_ctgan(data, synthetic_data, target_column=target_column)\n",
    "print_evaluation_results(evaluation_results)\n"
   ]
  },
  {
   "cell_type": "code",
   "execution_count": 19,
   "metadata": {},
   "outputs": [
    {
     "name": "stdout",
     "output_type": "stream",
     "text": [
      "\n",
      "# 8. TSTR Performance Results\n",
      "                    Accuracy        F1\n",
      "LogisticRegression  0.844589  0.839476\n",
      "RandomForest        0.867965  0.864580\n",
      "MLP                 0.806061  0.804005\n",
      "XGBoost             0.874026  0.873199\n"
     ]
    }
   ],
   "source": [
    "# 8. Extract and display TSTR results specifically\n",
    "print(\"\\n# 8. TSTR Performance Results\")\n",
    "tstr_results = get_tstr_results(evaluation_results)\n",
    "if tstr_results is not None:\n",
    "    print(tstr_results)"
   ]
  },
  {
   "cell_type": "code",
   "execution_count": 20,
   "metadata": {},
   "outputs": [
    {
     "name": "stdout",
     "output_type": "stream",
     "text": [
      "\n",
      "# 9. Save synthetic data\n",
      "Synthetic data saved to SIGN_synthetic.csv\n",
      "\n",
      "Test completed successfully!\n"
     ]
    }
   ],
   "source": [
    "# 9. Save the synthetic data\n",
    "print(\"\\n# 9. Save synthetic data\")\n",
    "output_path = \"SIGN_synthetic.csv\"\n",
    "synthetic_data.to_csv(output_path, index=False)\n",
    "print(f\"Synthetic data saved to {output_path}\")\n",
    "\n",
    "print(\"\\nTest completed successfully!\")"
   ]
  }
 ],
 "metadata": {
  "kernelspec": {
   "display_name": "sit378",
   "language": "python",
   "name": "python3"
  },
  "language_info": {
   "codemirror_mode": {
    "name": "ipython",
    "version": 3
   },
   "file_extension": ".py",
   "mimetype": "text/x-python",
   "name": "python",
   "nbconvert_exporter": "python",
   "pygments_lexer": "ipython3",
   "version": "3.9.13"
  }
 },
 "nbformat": 4,
 "nbformat_minor": 2
}
