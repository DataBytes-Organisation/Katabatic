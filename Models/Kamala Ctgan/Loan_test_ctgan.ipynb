{
 "cells": [
  {
   "cell_type": "code",
   "execution_count": 13,
   "metadata": {},
   "outputs": [],
   "source": [
    "import pandas as pd\n",
    "import numpy as np\n",
    "from ctgan_adapter import CtganAdapter\n",
    "from ctgan_benchmark import evaluate_ctgan, print_evaluation_results\n",
    "from ctgan_utils import preprocess_data, get_tstr_results\n",
    "import json"
   ]
  },
  {
   "cell_type": "code",
   "execution_count": 14,
   "metadata": {},
   "outputs": [
    {
     "name": "stdout",
     "output_type": "stream",
     "text": [
      "# Load configuration\n"
     ]
    }
   ],
   "source": [
    "# Load configuration\n",
    "print(\"# Load configuration\")\n",
    "with open(\"config.json\", \"r\") as f:\n",
    "    config = json.load(f)"
   ]
  },
  {
   "cell_type": "code",
   "execution_count": 15,
   "metadata": {},
   "outputs": [
    {
     "name": "stdout",
     "output_type": "stream",
     "text": [
      "# 1. Load and prepare the dataset\n",
      "Columns in dataset: ['ID', 'Age', 'Experience', 'Income', 'ZIP Code', 'Family', 'CCAvg', 'Education', 'Mortgage', 'Personal Loan', 'Securities Account', 'CD Account', 'Online', 'CreditCard']\n",
      "Dataset shape: (5000, 14)\n",
      "   ID  Age  Experience  Income  ZIP Code  Family CCAvg  Education  Mortgage  \\\n",
      "0   1   25           1      49     91107       4  1/60          1         0   \n",
      "1   2   45          19      34     90089       3  1/50          1         0   \n",
      "2   3   39          15      11     94720       1  1/00          1         0   \n",
      "3   4   35           9     100     94112       1  2/70          2         0   \n",
      "4   5   35           8      45     91330       4  1/00          2         0   \n",
      "\n",
      "   Personal Loan  Securities Account  CD Account  Online  CreditCard  \n",
      "0              0                   1           0       0           0  \n",
      "1              0                   1           0       0           0  \n",
      "2              0                   0           0       0           0  \n",
      "3              0                   0           0       0           0  \n",
      "4              0                   0           0       0           1  \n"
     ]
    }
   ],
   "source": [
    "# 1. Load and prepare the dataset\n",
    "print(\"# 1. Load and prepare the dataset\")\n",
    "data_raw = pd.read_csv(\"Bank_Personal_Loan.csv\")\n",
    "print(f\"Columns in dataset: {data_raw.columns.tolist()}\")\n",
    "print(f\"Dataset shape: {data_raw.shape}\")\n",
    "print(data_raw.head())"
   ]
  },
  {
   "cell_type": "code",
   "execution_count": 16,
   "metadata": {},
   "outputs": [
    {
     "name": "stderr",
     "output_type": "stream",
     "text": [
      "2025-03-31 10:52:45,610 - INFO - Converted Family to category type (has 4 unique values)\n",
      "2025-03-31 10:52:45,612 - INFO - Converted CCAvg to category type (has 108 unique values)\n",
      "2025-03-31 10:52:45,615 - INFO - Converted Education to category type (has 3 unique values)\n",
      "2025-03-31 10:52:45,616 - INFO - Converted Personal Loan to category type (has 2 unique values)\n",
      "2025-03-31 10:52:45,619 - INFO - Converted Securities Account to category type (has 2 unique values)\n",
      "2025-03-31 10:52:45,621 - INFO - Converted CD Account to category type (has 2 unique values)\n",
      "2025-03-31 10:52:45,623 - INFO - Converted Online to category type (has 2 unique values)\n",
      "2025-03-31 10:52:45,624 - INFO - Converted CreditCard to category type (has 2 unique values)\n"
     ]
    },
    {
     "name": "stdout",
     "output_type": "stream",
     "text": [
      "\n",
      "# 2. Preprocess data and detect categorical columns\n",
      "Detected categorical columns: ['Family', 'CCAvg', 'Education', 'Personal Loan', 'Securities Account', 'CD Account', 'Online', 'CreditCard']\n"
     ]
    }
   ],
   "source": [
    "# 2. Preprocess data and detect categorical columns\n",
    "print(\"\\n# 2. Preprocess data and detect categorical columns\")\n",
    "data, categorical_columns = preprocess_data(data_raw)\n",
    "print(f\"Detected categorical columns: {categorical_columns}\")"
   ]
  },
  {
   "cell_type": "code",
   "execution_count": 17,
   "metadata": {},
   "outputs": [
    {
     "name": "stdout",
     "output_type": "stream",
     "text": [
      "\n",
      "# 3. Define the target column for this dataset\n",
      "Target column: Personal Loan\n"
     ]
    }
   ],
   "source": [
    "# 3. Define the target column for this dataset\n",
    "print(\"\\n# 3. Define the target column for this dataset\")\n",
    "target_column = \"Personal Loan\"\n",
    "print(f\"Target column: {target_column}\")"
   ]
  },
  {
   "cell_type": "code",
   "execution_count": 18,
   "metadata": {},
   "outputs": [
    {
     "name": "stdout",
     "output_type": "stream",
     "text": [
      "\n",
      "# 4. Split the data into features and target\n",
      "Features shape: (5000, 13)\n",
      "Target shape: (5000,)\n",
      "Target distribution:\n",
      "Personal Loan\n",
      "0    4520\n",
      "1     480\n",
      "Name: count, dtype: int64\n"
     ]
    }
   ],
   "source": [
    "# 4. Split the data into features and target\n",
    "print(\"\\n# 4. Split the data into features and target\")\n",
    "X = data.drop(columns=[target_column])\n",
    "y = data[target_column]\n",
    "print(f\"Features shape: {X.shape}\")\n",
    "print(f\"Target shape: {y.shape}\")\n",
    "print(f\"Target distribution:\\n{y.value_counts()}\")"
   ]
  },
  {
   "cell_type": "code",
   "execution_count": 19,
   "metadata": {},
   "outputs": [
    {
     "name": "stdout",
     "output_type": "stream",
     "text": [
      "\n",
      "# 5. Initialize and train CTGAN\n",
      "Training CTGAN model...\n"
     ]
    },
    {
     "name": "stderr",
     "output_type": "stream",
     "text": [
      "c:\\Users\\kamal\\OneDrive\\Documents\\Vilo\\DEAKIN\\TRIMESTER 1 2025\\SIT378 TEAM PROJECT B\\KatabaticGitRepo\\sit378\\lib\\site-packages\\sklearn\\mixture\\_base.py:265: ConvergenceWarning: Initialization 1 did not converge. Try different init parameters, or increase max_iter, tol or check for degenerate data.\n",
      "  warnings.warn('Initialization %d did not converge. '\n",
      "Training Epochs:   0%|          | 1/300 [00:14<1:13:25, 14.73s/it]"
     ]
    },
    {
     "name": "stdout",
     "output_type": "stream",
     "text": [
      "Epoch 0, Loss D: 5.4190, Loss G: 0.7946\n"
     ]
    },
    {
     "name": "stderr",
     "output_type": "stream",
     "text": [
      "Training Epochs:  10%|█         | 31/300 [10:13<1:44:49, 23.38s/it]"
     ]
    },
    {
     "name": "stdout",
     "output_type": "stream",
     "text": [
      "Epoch 30, Loss D: -0.8237, Loss G: 0.5491\n"
     ]
    },
    {
     "name": "stderr",
     "output_type": "stream",
     "text": [
      "Training Epochs:  20%|██        | 61/300 [19:04<1:07:42, 17.00s/it]"
     ]
    },
    {
     "name": "stdout",
     "output_type": "stream",
     "text": [
      "Epoch 60, Loss D: -1.0479, Loss G: 0.6288\n"
     ]
    },
    {
     "name": "stderr",
     "output_type": "stream",
     "text": [
      "Training Epochs:  30%|███       | 91/300 [27:32<1:00:48, 17.46s/it]"
     ]
    },
    {
     "name": "stdout",
     "output_type": "stream",
     "text": [
      "Epoch 90, Loss D: -1.8690, Loss G: 0.6165\n"
     ]
    },
    {
     "name": "stderr",
     "output_type": "stream",
     "text": [
      "Training Epochs:  40%|████      | 121/300 [35:57<49:09, 16.48s/it] "
     ]
    },
    {
     "name": "stdout",
     "output_type": "stream",
     "text": [
      "Epoch 120, Loss D: -2.6941, Loss G: 0.5433\n"
     ]
    },
    {
     "name": "stderr",
     "output_type": "stream",
     "text": [
      "Training Epochs:  50%|█████     | 151/300 [44:12<41:37, 16.76s/it]"
     ]
    },
    {
     "name": "stdout",
     "output_type": "stream",
     "text": [
      "Epoch 150, Loss D: -3.0312, Loss G: 0.6166\n"
     ]
    },
    {
     "name": "stderr",
     "output_type": "stream",
     "text": [
      "Training Epochs:  60%|██████    | 181/300 [52:40<32:39, 16.47s/it]"
     ]
    },
    {
     "name": "stdout",
     "output_type": "stream",
     "text": [
      "Epoch 180, Loss D: -3.1334, Loss G: 0.7197\n"
     ]
    },
    {
     "name": "stderr",
     "output_type": "stream",
     "text": [
      "Training Epochs:  70%|███████   | 211/300 [1:00:54<24:37, 16.60s/it]"
     ]
    },
    {
     "name": "stdout",
     "output_type": "stream",
     "text": [
      "Epoch 210, Loss D: -3.1584, Loss G: 0.7333\n"
     ]
    },
    {
     "name": "stderr",
     "output_type": "stream",
     "text": [
      "Training Epochs:  80%|████████  | 241/300 [1:09:24<17:17, 17.59s/it]"
     ]
    },
    {
     "name": "stdout",
     "output_type": "stream",
     "text": [
      "Epoch 240, Loss D: -3.2288, Loss G: 0.8066\n"
     ]
    },
    {
     "name": "stderr",
     "output_type": "stream",
     "text": [
      "Training Epochs:  90%|█████████ | 271/300 [1:17:43<07:59, 16.53s/it]"
     ]
    },
    {
     "name": "stdout",
     "output_type": "stream",
     "text": [
      "Epoch 270, Loss D: -3.2557, Loss G: 0.7479\n"
     ]
    },
    {
     "name": "stderr",
     "output_type": "stream",
     "text": [
      "Training Epochs: 100%|██████████| 300/300 [1:25:36<00:00, 17.12s/it]"
     ]
    },
    {
     "name": "stdout",
     "output_type": "stream",
     "text": [
      "Training completed\n"
     ]
    },
    {
     "name": "stderr",
     "output_type": "stream",
     "text": [
      "\n"
     ]
    }
   ],
   "source": [
    "# 5. Initialize and train CTGAN\n",
    "print(\"\\n# 5. Initialize and train CTGAN\")\n",
    "ctgan = CtganAdapter(**config[\"ctgan_params\"])\n",
    "print(\"Training CTGAN model...\")\n",
    "ctgan.fit(X, y)\n",
    "print(\"Training completed\")"
   ]
  },
  {
   "cell_type": "code",
   "execution_count": 20,
   "metadata": {},
   "outputs": [
    {
     "name": "stdout",
     "output_type": "stream",
     "text": [
      "\n",
      "# 6. Generate synthetic data\n",
      "Generating 1000 synthetic samples...\n",
      "Generated 1000 synthetic samples\n",
      "Synthetic data head:\n",
      "            ID        Age  Experience      Income      ZIP Code  Family CCAvg  \\\n",
      "0  3492.829902  62.275067   33.431910   42.808217  92546.522657       2  2/40   \n",
      "1   964.270717  50.499072   24.584849   60.338973  94607.713893       3  1/50   \n",
      "2  4573.572756  30.611324    9.518605   46.278774  94494.380846       3  2/00   \n",
      "3  4123.304121  59.483044   37.677594   49.271787  91364.496361       1  2/40   \n",
      "4  1737.908190  63.278035   37.637363  190.947986  95418.366095       2  0/30   \n",
      "\n",
      "   Education    Mortgage  Securities Account  CD Account  Online  CreditCard  \\\n",
      "0          2  172.025069                   0           0       1           0   \n",
      "1          2    0.000000                   0           0       0           0   \n",
      "2          2    0.088067                   0           0       0           0   \n",
      "3          2  129.110736                   0           0       0           0   \n",
      "4          1    0.000000                   0           0       1           0   \n",
      "\n",
      "   Personal Loan  \n",
      "0              0  \n",
      "1              0  \n",
      "2              0  \n",
      "3              0  \n",
      "4              0  \n"
     ]
    }
   ],
   "source": [
    "# 6. Generate synthetic data\n",
    "print(\"\\n# 6. Generate synthetic data\")\n",
    "n_samples = 1000  \n",
    "print(f\"Generating {n_samples} synthetic samples...\")\n",
    "synthetic_data = ctgan.generate(n_samples)\n",
    "print(f\"Generated {len(synthetic_data)} synthetic samples\")\n",
    "print(\"Synthetic data head:\")\n",
    "print(synthetic_data.head())"
   ]
  },
  {
   "cell_type": "code",
   "execution_count": 21,
   "metadata": {},
   "outputs": [
    {
     "name": "stderr",
     "output_type": "stream",
     "text": [
      "2025-03-31 13:08:28,454 - INFO - Encoded categorical target with mapping: {0: 0, 1: 1}\n"
     ]
    },
    {
     "name": "stdout",
     "output_type": "stream",
     "text": [
      "\n",
      "# 7. Evaluate quality using TSTR and other metrics\n",
      "Running evaluation...\n"
     ]
    },
    {
     "name": "stderr",
     "output_type": "stream",
     "text": [
      "c:\\Users\\kamal\\OneDrive\\Documents\\Vilo\\DEAKIN\\TRIMESTER 1 2025\\SIT378 TEAM PROJECT B\\KatabaticGitRepo\\sit378\\lib\\site-packages\\xgboost\\core.py:158: UserWarning: [13:08:38] WARNING: C:\\buildkite-agent\\builds\\buildkite-windows-cpu-autoscaling-group-i-08cbc0333d8d4aae1-1\\xgboost\\xgboost-ci-windows\\src\\learner.cc:740: \n",
      "Parameters: { \"use_label_encoder\" } are not used.\n",
      "\n",
      "  warnings.warn(smsg, UserWarning)\n",
      "2025-03-31 13:08:38,641 - INFO - Encoded categorical targets with mapping: {0: 0, 1: 1}\n",
      "c:\\Users\\kamal\\OneDrive\\Documents\\Vilo\\DEAKIN\\TRIMESTER 1 2025\\SIT378 TEAM PROJECT B\\KatabaticGitRepo\\sit378\\lib\\site-packages\\xgboost\\core.py:158: UserWarning: [13:08:43] WARNING: C:\\buildkite-agent\\builds\\buildkite-windows-cpu-autoscaling-group-i-08cbc0333d8d4aae1-1\\xgboost\\xgboost-ci-windows\\src\\learner.cc:740: \n",
      "Parameters: { \"use_label_encoder\" } are not used.\n",
      "\n",
      "  warnings.warn(smsg, UserWarning)\n",
      "2025-03-31 13:08:44,068 - INFO - CTGAN Evaluation Results:\n",
      "2025-03-31 13:08:44,070 - INFO - \n",
      "Likelihood Fitness Metrics:\n",
      "2025-03-31 13:08:44,072 - INFO -   - Lsyn (Synthetic Data Log-Likelihood): -28.7804\n",
      "2025-03-31 13:08:44,073 - INFO -   - Ltest (Real Data Log-Likelihood under Synthetic Model): -30.7562\n",
      "2025-03-31 13:08:44,074 - INFO - \n",
      "Statistical Similarity Metrics:\n",
      "2025-03-31 13:08:44,075 - INFO -   - Jensen-Shannon Divergence Mean (Categorical): 0.0872\n",
      "2025-03-31 13:08:44,076 - INFO -   - Wasserstein Distance Mean (Numerical): 61.0105\n",
      "2025-03-31 13:08:44,077 - INFO - \n",
      "Machine Learning Efficacy Metrics on Real Data:\n",
      "2025-03-31 13:08:44,078 - INFO -   LogisticRegression:\n",
      "2025-03-31 13:08:44,079 - INFO -     - Accuracy: 0.9750\n",
      "2025-03-31 13:08:44,079 - INFO -     - F1: 0.9741\n",
      "2025-03-31 13:08:44,080 - INFO -   RandomForest:\n",
      "2025-03-31 13:08:44,081 - INFO -     - Accuracy: 0.9830\n",
      "2025-03-31 13:08:44,082 - INFO -     - F1: 0.9825\n",
      "2025-03-31 13:08:44,083 - INFO -   MLP:\n",
      "2025-03-31 13:08:44,084 - INFO -     - Accuracy: 0.9930\n",
      "2025-03-31 13:08:44,086 - INFO -     - F1: 0.9929\n",
      "2025-03-31 13:08:44,087 - INFO -   XGBoost:\n",
      "2025-03-31 13:08:44,088 - INFO -     - Accuracy: 0.9900\n",
      "2025-03-31 13:08:44,089 - INFO -     - F1: 0.9899\n",
      "2025-03-31 13:08:44,090 - INFO - \n",
      "Machine Learning Utility using TSTR Approach:\n",
      "2025-03-31 13:08:44,090 - INFO -   LogisticRegression:\n",
      "2025-03-31 13:08:44,092 - INFO -     - Accuracy: 0.9096\n",
      "2025-03-31 13:08:44,093 - INFO -     - F1: 0.8851\n",
      "2025-03-31 13:08:44,094 - INFO -   RandomForest:\n",
      "2025-03-31 13:08:44,095 - INFO -     - Accuracy: 0.9036\n",
      "2025-03-31 13:08:44,096 - INFO -     - F1: 0.8605\n",
      "2025-03-31 13:08:44,097 - INFO -   MLP:\n",
      "2025-03-31 13:08:44,099 - INFO -     - Accuracy: 0.8932\n",
      "2025-03-31 13:08:44,101 - INFO -     - F1: 0.8706\n",
      "2025-03-31 13:08:44,102 - INFO -   XGBoost:\n",
      "2025-03-31 13:08:44,104 - INFO -     - Accuracy: 0.9008\n",
      "2025-03-31 13:08:44,105 - INFO -     - F1: 0.8576\n"
     ]
    }
   ],
   "source": [
    "# 7. Evaluate quality using TSTR and other metrics\n",
    "print(\"\\n# 7. Evaluate quality using TSTR and other metrics\")\n",
    "print(\"Running evaluation...\")\n",
    "evaluation_results = evaluate_ctgan(data, synthetic_data, target_column=target_column)\n",
    "print_evaluation_results(evaluation_results)\n"
   ]
  },
  {
   "cell_type": "code",
   "execution_count": 22,
   "metadata": {},
   "outputs": [
    {
     "name": "stdout",
     "output_type": "stream",
     "text": [
      "\n",
      "# 8. TSTR Performance Results\n",
      "                    Accuracy        F1\n",
      "LogisticRegression    0.9096  0.885126\n",
      "RandomForest          0.9036  0.860495\n",
      "MLP                   0.8932  0.870642\n",
      "XGBoost               0.9008  0.857570\n"
     ]
    }
   ],
   "source": [
    "# 8. Extract and display TSTR results specifically\n",
    "print(\"\\n# 8. TSTR Performance Results\")\n",
    "tstr_results = get_tstr_results(evaluation_results)\n",
    "if tstr_results is not None:\n",
    "    print(tstr_results)"
   ]
  },
  {
   "cell_type": "code",
   "execution_count": 23,
   "metadata": {},
   "outputs": [
    {
     "name": "stdout",
     "output_type": "stream",
     "text": [
      "\n",
      "# 9. Save synthetic data\n",
      "Synthetic data saved to Loan_synthetic.csv\n",
      "\n",
      "Test completed successfully!\n"
     ]
    }
   ],
   "source": [
    "# 9. Save the synthetic data\n",
    "print(\"\\n# 9. Save synthetic data\")\n",
    "output_path = \"Loan_synthetic.csv\"\n",
    "synthetic_data.to_csv(output_path, index=False)\n",
    "print(f\"Synthetic data saved to {output_path}\")\n",
    "\n",
    "print(\"\\nTest completed successfully!\")"
   ]
  }
 ],
 "metadata": {
  "kernelspec": {
   "display_name": "sit378",
   "language": "python",
   "name": "python3"
  },
  "language_info": {
   "codemirror_mode": {
    "name": "ipython",
    "version": 3
   },
   "file_extension": ".py",
   "mimetype": "text/x-python",
   "name": "python",
   "nbconvert_exporter": "python",
   "pygments_lexer": "ipython3",
   "version": "3.9.13"
  }
 },
 "nbformat": 4,
 "nbformat_minor": 2
}
