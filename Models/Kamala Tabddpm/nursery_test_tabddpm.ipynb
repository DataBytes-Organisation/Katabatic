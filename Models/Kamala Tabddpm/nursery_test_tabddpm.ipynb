{
 "cells": [
  {
   "cell_type": "code",
   "execution_count": 1,
   "id": "e2dbc182",
   "metadata": {},
   "outputs": [],
   "source": [
    "import pandas as pd\n",
    "import numpy as np\n",
    "import json\n",
    "import torch\n",
    "\n",
    "# Direct imports from the same directory\n",
    "from tabddpm_adapter import TabDDPMAdapter\n",
    "from tabddpm_benchmark import evaluate_tabddpm, print_evaluation_results\n",
    "from tabddpm_utils import preprocess_data, get_tstr_results"
   ]
  },
  {
   "cell_type": "code",
   "execution_count": 2,
   "id": "66536a19",
   "metadata": {},
   "outputs": [
    {
     "name": "stdout",
     "output_type": "stream",
     "text": [
      "# Load configuration\n"
     ]
    }
   ],
   "source": [
    "# Load configuration\n",
    "print(\"# Load configuration\")\n",
    "with open(\"config.json\", \"r\") as f:\n",
    "    config = json.load(f)"
   ]
  },
  {
   "cell_type": "code",
   "execution_count": 3,
   "id": "8e884c3d",
   "metadata": {},
   "outputs": [
    {
     "name": "stdout",
     "output_type": "stream",
     "text": [
      "# 1. Load and prepare the dataset\n",
      "Columns in dataset: [' parents', 'has_nurs', 'form', 'children', 'housing', 'finance', 'social', 'health', 'Target']\n",
      "Dataset shape: (12960, 9)\n",
      "   parents has_nurs      form children     housing     finance         social  \\\n",
      "0    usual   proper  complete        1  convenient  convenient        nonprob   \n",
      "1    usual   proper  complete        1  convenient  convenient        nonprob   \n",
      "2    usual   proper  complete        1  convenient  convenient        nonprob   \n",
      "3    usual   proper  complete        1  convenient  convenient  slightly_prob   \n",
      "4    usual   proper  complete        1  convenient  convenient  slightly_prob   \n",
      "\n",
      "        health     Target  \n",
      "0  recommended  recommend  \n",
      "1     priority   priority  \n",
      "2    not_recom  not_recom  \n",
      "3  recommended  recommend  \n",
      "4     priority   priority  \n"
     ]
    }
   ],
   "source": [
    "# 1. Load and prepare the dataset\n",
    "print(\"# 1. Load and prepare the dataset\")\n",
    "data_raw = pd.read_csv(\"nursery.csv\")\n",
    "print(f\"Columns in dataset: {data_raw.columns.tolist()}\")\n",
    "print(f\"Dataset shape: {data_raw.shape}\")\n",
    "print(data_raw.head())"
   ]
  },
  {
   "cell_type": "code",
   "execution_count": 4,
   "id": "52453df4",
   "metadata": {},
   "outputs": [
    {
     "name": "stderr",
     "output_type": "stream",
     "text": [
      "2025-04-27 11:53:26,930 - INFO - Converted  parents to category type (has 3 unique values)\n",
      "2025-04-27 11:53:26,932 - INFO - Converted has_nurs to category type (has 5 unique values)\n",
      "2025-04-27 11:53:26,935 - INFO - Converted form to category type (has 4 unique values)\n",
      "2025-04-27 11:53:26,935 - INFO - Converted children to category type (has 4 unique values)\n",
      "2025-04-27 11:53:26,935 - INFO - Converted housing to category type (has 3 unique values)\n",
      "2025-04-27 11:53:26,940 - INFO - Converted finance to category type (has 2 unique values)\n",
      "2025-04-27 11:53:26,943 - INFO - Converted social to category type (has 3 unique values)\n",
      "2025-04-27 11:53:26,946 - INFO - Converted health to category type (has 3 unique values)\n",
      "2025-04-27 11:53:26,948 - INFO - Converted Target to category type (has 5 unique values)\n"
     ]
    },
    {
     "name": "stdout",
     "output_type": "stream",
     "text": [
      "\n",
      "# 2. Preprocess data and detect categorical columns\n",
      "Detected categorical columns: [' parents', 'has_nurs', 'form', 'children', 'housing', 'finance', 'social', 'health', 'Target']\n"
     ]
    }
   ],
   "source": [
    "# 2. Preprocess data and detect categorical columns\n",
    "print(\"\\n# 2. Preprocess data and detect categorical columns\")\n",
    "data, categorical_columns = preprocess_data(data_raw)\n",
    "print(f\"Detected categorical columns: {categorical_columns}\")"
   ]
  },
  {
   "cell_type": "code",
   "execution_count": 5,
   "id": "023b53b9",
   "metadata": {},
   "outputs": [
    {
     "name": "stdout",
     "output_type": "stream",
     "text": [
      "\n",
      "# 3. Define the target column for this dataset\n",
      "Target column: Target\n"
     ]
    }
   ],
   "source": [
    "# 3. Define the target column for this dataset\n",
    "print(\"\\n# 3. Define the target column for this dataset\")\n",
    "target_column = \"Target\"\n",
    "print(f\"Target column: {target_column}\")"
   ]
  },
  {
   "cell_type": "code",
   "execution_count": 6,
   "id": "eb57be5a",
   "metadata": {},
   "outputs": [
    {
     "name": "stdout",
     "output_type": "stream",
     "text": [
      "\n",
      "# 4. Split the data into features and target\n",
      "Features shape: (12960, 8)\n",
      "Target shape: (12960,)\n",
      "Target distribution:\n",
      "Target\n",
      "not_recom     4320\n",
      "priority      4266\n",
      "spec_prior    4044\n",
      "very_recom     328\n",
      "recommend        2\n",
      "Name: count, dtype: int64\n"
     ]
    }
   ],
   "source": [
    "# 4. Split the data into features and target\n",
    "print(\"\\n# 4. Split the data into features and target\")\n",
    "X = data.drop(columns=[target_column])\n",
    "y = data[target_column]\n",
    "print(f\"Features shape: {X.shape}\")\n",
    "print(f\"Target shape: {y.shape}\")\n",
    "print(f\"Target distribution:\\n{y.value_counts()}\")"
   ]
  },
  {
   "cell_type": "code",
   "execution_count": 7,
   "id": "4192917c",
   "metadata": {},
   "outputs": [
    {
     "name": "stdout",
     "output_type": "stream",
     "text": [
      "\n",
      "# 5. Initialize and train TabDDPM\n",
      "Training TabDDPM model...\n",
      "Original data shape: (12960, 9), Target column: Target\n",
      "Added OneHotEncoder for 8 categorical columns\n",
      "Target 'Target' identified as categorical with 5 classes\n",
      "Class mapping: {'not_recom': 0, 'priority': 1, 'recommend': 2, 'spec_prior': 3, 'very_recom': 4}\n",
      "\n",
      "Preprocessing Summary:\n",
      "- Number of numerical features: 0\n",
      "- Number of categorical features: 8\n",
      "- Categorical columns: [' parents', 'has_nurs', 'form', 'children', 'housing', 'finance', 'social', 'health']\n",
      "- Target column: Target\n",
      "- Target type: Categorical\n",
      "- Number of target classes: 5\n",
      "X shape: (12960, 8), y shape: (12960,)\n",
      "X_tensor shape: torch.Size([12960, 27]), y_tensor shape: torch.Size([12960])\n",
      "X_tensor shape: torch.Size([12960, 27])\n",
      "y_tensor shape: torch.Size([12960])\n"
     ]
    },
    {
     "name": "stderr",
     "output_type": "stream",
     "text": [
      "Epoch 299, Loss: 0.3398: 100%|██████████| 300/300 [10:22<00:00,  2.08s/it]"
     ]
    },
    {
     "name": "stdout",
     "output_type": "stream",
     "text": [
      "Training completed\n"
     ]
    },
    {
     "name": "stderr",
     "output_type": "stream",
     "text": [
      "\n"
     ]
    }
   ],
   "source": [
    "# 5. Initialize and train TabDDPM\n",
    "print(\"\\n# 5. Initialize and train TabDDPM\")\n",
    "device = torch.device('cuda' if torch.cuda.is_available() else 'cpu')\n",
    "tabddpm = TabDDPMAdapter(**config[\"tabddpm_params\"], device=device)\n",
    "print(\"Training TabDDPM model...\")\n",
    "tabddpm.fit(X, y)\n",
    "print(\"Training completed\")"
   ]
  },
  {
   "cell_type": "code",
   "execution_count": 8,
   "id": "bda5ace9",
   "metadata": {},
   "outputs": [
    {
     "name": "stdout",
     "output_type": "stream",
     "text": [
      "\n",
      "# 6. Generate synthetic data\n",
      "Generating 1000 synthetic samples...\n",
      "Sample timestep    0\n",
      "Sample timestep    0\n",
      "Sample timestep    0\n",
      "Sample timestep    0\n",
      "Debug - out_dict type: <class 'torch.Tensor'>\n",
      "Added target column 'Target' with 5 unique values\n",
      "Final columns in synthetic data: [' parents', 'has_nurs', 'form', 'children', 'housing', 'finance', 'social', 'health', 'Target']\n",
      "Generated 1000 synthetic samples\n",
      "Synthetic data head:\n",
      "       parents     has_nurs        form children     housing     finance  \\\n",
      "0  pretentious     improper  incomplete     more   less_conv  convenient   \n",
      "1   great_pret     improper      foster        2    critical      inconv   \n",
      "2  pretentious    very_crit      foster        2   less_conv  convenient   \n",
      "3        usual    very_crit  incomplete        1  convenient  convenient   \n",
      "4   great_pret  less_proper  incomplete        2    critical      inconv   \n",
      "\n",
      "          social       health      Target  \n",
      "0  slightly_prob    not_recom  very_recom  \n",
      "1  slightly_prob     priority   recommend  \n",
      "2        nonprob    not_recom   recommend  \n",
      "3    problematic  recommended  very_recom  \n",
      "4        nonprob  recommended  spec_prior  \n"
     ]
    }
   ],
   "source": [
    "# 6. Generate synthetic data\n",
    "print(\"\\n# 6. Generate synthetic data\")\n",
    "n_samples = 1000  \n",
    "print(f\"Generating {n_samples} synthetic samples...\")\n",
    "synthetic_data = tabddpm.generate(n_samples)\n",
    "print(f\"Generated {len(synthetic_data)} synthetic samples\")\n",
    "print(\"Synthetic data head:\")\n",
    "print(synthetic_data.head())"
   ]
  },
  {
   "cell_type": "code",
   "execution_count": 9,
   "id": "1c20ace9",
   "metadata": {},
   "outputs": [
    {
     "name": "stderr",
     "output_type": "stream",
     "text": [
      "2025-04-27 12:06:27,938 - WARNING - No numerical columns found for likelihood fitness evaluation\n",
      "2025-04-27 12:06:27,954 - INFO - Encoded categorical target with mapping: {'not_recom': 0, 'priority': 1, 'recommend': 2, 'spec_prior': 3, 'very_recom': 4}\n"
     ]
    },
    {
     "name": "stdout",
     "output_type": "stream",
     "text": [
      "\n",
      "# 7. Evaluate quality using TSTR and other metrics\n",
      "Running evaluation...\n"
     ]
    },
    {
     "name": "stderr",
     "output_type": "stream",
     "text": [
      "2025-04-27 12:06:36,354 - ERROR - Error training XGBoost classifier: Invalid classes inferred from unique values of `y`.  Expected: [0 1 2 3], got [0 1 3 4]\n",
      "2025-04-27 12:06:36,375 - INFO - Encoded categorical targets with mapping: {'not_recom': 0, 'priority': 1, 'recommend': 2, 'spec_prior': 3, 'very_recom': 4}\n",
      "c:\\Users\\kamal\\OneDrive\\Documents\\Vilo\\DEAKIN\\TRIMESTER 1 2025\\SIT378 TEAM PROJECT B\\KatabaticGitRepo\\sit378\\lib\\site-packages\\sklearn\\neural_network\\_multilayer_perceptron.py:614: ConvergenceWarning: Stochastic Optimizer: Maximum iterations (1000) reached and the optimization hasn't converged yet.\n",
      "  warnings.warn(\n",
      "c:\\Users\\kamal\\OneDrive\\Documents\\Vilo\\DEAKIN\\TRIMESTER 1 2025\\SIT378 TEAM PROJECT B\\KatabaticGitRepo\\sit378\\lib\\site-packages\\xgboost\\core.py:158: UserWarning: [12:06:45] WARNING: C:\\buildkite-agent\\builds\\buildkite-windows-cpu-autoscaling-group-i-08cbc0333d8d4aae1-1\\xgboost\\xgboost-ci-windows\\src\\learner.cc:740: \n",
      "Parameters: { \"use_label_encoder\" } are not used.\n",
      "\n",
      "  warnings.warn(smsg, UserWarning)\n",
      "2025-04-27 12:06:46,095 - INFO - TabDDPM Evaluation Results:\n",
      "2025-04-27 12:06:46,097 - INFO - \n",
      "Likelihood Fitness: Not applicable for fully categorical data\n",
      "2025-04-27 12:06:46,097 - INFO - \n",
      "Statistical Similarity Metrics:\n",
      "2025-04-27 12:06:46,099 - INFO -   - Jensen-Shannon Divergence Mean (Categorical): 0.0184\n",
      "2025-04-27 12:06:46,099 - INFO - \n",
      "Machine Learning Efficacy Metrics on Real Data:\n",
      "2025-04-27 12:06:46,101 - INFO -   LogisticRegression:\n",
      "2025-04-27 12:06:46,103 - INFO -     - Accuracy: 0.9267\n",
      "2025-04-27 12:06:46,103 - INFO -     - F1: 0.9256\n",
      "2025-04-27 12:06:46,105 - INFO -   RandomForest:\n",
      "2025-04-27 12:06:46,107 - INFO -     - Accuracy: 0.9931\n",
      "2025-04-27 12:06:46,108 - INFO -     - F1: 0.9926\n",
      "2025-04-27 12:06:46,108 - INFO -   MLP:\n",
      "2025-04-27 12:06:46,110 - INFO -     - Accuracy: 0.9988\n",
      "2025-04-27 12:06:46,112 - INFO -     - F1: 0.9985\n",
      "2025-04-27 12:06:46,112 - INFO -   XGBoost:\n",
      "2025-04-27 12:06:46,115 - INFO -     - Error: Invalid classes inferred from unique values of `y`.  Expected: [0 1 2 3], got [0 1 3 4]\n",
      "2025-04-27 12:06:46,116 - INFO - \n",
      "Machine Learning Utility using TSTR Approach:\n",
      "2025-04-27 12:06:46,117 - INFO -   LogisticRegression:\n",
      "2025-04-27 12:06:46,119 - INFO -     - Accuracy: 0.1529\n",
      "2025-04-27 12:06:46,121 - INFO -     - F1: 0.1862\n",
      "2025-04-27 12:06:46,122 - INFO -   RandomForest:\n",
      "2025-04-27 12:06:46,124 - INFO -     - Accuracy: 0.1762\n",
      "2025-04-27 12:06:46,125 - INFO -     - F1: 0.2146\n",
      "2025-04-27 12:06:46,126 - INFO -   MLP:\n",
      "2025-04-27 12:06:46,127 - INFO -     - Accuracy: 0.1741\n",
      "2025-04-27 12:06:46,128 - INFO -     - F1: 0.2144\n",
      "2025-04-27 12:06:46,130 - INFO -   XGBoost:\n",
      "2025-04-27 12:06:46,131 - INFO -     - Accuracy: 0.1795\n",
      "2025-04-27 12:06:46,133 - INFO -     - F1: 0.2176\n"
     ]
    }
   ],
   "source": [
    "# 7. Evaluate quality using TSTR and other metrics\n",
    "print(\"\\n# 7. Evaluate quality using TSTR and other metrics\")\n",
    "print(\"Running evaluation...\")\n",
    "evaluation_results = evaluate_tabddpm(data, synthetic_data, target_column=target_column)\n",
    "print_evaluation_results(evaluation_results)\n"
   ]
  },
  {
   "cell_type": "code",
   "execution_count": 10,
   "id": "31d6e398",
   "metadata": {},
   "outputs": [
    {
     "name": "stdout",
     "output_type": "stream",
     "text": [
      "\n",
      "# 8. TSTR Performance Results\n",
      "                    Accuracy        F1\n",
      "LogisticRegression  0.152855  0.186176\n",
      "RandomForest        0.176157  0.214634\n",
      "MLP                 0.174074  0.214376\n",
      "XGBoost             0.179475  0.217605\n"
     ]
    }
   ],
   "source": [
    "# 8. Extract and display TSTR results specifically\n",
    "print(\"\\n# 8. TSTR Performance Results\")\n",
    "tstr_results = get_tstr_results(evaluation_results)\n",
    "if tstr_results is not None:\n",
    "    print(tstr_results)"
   ]
  },
  {
   "cell_type": "code",
   "execution_count": 11,
   "id": "aff99b69",
   "metadata": {},
   "outputs": [
    {
     "name": "stdout",
     "output_type": "stream",
     "text": [
      "\n",
      "# 9. Save synthetic data\n",
      "Synthetic data saved to nursery_synthetic.csv\n",
      "\n",
      "Test completed successfully!\n"
     ]
    }
   ],
   "source": [
    "# 9. Save the synthetic data\n",
    "print(\"\\n# 9. Save synthetic data\")\n",
    "output_path = \"nursery_synthetic.csv\"\n",
    "synthetic_data.to_csv(output_path, index=False)\n",
    "print(f\"Synthetic data saved to {output_path}\")\n",
    "\n",
    "print(\"\\nTest completed successfully!\")"
   ]
  }
 ],
 "metadata": {
  "kernelspec": {
   "display_name": "sit378",
   "language": "python",
   "name": "python3"
  },
  "language_info": {
   "codemirror_mode": {
    "name": "ipython",
    "version": 3
   },
   "file_extension": ".py",
   "mimetype": "text/x-python",
   "name": "python",
   "nbconvert_exporter": "python",
   "pygments_lexer": "ipython3",
   "version": "3.9.13"
  }
 },
 "nbformat": 4,
 "nbformat_minor": 5
}
