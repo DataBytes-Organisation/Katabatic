{
 "cells": [
  {
   "cell_type": "code",
   "execution_count": 1,
   "id": "586ebbfb",
   "metadata": {},
   "outputs": [],
   "source": [
    "import pandas as pd\n",
    "import numpy as np\n",
    "import json\n",
    "import torch\n",
    "\n",
    "# Direct imports from the same directory\n",
    "from tabddpm_adapter import TabDDPMAdapter\n",
    "from tabddpm_benchmark import evaluate_tabddpm, print_evaluation_results\n",
    "from tabddpm_utils import preprocess_data, get_tstr_results"
   ]
  },
  {
   "cell_type": "code",
   "execution_count": 2,
   "id": "a5f4d1b9",
   "metadata": {},
   "outputs": [
    {
     "name": "stdout",
     "output_type": "stream",
     "text": [
      "# Load configuration\n"
     ]
    }
   ],
   "source": [
    "# Load configuration\n",
    "print(\"# Load configuration\")\n",
    "with open(\"config.json\", \"r\") as f:\n",
    "    config = json.load(f)"
   ]
  },
  {
   "cell_type": "code",
   "execution_count": 3,
   "id": "95001701",
   "metadata": {},
   "outputs": [
    {
     "name": "stdout",
     "output_type": "stream",
     "text": [
      "# 1. Load and prepare the dataset\n",
      "Columns in dataset: ['55', '0', '81', '0.1', '-6', '11', '25', '88', '64', '4']\n",
      "Dataset shape: (14499, 10)\n",
      "   55  0  81  0.1  -6  11  25  88  64  4\n",
      "0  56  0  96    0  52  -4  40  44   4  4\n",
      "1  50 -1  89   -7  50   0  39  40   2  1\n",
      "2  53  9  79    0  42  -2  25  37  12  4\n",
      "3  55  2  82    0  54  -6  26  28   2  1\n",
      "4  41  0  84    3  38  -4  43  45   2  1\n"
     ]
    }
   ],
   "source": [
    "# 1. Load and prepare the dataset\n",
    "print(\"# 1. Load and prepare the dataset\")\n",
    "data_raw = pd.read_csv(\"shuttle.csv\")\n",
    "print(f\"Columns in dataset: {data_raw.columns.tolist()}\")\n",
    "print(f\"Dataset shape: {data_raw.shape}\")\n",
    "print(data_raw.head())"
   ]
  },
  {
   "cell_type": "code",
   "execution_count": 4,
   "id": "1f21e968",
   "metadata": {},
   "outputs": [
    {
     "name": "stderr",
     "output_type": "stream",
     "text": [
      "2025-04-27 23:20:34,037 - INFO - Converted 4 to category type (has 7 unique values)\n"
     ]
    },
    {
     "name": "stdout",
     "output_type": "stream",
     "text": [
      "\n",
      "# 2. Preprocess data and detect categorical columns\n",
      "Detected categorical columns: ['4']\n"
     ]
    }
   ],
   "source": [
    "# 2. Preprocess data and detect categorical columns\n",
    "print(\"\\n# 2. Preprocess data and detect categorical columns\")\n",
    "data, categorical_columns = preprocess_data(data_raw)\n",
    "print(f\"Detected categorical columns: {categorical_columns}\")"
   ]
  },
  {
   "cell_type": "code",
   "execution_count": 6,
   "id": "f0bccf5c",
   "metadata": {},
   "outputs": [
    {
     "name": "stdout",
     "output_type": "stream",
     "text": [
      "\n",
      "# 3. Define the target column for this dataset\n",
      "Target column: 4\n"
     ]
    }
   ],
   "source": [
    "# 3. Define the target column for this dataset\n",
    "print(\"\\n# 3. Define the target column for this dataset\")\n",
    "target_column = \"4\"\n",
    "print(f\"Target column: {target_column}\")"
   ]
  },
  {
   "cell_type": "code",
   "execution_count": 7,
   "id": "4a6e0d56",
   "metadata": {},
   "outputs": [
    {
     "name": "stdout",
     "output_type": "stream",
     "text": [
      "\n",
      "# 4. Split the data into features and target\n",
      "Features shape: (14499, 9)\n",
      "Target shape: (14499,)\n",
      "Target distribution:\n",
      "4\n",
      "1    11478\n",
      "4     2154\n",
      "5      809\n",
      "3       39\n",
      "2       13\n",
      "6        4\n",
      "7        2\n",
      "Name: count, dtype: int64\n"
     ]
    }
   ],
   "source": [
    "# 4. Split the data into features and target\n",
    "print(\"\\n# 4. Split the data into features and target\")\n",
    "X = data.drop(columns=[target_column])\n",
    "y = data[target_column]\n",
    "print(f\"Features shape: {X.shape}\")\n",
    "print(f\"Target shape: {y.shape}\")\n",
    "print(f\"Target distribution:\\n{y.value_counts()}\")"
   ]
  },
  {
   "cell_type": "code",
   "execution_count": 8,
   "id": "4b6f9869",
   "metadata": {},
   "outputs": [
    {
     "name": "stdout",
     "output_type": "stream",
     "text": [
      "\n",
      "# 5. Initialize and train TabDDPM\n",
      "Training TabDDPM model...\n",
      "Original data shape: (14499, 10), Target column: 4\n",
      "Added StandardScaler for 9 numerical columns\n",
      "Target '4' identified as categorical with 7 classes\n",
      "Class mapping: {1: 0, 2: 1, 3: 2, 4: 3, 5: 4, 6: 5, 7: 6}\n",
      "\n",
      "Preprocessing Summary:\n",
      "- Number of numerical features: 9\n",
      "- Number of categorical features: 0\n",
      "- Categorical columns: []\n",
      "- Target column: 4\n",
      "- Target type: Categorical\n",
      "- Number of target classes: 7\n",
      "X shape: (14499, 9), y shape: (14499,)\n",
      "X_tensor shape: torch.Size([14499, 9]), y_tensor shape: torch.Size([14499])\n",
      "X_tensor shape: torch.Size([14499, 9])\n",
      "y_tensor shape: torch.Size([14499])\n"
     ]
    },
    {
     "name": "stderr",
     "output_type": "stream",
     "text": [
      "Epoch 299, Loss: 0.1604: 100%|██████████| 300/300 [12:14<00:00,  2.45s/it]"
     ]
    },
    {
     "name": "stdout",
     "output_type": "stream",
     "text": [
      "Training completed\n"
     ]
    },
    {
     "name": "stderr",
     "output_type": "stream",
     "text": [
      "\n"
     ]
    }
   ],
   "source": [
    "# 5. Initialize and train TabDDPM\n",
    "print(\"\\n# 5. Initialize and train TabDDPM\")\n",
    "device = torch.device('cuda' if torch.cuda.is_available() else 'cpu')\n",
    "tabddpm = TabDDPMAdapter(**config[\"tabddpm_params\"], device=device)\n",
    "print(\"Training TabDDPM model...\")\n",
    "tabddpm.fit(X, y)\n",
    "print(\"Training completed\")"
   ]
  },
  {
   "cell_type": "code",
   "execution_count": 9,
   "id": "b1e6af7f",
   "metadata": {},
   "outputs": [
    {
     "name": "stdout",
     "output_type": "stream",
     "text": [
      "\n",
      "# 6. Generate synthetic data\n",
      "Generating 1000 synthetic samples...\n",
      "Sample timestep    0\n",
      "Sample timestep    0\n",
      "Sample timestep    0\n",
      "Sample timestep    0\n",
      "Debug - out_dict type: <class 'torch.Tensor'>\n",
      "Added target column '4' with 7 unique values\n",
      "Final columns in synthetic data: ['55', '0', '81', '0.1', '-6', '11', '25', '88', '64', '4']\n",
      "Generated 1000 synthetic samples\n",
      "Synthetic data head:\n",
      "          55            0          81         0.1          -6           11  \\\n",
      "0  17.400000 -3927.200000   62.889020  160.361097  345.600000  2188.490990   \n",
      "1  55.529991     0.410733  111.000895    0.314406   55.076492    -0.516448   \n",
      "2  52.195830     2.069632   78.355207   -0.718292   50.948600   -16.694845   \n",
      "3  49.269261    -2.050622  103.713311    1.202297   48.647823   -10.599105   \n",
      "4  54.351364    -5.598778  111.068194    1.407014   52.174194   -10.813418   \n",
      "\n",
      "          25          88          64  4  \n",
      "0  82.100000  163.200000  165.000000  7  \n",
      "1  54.556080   54.347188   -0.526818  4  \n",
      "2  25.872805   27.430314    1.893816  5  \n",
      "3  54.552038   54.632852    0.023462  7  \n",
      "4  57.347873   59.510497    1.757340  3  \n"
     ]
    }
   ],
   "source": [
    "# 6. Generate synthetic data\n",
    "print(\"\\n# 6. Generate synthetic data\")\n",
    "n_samples = 1000  \n",
    "print(f\"Generating {n_samples} synthetic samples...\")\n",
    "synthetic_data = tabddpm.generate(n_samples)\n",
    "print(f\"Generated {len(synthetic_data)} synthetic samples\")\n",
    "print(\"Synthetic data head:\")\n",
    "print(synthetic_data.head())"
   ]
  },
  {
   "cell_type": "code",
   "execution_count": 10,
   "id": "6f596dd7",
   "metadata": {},
   "outputs": [
    {
     "name": "stdout",
     "output_type": "stream",
     "text": [
      "\n",
      "# 7. Evaluate quality using TSTR and other metrics\n",
      "Running evaluation...\n"
     ]
    },
    {
     "name": "stderr",
     "output_type": "stream",
     "text": [
      "2025-04-27 23:34:26,928 - INFO - Encoded categorical target with mapping: {1: 0, 2: 1, 3: 2, 4: 3, 5: 4, 6: 5, 7: 6}\n",
      "c:\\Users\\kamal\\OneDrive\\Documents\\Vilo\\DEAKIN\\TRIMESTER 1 2025\\SIT378 TEAM PROJECT B\\KatabaticGitRepo\\sit378\\lib\\site-packages\\xgboost\\core.py:158: UserWarning: [23:34:31] WARNING: C:\\buildkite-agent\\builds\\buildkite-windows-cpu-autoscaling-group-i-08cbc0333d8d4aae1-1\\xgboost\\xgboost-ci-windows\\src\\learner.cc:740: \n",
      "Parameters: { \"use_label_encoder\" } are not used.\n",
      "\n",
      "  warnings.warn(smsg, UserWarning)\n",
      "2025-04-27 23:34:32,087 - INFO - Encoded categorical targets with mapping: {1: 0, 2: 1, 3: 2, 4: 3, 5: 4, 6: 5, 7: 6}\n",
      "c:\\Users\\kamal\\OneDrive\\Documents\\Vilo\\DEAKIN\\TRIMESTER 1 2025\\SIT378 TEAM PROJECT B\\KatabaticGitRepo\\sit378\\lib\\site-packages\\sklearn\\neural_network\\_multilayer_perceptron.py:614: ConvergenceWarning: Stochastic Optimizer: Maximum iterations (1000) reached and the optimization hasn't converged yet.\n",
      "  warnings.warn(\n",
      "c:\\Users\\kamal\\OneDrive\\Documents\\Vilo\\DEAKIN\\TRIMESTER 1 2025\\SIT378 TEAM PROJECT B\\KatabaticGitRepo\\sit378\\lib\\site-packages\\xgboost\\core.py:158: UserWarning: [23:34:34] WARNING: C:\\buildkite-agent\\builds\\buildkite-windows-cpu-autoscaling-group-i-08cbc0333d8d4aae1-1\\xgboost\\xgboost-ci-windows\\src\\learner.cc:740: \n",
      "Parameters: { \"use_label_encoder\" } are not used.\n",
      "\n",
      "  warnings.warn(smsg, UserWarning)\n",
      "2025-04-27 23:34:36,013 - INFO - TabDDPM Evaluation Results:\n",
      "2025-04-27 23:34:36,015 - INFO - \n",
      "Likelihood Fitness Metrics:\n",
      "2025-04-27 23:34:36,015 - INFO -   - Lsyn (Synthetic Data Log-Likelihood): -31.1196\n",
      "2025-04-27 23:34:36,017 - INFO -   - Ltest (Real Data Log-Likelihood under Synthetic Model): -24.5958\n",
      "2025-04-27 23:34:36,017 - INFO - \n",
      "Statistical Similarity Metrics:\n",
      "2025-04-27 23:34:36,019 - INFO -   - Wasserstein Distance Mean (Numerical): 564.2534\n",
      "2025-04-27 23:34:36,019 - INFO - \n",
      "Machine Learning Efficacy Metrics on Real Data:\n",
      "2025-04-27 23:34:36,021 - INFO -   LogisticRegression:\n",
      "2025-04-27 23:34:36,021 - INFO -     - Accuracy: 0.9659\n",
      "2025-04-27 23:34:36,023 - INFO -     - F1: 0.9646\n",
      "2025-04-27 23:34:36,023 - INFO -   RandomForest:\n",
      "2025-04-27 23:34:36,025 - INFO -     - Accuracy: 0.9986\n",
      "2025-04-27 23:34:36,025 - INFO -     - F1: 0.9981\n",
      "2025-04-27 23:34:36,025 - INFO -   MLP:\n",
      "2025-04-27 23:34:36,027 - INFO -     - Accuracy: 0.9983\n",
      "2025-04-27 23:34:36,027 - INFO -     - F1: 0.9979\n",
      "2025-04-27 23:34:36,030 - INFO -   XGBoost:\n",
      "2025-04-27 23:34:36,030 - INFO -     - Accuracy: 0.9993\n",
      "2025-04-27 23:34:36,033 - INFO -     - F1: 0.9991\n",
      "2025-04-27 23:34:36,033 - INFO - \n",
      "Machine Learning Utility using TSTR Approach:\n",
      "2025-04-27 23:34:36,035 - INFO -   LogisticRegression:\n",
      "2025-04-27 23:34:36,035 - INFO -     - Accuracy: 0.6654\n",
      "2025-04-27 23:34:36,037 - INFO -     - F1: 0.6822\n",
      "2025-04-27 23:34:36,039 - INFO -   RandomForest:\n",
      "2025-04-27 23:34:36,039 - INFO -     - Accuracy: 0.1697\n",
      "2025-04-27 23:34:36,041 - INFO -     - F1: 0.2626\n",
      "2025-04-27 23:34:36,041 - INFO -   MLP:\n",
      "2025-04-27 23:34:36,042 - INFO -     - Accuracy: 0.1881\n",
      "2025-04-27 23:34:36,042 - INFO -     - F1: 0.2744\n",
      "2025-04-27 23:34:36,044 - INFO -   XGBoost:\n",
      "2025-04-27 23:34:36,044 - INFO -     - Accuracy: 0.1313\n",
      "2025-04-27 23:34:36,046 - INFO -     - F1: 0.2048\n"
     ]
    }
   ],
   "source": [
    "# 7. Evaluate quality using TSTR and other metrics\n",
    "print(\"\\n# 7. Evaluate quality using TSTR and other metrics\")\n",
    "print(\"Running evaluation...\")\n",
    "evaluation_results = evaluate_tabddpm(data, synthetic_data, target_column=target_column)\n",
    "print_evaluation_results(evaluation_results)"
   ]
  },
  {
   "cell_type": "code",
   "execution_count": 11,
   "id": "60d4604b",
   "metadata": {},
   "outputs": [
    {
     "name": "stdout",
     "output_type": "stream",
     "text": [
      "\n",
      "# 8. TSTR Performance Results\n",
      "                    Accuracy        F1\n",
      "LogisticRegression  0.665425  0.682181\n",
      "RandomForest        0.169667  0.262627\n",
      "MLP                 0.188082  0.274447\n",
      "XGBoost             0.131319  0.204750\n"
     ]
    }
   ],
   "source": [
    "# 8. Extract and display TSTR results specifically\n",
    "print(\"\\n# 8. TSTR Performance Results\")\n",
    "tstr_results = get_tstr_results(evaluation_results)\n",
    "if tstr_results is not None:\n",
    "    print(tstr_results)"
   ]
  },
  {
   "cell_type": "code",
   "execution_count": 12,
   "id": "2fb5820a",
   "metadata": {},
   "outputs": [
    {
     "name": "stdout",
     "output_type": "stream",
     "text": [
      "\n",
      "# 9. Save synthetic data\n",
      "Synthetic data saved to shuttle_synthetic.csv\n",
      "\n",
      "Test completed successfully!\n"
     ]
    }
   ],
   "source": [
    "# 9. Save the synthetic data\n",
    "print(\"\\n# 9. Save synthetic data\")\n",
    "output_path = \"shuttle_synthetic.csv\"\n",
    "synthetic_data.to_csv(output_path, index=False)\n",
    "print(f\"Synthetic data saved to {output_path}\")\n",
    "\n",
    "print(\"\\nTest completed successfully!\")"
   ]
  }
 ],
 "metadata": {
  "kernelspec": {
   "display_name": "sit378",
   "language": "python",
   "name": "python3"
  },
  "language_info": {
   "codemirror_mode": {
    "name": "ipython",
    "version": 3
   },
   "file_extension": ".py",
   "mimetype": "text/x-python",
   "name": "python",
   "nbconvert_exporter": "python",
   "pygments_lexer": "ipython3",
   "version": "3.9.13"
  }
 },
 "nbformat": 4,
 "nbformat_minor": 5
}
