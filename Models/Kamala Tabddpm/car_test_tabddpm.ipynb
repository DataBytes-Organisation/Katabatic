{
 "cells": [
  {
   "cell_type": "code",
   "execution_count": 1,
   "id": "e39c40d3",
   "metadata": {},
   "outputs": [],
   "source": [
    "import pandas as pd\n",
    "import numpy as np\n",
    "import json\n",
    "import torch\n",
    "\n",
    "# Direct imports from the same directory\n",
    "from tabddpm_adapter import TabDDPMAdapter\n",
    "from tabddpm_benchmark import evaluate_tabddpm, print_evaluation_results\n",
    "from tabddpm_utils import preprocess_data, get_tstr_results"
   ]
  },
  {
   "cell_type": "code",
   "execution_count": 2,
   "id": "0a218d3e",
   "metadata": {},
   "outputs": [
    {
     "name": "stdout",
     "output_type": "stream",
     "text": [
      "# Load configuration\n"
     ]
    }
   ],
   "source": [
    "# Load configuration\n",
    "print(\"# Load configuration\")\n",
    "with open(\"config.json\", \"r\") as f:\n",
    "    config = json.load(f)"
   ]
  },
  {
   "cell_type": "code",
   "execution_count": 3,
   "id": "d3edb241",
   "metadata": {},
   "outputs": [
    {
     "name": "stdout",
     "output_type": "stream",
     "text": [
      "# 1. Load and prepare the dataset\n",
      "Columns in dataset: ['Buying', 'Maint', 'Doors', 'Persons', 'Lug_boot', 'Safety', 'Class']\n",
      "Dataset shape: (1728, 7)\n",
      "  Buying  Maint Doors Persons Lug_boot Safety  Class\n",
      "0  vhigh  vhigh     2       2    small    low  unacc\n",
      "1  vhigh  vhigh     2       2    small    med  unacc\n",
      "2  vhigh  vhigh     2       2    small   high  unacc\n",
      "3  vhigh  vhigh     2       2      med    low  unacc\n",
      "4  vhigh  vhigh     2       2      med    med  unacc\n"
     ]
    }
   ],
   "source": [
    "# 1. Load and prepare the dataset\n",
    "print(\"# 1. Load and prepare the dataset\")\n",
    "data_raw = pd.read_csv(\"car.csv\")\n",
    "print(f\"Columns in dataset: {data_raw.columns.tolist()}\")\n",
    "print(f\"Dataset shape: {data_raw.shape}\")\n",
    "print(data_raw.head())"
   ]
  },
  {
   "cell_type": "code",
   "execution_count": 4,
   "id": "8d2bcb6a",
   "metadata": {},
   "outputs": [
    {
     "name": "stderr",
     "output_type": "stream",
     "text": [
      "2025-04-27 10:45:44,183 - INFO - Converted Buying to category type (has 4 unique values)\n",
      "2025-04-27 10:45:44,183 - INFO - Converted Maint to category type (has 4 unique values)\n",
      "2025-04-27 10:45:44,187 - INFO - Converted Doors to category type (has 4 unique values)\n",
      "2025-04-27 10:45:44,196 - INFO - Converted Persons to category type (has 3 unique values)\n",
      "2025-04-27 10:45:44,197 - INFO - Converted Lug_boot to category type (has 3 unique values)\n",
      "2025-04-27 10:45:44,204 - INFO - Converted Safety to category type (has 3 unique values)\n",
      "2025-04-27 10:45:44,204 - INFO - Converted Class to category type (has 4 unique values)\n"
     ]
    },
    {
     "name": "stdout",
     "output_type": "stream",
     "text": [
      "\n",
      "# 2. Preprocess data and detect categorical columns\n",
      "Detected categorical columns: ['Buying', 'Maint', 'Doors', 'Persons', 'Lug_boot', 'Safety', 'Class']\n"
     ]
    }
   ],
   "source": [
    "# 2. Preprocess data and detect categorical columns\n",
    "print(\"\\n# 2. Preprocess data and detect categorical columns\")\n",
    "data, categorical_columns = preprocess_data(data_raw)\n",
    "print(f\"Detected categorical columns: {categorical_columns}\")"
   ]
  },
  {
   "cell_type": "code",
   "execution_count": 5,
   "id": "4d081506",
   "metadata": {},
   "outputs": [
    {
     "name": "stdout",
     "output_type": "stream",
     "text": [
      "\n",
      "# 3. Define the target column for this dataset\n",
      "Target column: Class\n"
     ]
    }
   ],
   "source": [
    "# 3. Define the target column for this dataset\n",
    "print(\"\\n# 3. Define the target column for this dataset\")\n",
    "target_column = \"Class\"\n",
    "print(f\"Target column: {target_column}\")"
   ]
  },
  {
   "cell_type": "code",
   "execution_count": 6,
   "id": "3056646d",
   "metadata": {},
   "outputs": [
    {
     "name": "stdout",
     "output_type": "stream",
     "text": [
      "\n",
      "# 4. Split the data into features and target\n",
      "Features shape: (1728, 6)\n",
      "Target shape: (1728,)\n",
      "Target distribution:\n",
      "Class\n",
      "unacc    1210\n",
      "acc       384\n",
      "good       69\n",
      "vgood      65\n",
      "Name: count, dtype: int64\n"
     ]
    }
   ],
   "source": [
    "# 4. Split the data into features and target\n",
    "print(\"\\n# 4. Split the data into features and target\")\n",
    "X = data.drop(columns=[target_column])\n",
    "y = data[target_column]\n",
    "print(f\"Features shape: {X.shape}\")\n",
    "print(f\"Target shape: {y.shape}\")\n",
    "print(f\"Target distribution:\\n{y.value_counts()}\")"
   ]
  },
  {
   "cell_type": "code",
   "execution_count": 7,
   "id": "ffd86f1c",
   "metadata": {},
   "outputs": [
    {
     "name": "stdout",
     "output_type": "stream",
     "text": [
      "\n",
      "# 5. Initialize and train TabDDPM\n",
      "Training TabDDPM model...\n",
      "Original data shape: (1728, 7), Target column: Class\n",
      "Added OneHotEncoder for 6 categorical columns\n",
      "Target 'Class' identified as categorical with 4 classes\n",
      "Class mapping: {'acc': 0, 'good': 1, 'unacc': 2, 'vgood': 3}\n",
      "\n",
      "Preprocessing Summary:\n",
      "- Number of numerical features: 0\n",
      "- Number of categorical features: 6\n",
      "- Categorical columns: ['Buying', 'Maint', 'Doors', 'Persons', 'Lug_boot', 'Safety']\n",
      "- Target column: Class\n",
      "- Target type: Categorical\n",
      "- Number of target classes: 4\n",
      "X shape: (1728, 6), y shape: (1728,)\n",
      "X_tensor shape: torch.Size([1728, 21]), y_tensor shape: torch.Size([1728])\n",
      "X_tensor shape: torch.Size([1728, 21])\n",
      "y_tensor shape: torch.Size([1728])\n"
     ]
    },
    {
     "name": "stderr",
     "output_type": "stream",
     "text": [
      "Epoch 299, Loss: 0.4677: 100%|██████████| 300/300 [01:29<00:00,  3.34it/s]"
     ]
    },
    {
     "name": "stdout",
     "output_type": "stream",
     "text": [
      "Training completed\n"
     ]
    },
    {
     "name": "stderr",
     "output_type": "stream",
     "text": [
      "\n"
     ]
    }
   ],
   "source": [
    "# 5. Initialize and train TabDDPM\n",
    "print(\"\\n# 5. Initialize and train TabDDPM\")\n",
    "device = torch.device('cuda' if torch.cuda.is_available() else 'cpu')\n",
    "tabddpm = TabDDPMAdapter(**config[\"tabddpm_params\"], device=device)\n",
    "print(\"Training TabDDPM model...\")\n",
    "tabddpm.fit(X, y)\n",
    "print(\"Training completed\")"
   ]
  },
  {
   "cell_type": "code",
   "execution_count": 8,
   "id": "514bc6be",
   "metadata": {},
   "outputs": [
    {
     "name": "stdout",
     "output_type": "stream",
     "text": [
      "\n",
      "# 6. Generate synthetic data\n",
      "Generating 1000 synthetic samples...\n",
      "Sample timestep    0\n",
      "Sample timestep    0\n",
      "Sample timestep    0\n",
      "Sample timestep    0\n",
      "Debug - out_dict type: <class 'torch.Tensor'>\n",
      "Added target column 'Class' with 4 unique values\n",
      "Final columns in synthetic data: ['Buying', 'Maint', 'Doors', 'Persons', 'Lug_boot', 'Safety', 'Class']\n",
      "Generated 1000 synthetic samples\n",
      "Synthetic data head:\n",
      "  Buying  Maint  Doors Persons Lug_boot Safety  Class\n",
      "0    low    low  5more       2      med   high   good\n",
      "1  vhigh  vhigh      4    more    small    low   good\n",
      "2  vhigh   high      4       4      med    low  unacc\n",
      "3   high   high  5more       2      big    med  vgood\n",
      "4    low    low  5more       2      big   high  vgood\n"
     ]
    }
   ],
   "source": [
    "# 6. Generate synthetic data\n",
    "print(\"\\n# 6. Generate synthetic data\")\n",
    "n_samples = 1000  \n",
    "print(f\"Generating {n_samples} synthetic samples...\")\n",
    "synthetic_data = tabddpm.generate(n_samples)\n",
    "print(f\"Generated {len(synthetic_data)} synthetic samples\")\n",
    "print(\"Synthetic data head:\")\n",
    "print(synthetic_data.head())"
   ]
  },
  {
   "cell_type": "code",
   "execution_count": 9,
   "id": "fbee5077",
   "metadata": {},
   "outputs": [
    {
     "name": "stdout",
     "output_type": "stream",
     "text": [
      "\n",
      "# 7. Evaluate quality using TSTR and other metrics\n",
      "Running evaluation...\n"
     ]
    },
    {
     "name": "stderr",
     "output_type": "stream",
     "text": [
      "2025-04-27 10:48:25,672 - WARNING - No numerical columns found for likelihood fitness evaluation\n",
      "2025-04-27 10:48:25,690 - INFO - Encoded categorical target with mapping: {'acc': 0, 'good': 1, 'unacc': 2, 'vgood': 3}\n",
      "c:\\Users\\kamal\\OneDrive\\Documents\\Vilo\\DEAKIN\\TRIMESTER 1 2025\\SIT378 TEAM PROJECT B\\KatabaticGitRepo\\sit378\\lib\\site-packages\\xgboost\\core.py:158: UserWarning: [10:48:29] WARNING: C:\\buildkite-agent\\builds\\buildkite-windows-cpu-autoscaling-group-i-08cbc0333d8d4aae1-1\\xgboost\\xgboost-ci-windows\\src\\learner.cc:740: \n",
      "Parameters: { \"use_label_encoder\" } are not used.\n",
      "\n",
      "  warnings.warn(smsg, UserWarning)\n",
      "2025-04-27 10:48:29,872 - INFO - Encoded categorical targets with mapping: {'acc': 0, 'good': 1, 'unacc': 2, 'vgood': 3}\n",
      "c:\\Users\\kamal\\OneDrive\\Documents\\Vilo\\DEAKIN\\TRIMESTER 1 2025\\SIT378 TEAM PROJECT B\\KatabaticGitRepo\\sit378\\lib\\site-packages\\sklearn\\neural_network\\_multilayer_perceptron.py:614: ConvergenceWarning: Stochastic Optimizer: Maximum iterations (1000) reached and the optimization hasn't converged yet.\n",
      "  warnings.warn(\n",
      "c:\\Users\\kamal\\OneDrive\\Documents\\Vilo\\DEAKIN\\TRIMESTER 1 2025\\SIT378 TEAM PROJECT B\\KatabaticGitRepo\\sit378\\lib\\site-packages\\xgboost\\core.py:158: UserWarning: [10:48:38] WARNING: C:\\buildkite-agent\\builds\\buildkite-windows-cpu-autoscaling-group-i-08cbc0333d8d4aae1-1\\xgboost\\xgboost-ci-windows\\src\\learner.cc:740: \n",
      "Parameters: { \"use_label_encoder\" } are not used.\n",
      "\n",
      "  warnings.warn(smsg, UserWarning)\n",
      "2025-04-27 10:48:38,927 - INFO - TabDDPM Evaluation Results:\n",
      "2025-04-27 10:48:38,927 - INFO - \n",
      "Likelihood Fitness: Not applicable for fully categorical data\n",
      "2025-04-27 10:48:38,929 - INFO - \n",
      "Statistical Similarity Metrics:\n",
      "2025-04-27 10:48:38,929 - INFO -   - Jensen-Shannon Divergence Mean (Categorical): 0.0154\n",
      "2025-04-27 10:48:38,931 - INFO - \n",
      "Machine Learning Efficacy Metrics on Real Data:\n",
      "2025-04-27 10:48:38,931 - INFO -   LogisticRegression:\n",
      "2025-04-27 10:48:38,931 - INFO -     - Accuracy: 0.9162\n",
      "2025-04-27 10:48:38,931 - INFO -     - F1: 0.9163\n",
      "2025-04-27 10:48:38,933 - INFO -   RandomForest:\n",
      "2025-04-27 10:48:38,933 - INFO -     - Accuracy: 0.9653\n",
      "2025-04-27 10:48:38,933 - INFO -     - F1: 0.9650\n",
      "2025-04-27 10:48:38,935 - INFO -   MLP:\n",
      "2025-04-27 10:48:38,935 - INFO -     - Accuracy: 0.9855\n",
      "2025-04-27 10:48:38,935 - INFO -     - F1: 0.9863\n",
      "2025-04-27 10:48:38,935 - INFO -   XGBoost:\n",
      "2025-04-27 10:48:38,935 - INFO -     - Accuracy: 0.9798\n",
      "2025-04-27 10:48:38,937 - INFO -     - F1: 0.9818\n",
      "2025-04-27 10:48:38,937 - INFO - \n",
      "Machine Learning Utility using TSTR Approach:\n",
      "2025-04-27 10:48:38,937 - INFO -   LogisticRegression:\n",
      "2025-04-27 10:48:38,937 - INFO -     - Accuracy: 0.3258\n",
      "2025-04-27 10:48:38,939 - INFO -     - F1: 0.3829\n",
      "2025-04-27 10:48:38,939 - INFO -   RandomForest:\n",
      "2025-04-27 10:48:38,939 - INFO -     - Accuracy: 0.2442\n",
      "2025-04-27 10:48:38,941 - INFO -     - F1: 0.3038\n",
      "2025-04-27 10:48:38,941 - INFO -   MLP:\n",
      "2025-04-27 10:48:38,941 - INFO -     - Accuracy: 0.2454\n",
      "2025-04-27 10:48:38,944 - INFO -     - F1: 0.3045\n",
      "2025-04-27 10:48:38,944 - INFO -   XGBoost:\n",
      "2025-04-27 10:48:38,946 - INFO -     - Accuracy: 0.2326\n",
      "2025-04-27 10:48:38,946 - INFO -     - F1: 0.2921\n"
     ]
    }
   ],
   "source": [
    "# 7. Evaluate quality using TSTR and other metrics\n",
    "print(\"\\n# 7. Evaluate quality using TSTR and other metrics\")\n",
    "print(\"Running evaluation...\")\n",
    "evaluation_results = evaluate_tabddpm(data, synthetic_data, target_column=target_column)\n",
    "print_evaluation_results(evaluation_results)\n"
   ]
  },
  {
   "cell_type": "code",
   "execution_count": 11,
   "id": "e025f710",
   "metadata": {},
   "outputs": [
    {
     "name": "stdout",
     "output_type": "stream",
     "text": [
      "\n",
      "# 8. TSTR Performance Results\n",
      "                    Accuracy        F1\n",
      "LogisticRegression  0.325810  0.382918\n",
      "RandomForest        0.244213  0.303822\n",
      "MLP                 0.245370  0.304521\n",
      "XGBoost             0.232639  0.292097\n"
     ]
    }
   ],
   "source": [
    "# 8. Extract and display TSTR results specifically\n",
    "print(\"\\n# 8. TSTR Performance Results\")\n",
    "tstr_results = get_tstr_results(evaluation_results)\n",
    "if tstr_results is not None:\n",
    "    print(tstr_results)"
   ]
  },
  {
   "cell_type": "code",
   "execution_count": 12,
   "id": "2c2810d4",
   "metadata": {},
   "outputs": [
    {
     "name": "stdout",
     "output_type": "stream",
     "text": [
      "\n",
      "# 9. Save synthetic data\n",
      "Synthetic data saved to car_synthetic.csv\n",
      "\n",
      "Test completed successfully!\n"
     ]
    }
   ],
   "source": [
    "# 9. Save the synthetic data\n",
    "print(\"\\n# 9. Save synthetic data\")\n",
    "output_path = \"car_synthetic.csv\"\n",
    "synthetic_data.to_csv(output_path, index=False)\n",
    "print(f\"Synthetic data saved to {output_path}\")\n",
    "\n",
    "print(\"\\nTest completed successfully!\")"
   ]
  }
 ],
 "metadata": {
  "kernelspec": {
   "display_name": "sit378",
   "language": "python",
   "name": "python3"
  },
  "language_info": {
   "codemirror_mode": {
    "name": "ipython",
    "version": 3
   },
   "file_extension": ".py",
   "mimetype": "text/x-python",
   "name": "python",
   "nbconvert_exporter": "python",
   "pygments_lexer": "ipython3",
   "version": "3.9.13"
  }
 },
 "nbformat": 4,
 "nbformat_minor": 5
}
