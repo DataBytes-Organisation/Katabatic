{
 "cells": [
  {
   "cell_type": "code",
   "execution_count": null,
   "metadata": {},
   "outputs": [
    {
     "name": "stderr",
     "output_type": "stream",
     "text": [
      "2025-04-10 23:56:04,647 - katabatic.models.ctabganp - INFO - CTABGANP module initialized\n"
     ]
    },
    {
     "name": "stdout",
     "output_type": "stream",
     "text": [
      "---Initialise CTABGANP Model\n",
      "mps\n",
      "raw_df.shape: (1728, 7)\n"
     ]
    },
    {
     "data": {
      "text/plain": [
       "\"\\ndata_path = 'data/car/car.csv'\\ndf = pd.read_csv(data_path)\\nprint(df[3:10])\\nlabelencoder=preprocessing.LabelEncoder()\\ndf= df.apply(lambda col: labelencoder.fit_transform(col) if col.dtype =='object' else col)\\nprint(df[3:10])\\n\""
      ]
     },
     "execution_count": 1,
     "metadata": {},
     "output_type": "execute_result"
    }
   ],
   "source": [
    "from katabatic.models.ctabganp import CTABGANPAdapter, CTABGANP, preprocess_data, postprocess_data\n",
    "import pandas as pd\n",
    "from sklearn.model_selection import train_test_split\n",
    "from sklearn.linear_model import LogisticRegression\n",
    "from sklearn.ensemble import RandomForestClassifier\n",
    "from sklearn.neural_network import MLPClassifier\n",
    "from xgboost import XGBClassifier, XGBRegressor\n",
    "from sklearn.preprocessing import OneHotEncoder, OrdinalEncoder, LabelEncoder\n",
    "from sklearn import preprocessing\n",
    "from sklearn.pipeline import Pipeline\n",
    "from sklearn.metrics import accuracy_score, precision_score, recall_score, f1_score\n",
    "\n",
    "# Initialize the adapter with a specific privacy setting\n",
    "data_path = \"data/car/car.csv\"\n",
    "ctabgan_adapter = CTABGANPAdapter(type='continuous', raw_csv_path = data_path)\n",
    "ctabgan_adapter.load_model(\n",
    "                 test_ratio = 0.20,\n",
    "                 categorical_columns = ['Buying','Maint','Doors','Persons','Lug_boot','Safety','Class'], \n",
    "                 log_columns = [],\n",
    "                 mixed_columns= {},\n",
    "                 general_columns = [],\n",
    "                 non_categorical_columns = [],\n",
    "                 integer_columns = [],\n",
    "                 problem_type= {\"Classification\": 'Class'}) \n",
    "\n",
    "df = ctabgan_adapter.raw_df\n",
    "x_train = ctabgan_adapter.x_train\n",
    "y_train = ctabgan_adapter.y_train\n",
    "x_test = ctabgan_adapter.x_test\n",
    "y_test = ctabgan_adapter.y_test\n",
    "\n",
    "'''\n",
    "data_path = 'data/car/car.csv'\n",
    "df = pd.read_csv(data_path)\n",
    "print(df[3:10])\n",
    "labelencoder=preprocessing.LabelEncoder()\n",
    "df= df.apply(lambda col: labelencoder.fit_transform(col) if col.dtype =='object' else col)\n",
    "print(df[3:10])\n",
    "'''\n"
   ]
  },
  {
   "cell_type": "code",
   "execution_count": 21,
   "metadata": {},
   "outputs": [
    {
     "name": "stderr",
     "output_type": "stream",
     "text": [
      "100%|██████████| 100/100 [00:41<00:00,  2.39it/s]"
     ]
    },
    {
     "name": "stdout",
     "output_type": "stream",
     "text": [
      "Finished training in 41.91309213638306  seconds.\n"
     ]
    },
    {
     "name": "stderr",
     "output_type": "stream",
     "text": [
      "\n"
     ]
    }
   ],
   "source": [
    "ctabgan_adapter.fit(epochs=100)"
   ]
  },
  {
   "cell_type": "code",
   "execution_count": 15,
   "metadata": {},
   "outputs": [
    {
     "name": "stdout",
     "output_type": "stream",
     "text": [
      "self.batch_size: 1000\n",
      "Buying : Buying\n",
      "1    617\n",
      "0    436\n",
      "3    383\n",
      "2    292\n",
      "Name: count, dtype: int64\n",
      "Maint : Maint\n",
      "1    605\n",
      "0    384\n",
      "2    379\n",
      "3    360\n",
      "Name: count, dtype: int64\n",
      "Doors : Doors\n",
      "3    580\n",
      "0    533\n",
      "1    331\n",
      "2    284\n",
      "Name: count, dtype: int64\n",
      "Persons : Persons\n",
      "0    606\n",
      "2    580\n",
      "1    542\n",
      "Name: count, dtype: int64\n",
      "Lug_boot : Lug_boot\n",
      "0    776\n",
      "1    504\n",
      "2    448\n",
      "Name: count, dtype: int64\n",
      "Safety : Safety\n",
      "0    762\n",
      "1    503\n",
      "2    463\n",
      "Name: count, dtype: int64\n",
      "Class : Class\n",
      "2    1112\n",
      "0     351\n",
      "1     153\n",
      "3     112\n",
      "Name: count, dtype: int64\n"
     ]
    }
   ],
   "source": [
    "synthetic_df = ctabgan_adapter.generate(size=1000)\n",
    "for column in synthetic_df.columns:\n",
    "    print(column, \":\", synthetic_df[column].value_counts())"
   ]
  },
  {
   "cell_type": "code",
   "execution_count": 16,
   "metadata": {},
   "outputs": [],
   "source": [
    "x_sync_train = synthetic_df.drop(synthetic_df.columns[-1],axis=1).values\n",
    "y_sync_train = synthetic_df.iloc[ :, -1:].values"
   ]
  },
  {
   "cell_type": "code",
   "execution_count": 20,
   "metadata": {},
   "outputs": [
    {
     "name": "stdout",
     "output_type": "stream",
     "text": [
      "  Evaluated Item        LR        RF       MLP      XGBT\n",
      "0           TSTR  0.699422  0.630058  0.687861  0.586705\n"
     ]
    }
   ],
   "source": [
    "\n",
    "# TSTR (train synthetic test real)\n",
    "tstr_score_lr  = LogisticRegression().fit(x_sync_train, y_sync_train).score(x_test, y_test)\n",
    "tstr_score_rf  = RandomForestClassifier().fit(x_sync_train, y_sync_train).score(x_test, y_test)\n",
    "tstr_score_mlp = MLPClassifier().fit(x_sync_train, y_sync_train).score(x_test, y_test)\n",
    "y_sync_train = LabelEncoder().fit_transform(y_sync_train)\n",
    "xgbt_classifier = XGBClassifier(eval_metric='logloss')\n",
    "tstr_score_xgbt = xgbt_classifier.fit(x_sync_train, y_sync_train).score(x_test, y_test)\n",
    "\n",
    "df_evaluate = pd.DataFrame([\n",
    "    ['TSTR', tstr_score_lr, tstr_score_rf, tstr_score_mlp, tstr_score_xgbt]\n",
    "], columns=['Evaluated Item', 'LR', 'RF', 'MLP', 'XGBT'])\n",
    "print(df_evaluate)\n"
   ]
  },
  {
   "cell_type": "code",
   "execution_count": 19,
   "metadata": {},
   "outputs": [
    {
     "name": "stdout",
     "output_type": "stream",
     "text": [
      "Classifier Evaluation on Syn Data:\n",
      "                     Accuracy  Precision    Recall  F1 Score\n",
      "Logistic Regression  0.699422   0.174855  0.250000  0.205782\n",
      "Random Forest        0.635838   0.297753  0.272035  0.272188\n",
      "MLP Classifier       0.690751   0.258408  0.253542  0.221242\n",
      "XGB Classifier       0.586705   0.286104  0.282365  0.282425\n"
     ]
    }
   ],
   "source": [
    "models = {\n",
    "    \"Logistic Regression\": LogisticRegression(max_iter=300, random_state=42),\n",
    "    \"Random Forest\": RandomForestClassifier(random_state=42),\n",
    "    \"MLP Classifier\": MLPClassifier(max_iter=300, random_state=42),\n",
    "    \"XGB Classifier\": XGBClassifier(use_label_encoder=False, eval_metric='logloss', random_state=42)\n",
    "}\n",
    "\n",
    "results = {}\n",
    "for name, model in models.items():\n",
    "    model.fit(x_sync_train, y_sync_train)\n",
    "    y_pred = model.predict(x_test)\n",
    "    results[name] = {\n",
    "        \"Accuracy\": accuracy_score(y_test, y_pred),\n",
    "        \"Precision\": precision_score(y_test, y_pred, average='macro', zero_division=0),\n",
    "        \"Recall\": recall_score(y_test, y_pred, average='macro', zero_division=0),\n",
    "        \"F1 Score\": f1_score(y_test, y_pred, average='macro', zero_division=0)\n",
    "    }\n",
    "results_df = pd.DataFrame(results).T\n",
    "print(\"Classifier Evaluation on Syn Data:\")\n",
    "print(results_df)"
   ]
  }
 ],
 "metadata": {
  "kernelspec": {
   "display_name": "py39",
   "language": "python",
   "name": "python3"
  },
  "language_info": {
   "codemirror_mode": {
    "name": "ipython",
    "version": 3
   },
   "file_extension": ".py",
   "mimetype": "text/x-python",
   "name": "python",
   "nbconvert_exporter": "python",
   "pygments_lexer": "ipython3",
   "version": "3.9.21"
  }
 },
 "nbformat": 4,
 "nbformat_minor": 2
}
