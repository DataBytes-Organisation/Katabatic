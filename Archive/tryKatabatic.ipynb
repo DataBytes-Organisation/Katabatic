{
 "cells": [
  {
   "cell_type": "markdown",
   "metadata": {},
   "source": [
    "# Katabatic Demo Usage"
   ]
  },
  {
   "cell_type": "markdown",
   "metadata": {},
   "source": [
    "#### Importing Dependenciencies"
   ]
  },
  {
   "cell_type": "code",
   "execution_count": 1,
   "metadata": {},
   "outputs": [
    {
     "name": "stdout",
     "output_type": "stream",
     "text": [
      "Requirement already satisfied: scikit-learn in c:\\users\\kamal\\onedrive\\documents\\vilo\\deakin\\trimester 1 2025\\sit378 team project b\\katabaticgitrepo\\sit378\\lib\\site-packages (1.6.1)\n",
      "Requirement already satisfied: numpy>=1.19.5 in c:\\users\\kamal\\onedrive\\documents\\vilo\\deakin\\trimester 1 2025\\sit378 team project b\\katabaticgitrepo\\sit378\\lib\\site-packages (from scikit-learn) (1.26.4)\n",
      "Requirement already satisfied: joblib>=1.2.0 in c:\\users\\kamal\\onedrive\\documents\\vilo\\deakin\\trimester 1 2025\\sit378 team project b\\katabaticgitrepo\\sit378\\lib\\site-packages (from scikit-learn) (1.4.2)\n",
      "Requirement already satisfied: scipy>=1.6.0 in c:\\users\\kamal\\onedrive\\documents\\vilo\\deakin\\trimester 1 2025\\sit378 team project b\\katabaticgitrepo\\sit378\\lib\\site-packages (from scikit-learn) (1.13.1)\n",
      "Requirement already satisfied: threadpoolctl>=3.1.0 in c:\\users\\kamal\\onedrive\\documents\\vilo\\deakin\\trimester 1 2025\\sit378 team project b\\katabaticgitrepo\\sit378\\lib\\site-packages (from scikit-learn) (3.6.0)\n"
     ]
    },
    {
     "name": "stderr",
     "output_type": "stream",
     "text": [
      "WARNING: You are using pip version 22.0.4; however, version 25.0.1 is available.\n",
      "You should consider upgrading via the 'C:\\Users\\kamal\\OneDrive\\Documents\\Vilo\\DEAKIN\\TRIMESTER 1 2025\\SIT378 TEAM PROJECT B\\KatabaticGitRepo\\sit378\\Scripts\\python.exe -m pip install --upgrade pip' command.\n"
     ]
    }
   ],
   "source": [
    "!pip install -U scikit-learn"
   ]
  },
  {
   "cell_type": "code",
   "execution_count": 2,
   "metadata": {},
   "outputs": [
    {
     "name": "stdout",
     "output_type": "stream",
     "text": [
      "Requirement already satisfied: pyitlib in c:\\users\\kamal\\onedrive\\documents\\vilo\\deakin\\trimester 1 2025\\sit378 team project b\\katabaticgitrepo\\sit378\\lib\\site-packages (0.2.3)\n",
      "Requirement already satisfied: pandas>=0.20.2 in c:\\users\\kamal\\onedrive\\documents\\vilo\\deakin\\trimester 1 2025\\sit378 team project b\\katabaticgitrepo\\sit378\\lib\\site-packages (from pyitlib) (2.2.3)\n",
      "Requirement already satisfied: numpy>=1.9.2 in c:\\users\\kamal\\onedrive\\documents\\vilo\\deakin\\trimester 1 2025\\sit378 team project b\\katabaticgitrepo\\sit378\\lib\\site-packages (from pyitlib) (1.26.4)\n",
      "Collecting scikit-learn<=0.24,>=0.16.0\n",
      "  Using cached scikit_learn-0.24.0-cp39-cp39-win_amd64.whl (6.9 MB)\n",
      "Requirement already satisfied: scipy>=1.0.1 in c:\\users\\kamal\\onedrive\\documents\\vilo\\deakin\\trimester 1 2025\\sit378 team project b\\katabaticgitrepo\\sit378\\lib\\site-packages (from pyitlib) (1.13.1)\n",
      "Requirement already satisfied: future>=0.16.0 in c:\\users\\kamal\\onedrive\\documents\\vilo\\deakin\\trimester 1 2025\\sit378 team project b\\katabaticgitrepo\\sit378\\lib\\site-packages (from pyitlib) (1.0.0)\n",
      "Requirement already satisfied: pytz>=2020.1 in c:\\users\\kamal\\onedrive\\documents\\vilo\\deakin\\trimester 1 2025\\sit378 team project b\\katabaticgitrepo\\sit378\\lib\\site-packages (from pandas>=0.20.2->pyitlib) (2025.1)\n",
      "Requirement already satisfied: tzdata>=2022.7 in c:\\users\\kamal\\onedrive\\documents\\vilo\\deakin\\trimester 1 2025\\sit378 team project b\\katabaticgitrepo\\sit378\\lib\\site-packages (from pandas>=0.20.2->pyitlib) (2025.1)\n",
      "Requirement already satisfied: python-dateutil>=2.8.2 in c:\\users\\kamal\\onedrive\\documents\\vilo\\deakin\\trimester 1 2025\\sit378 team project b\\katabaticgitrepo\\sit378\\lib\\site-packages (from pandas>=0.20.2->pyitlib) (2.9.0.post0)\n",
      "Requirement already satisfied: threadpoolctl>=2.0.0 in c:\\users\\kamal\\onedrive\\documents\\vilo\\deakin\\trimester 1 2025\\sit378 team project b\\katabaticgitrepo\\sit378\\lib\\site-packages (from scikit-learn<=0.24,>=0.16.0->pyitlib) (3.6.0)\n",
      "Requirement already satisfied: joblib>=0.11 in c:\\users\\kamal\\onedrive\\documents\\vilo\\deakin\\trimester 1 2025\\sit378 team project b\\katabaticgitrepo\\sit378\\lib\\site-packages (from scikit-learn<=0.24,>=0.16.0->pyitlib) (1.4.2)\n",
      "Requirement already satisfied: six>=1.5 in c:\\users\\kamal\\onedrive\\documents\\vilo\\deakin\\trimester 1 2025\\sit378 team project b\\katabaticgitrepo\\sit378\\lib\\site-packages (from python-dateutil>=2.8.2->pandas>=0.20.2->pyitlib) (1.17.0)\n",
      "Installing collected packages: scikit-learn\n",
      "  Attempting uninstall: scikit-learn\n",
      "    Found existing installation: scikit-learn 1.6.1\n",
      "    Uninstalling scikit-learn-1.6.1:\n",
      "      Successfully uninstalled scikit-learn-1.6.1\n"
     ]
    },
    {
     "name": "stderr",
     "output_type": "stream",
     "text": [
      "ERROR: Could not install packages due to an OSError: [WinError 5] Access is denied: 'C:\\\\Users\\\\kamal\\\\OneDrive\\\\Documents\\\\Vilo\\\\DEAKIN\\\\TRIMESTER 1 2025\\\\SIT378 TEAM PROJECT B\\\\KatabaticGitRepo\\\\sit378\\\\Lib\\\\site-packages\\\\~~learn\\\\.libs\\\\msvcp140.dll'\n",
      "Check the permissions.\n",
      "\n",
      "WARNING: You are using pip version 22.0.4; however, version 25.0.1 is available.\n",
      "You should consider upgrading via the 'C:\\Users\\kamal\\OneDrive\\Documents\\Vilo\\DEAKIN\\TRIMESTER 1 2025\\SIT378 TEAM PROJECT B\\KatabaticGitRepo\\sit378\\Scripts\\python.exe -m pip install --upgrade pip' command.\n"
     ]
    }
   ],
   "source": [
    "!pip install pyitlib"
   ]
  },
  {
   "cell_type": "code",
   "execution_count": 3,
   "metadata": {},
   "outputs": [
    {
     "name": "stdout",
     "output_type": "stream",
     "text": [
      "Requirement already satisfied: tensorflow in c:\\users\\kamal\\onedrive\\documents\\vilo\\deakin\\trimester 1 2025\\sit378 team project b\\katabaticgitrepo\\sit378\\lib\\site-packages (2.19.0)\n",
      "Requirement already satisfied: flatbuffers>=24.3.25 in c:\\users\\kamal\\onedrive\\documents\\vilo\\deakin\\trimester 1 2025\\sit378 team project b\\katabaticgitrepo\\sit378\\lib\\site-packages (from tensorflow) (25.2.10)\n",
      "Requirement already satisfied: absl-py>=1.0.0 in c:\\users\\kamal\\onedrive\\documents\\vilo\\deakin\\trimester 1 2025\\sit378 team project b\\katabaticgitrepo\\sit378\\lib\\site-packages (from tensorflow) (2.1.0)\n",
      "Requirement already satisfied: astunparse>=1.6.0 in c:\\users\\kamal\\onedrive\\documents\\vilo\\deakin\\trimester 1 2025\\sit378 team project b\\katabaticgitrepo\\sit378\\lib\\site-packages (from tensorflow) (1.6.3)\n",
      "Requirement already satisfied: h5py>=3.11.0 in c:\\users\\kamal\\onedrive\\documents\\vilo\\deakin\\trimester 1 2025\\sit378 team project b\\katabaticgitrepo\\sit378\\lib\\site-packages (from tensorflow) (3.13.0)\n",
      "Requirement already satisfied: setuptools in c:\\users\\kamal\\onedrive\\documents\\vilo\\deakin\\trimester 1 2025\\sit378 team project b\\katabaticgitrepo\\sit378\\lib\\site-packages (from tensorflow) (58.1.0)\n",
      "Requirement already satisfied: opt-einsum>=2.3.2 in c:\\users\\kamal\\onedrive\\documents\\vilo\\deakin\\trimester 1 2025\\sit378 team project b\\katabaticgitrepo\\sit378\\lib\\site-packages (from tensorflow) (3.4.0)\n",
      "Requirement already satisfied: protobuf!=4.21.0,!=4.21.1,!=4.21.2,!=4.21.3,!=4.21.4,!=4.21.5,<6.0.0dev,>=3.20.3 in c:\\users\\kamal\\onedrive\\documents\\vilo\\deakin\\trimester 1 2025\\sit378 team project b\\katabaticgitrepo\\sit378\\lib\\site-packages (from tensorflow) (5.29.3)\n",
      "Requirement already satisfied: requests<3,>=2.21.0 in c:\\users\\kamal\\onedrive\\documents\\vilo\\deakin\\trimester 1 2025\\sit378 team project b\\katabaticgitrepo\\sit378\\lib\\site-packages (from tensorflow) (2.32.3)\n",
      "Requirement already satisfied: gast!=0.5.0,!=0.5.1,!=0.5.2,>=0.2.1 in c:\\users\\kamal\\onedrive\\documents\\vilo\\deakin\\trimester 1 2025\\sit378 team project b\\katabaticgitrepo\\sit378\\lib\\site-packages (from tensorflow) (0.6.0)\n",
      "Requirement already satisfied: libclang>=13.0.0 in c:\\users\\kamal\\onedrive\\documents\\vilo\\deakin\\trimester 1 2025\\sit378 team project b\\katabaticgitrepo\\sit378\\lib\\site-packages (from tensorflow) (18.1.1)\n",
      "Requirement already satisfied: tensorflow-io-gcs-filesystem>=0.23.1 in c:\\users\\kamal\\onedrive\\documents\\vilo\\deakin\\trimester 1 2025\\sit378 team project b\\katabaticgitrepo\\sit378\\lib\\site-packages (from tensorflow) (0.31.0)\n",
      "Requirement already satisfied: termcolor>=1.1.0 in c:\\users\\kamal\\onedrive\\documents\\vilo\\deakin\\trimester 1 2025\\sit378 team project b\\katabaticgitrepo\\sit378\\lib\\site-packages (from tensorflow) (2.5.0)\n",
      "Requirement already satisfied: ml-dtypes<1.0.0,>=0.5.1 in c:\\users\\kamal\\onedrive\\documents\\vilo\\deakin\\trimester 1 2025\\sit378 team project b\\katabaticgitrepo\\sit378\\lib\\site-packages (from tensorflow) (0.5.1)\n",
      "Requirement already satisfied: grpcio<2.0,>=1.24.3 in c:\\users\\kamal\\onedrive\\documents\\vilo\\deakin\\trimester 1 2025\\sit378 team project b\\katabaticgitrepo\\sit378\\lib\\site-packages (from tensorflow) (1.71.0)\n",
      "Requirement already satisfied: six>=1.12.0 in c:\\users\\kamal\\onedrive\\documents\\vilo\\deakin\\trimester 1 2025\\sit378 team project b\\katabaticgitrepo\\sit378\\lib\\site-packages (from tensorflow) (1.17.0)\n",
      "Requirement already satisfied: keras>=3.5.0 in c:\\users\\kamal\\onedrive\\documents\\vilo\\deakin\\trimester 1 2025\\sit378 team project b\\katabaticgitrepo\\sit378\\lib\\site-packages (from tensorflow) (3.9.0)\n",
      "Requirement already satisfied: google-pasta>=0.1.1 in c:\\users\\kamal\\onedrive\\documents\\vilo\\deakin\\trimester 1 2025\\sit378 team project b\\katabaticgitrepo\\sit378\\lib\\site-packages (from tensorflow) (0.2.0)\n",
      "Requirement already satisfied: packaging in c:\\users\\kamal\\onedrive\\documents\\vilo\\deakin\\trimester 1 2025\\sit378 team project b\\katabaticgitrepo\\sit378\\lib\\site-packages (from tensorflow) (24.2)\n",
      "Requirement already satisfied: wrapt>=1.11.0 in c:\\users\\kamal\\onedrive\\documents\\vilo\\deakin\\trimester 1 2025\\sit378 team project b\\katabaticgitrepo\\sit378\\lib\\site-packages (from tensorflow) (1.17.2)\n",
      "Requirement already satisfied: tensorboard~=2.19.0 in c:\\users\\kamal\\onedrive\\documents\\vilo\\deakin\\trimester 1 2025\\sit378 team project b\\katabaticgitrepo\\sit378\\lib\\site-packages (from tensorflow) (2.19.0)\n",
      "Requirement already satisfied: numpy<2.2.0,>=1.26.0 in c:\\users\\kamal\\onedrive\\documents\\vilo\\deakin\\trimester 1 2025\\sit378 team project b\\katabaticgitrepo\\sit378\\lib\\site-packages (from tensorflow) (1.26.4)\n",
      "Requirement already satisfied: typing-extensions>=3.6.6 in c:\\users\\kamal\\onedrive\\documents\\vilo\\deakin\\trimester 1 2025\\sit378 team project b\\katabaticgitrepo\\sit378\\lib\\site-packages (from tensorflow) (4.12.2)\n",
      "Requirement already satisfied: wheel<1.0,>=0.23.0 in c:\\users\\kamal\\onedrive\\documents\\vilo\\deakin\\trimester 1 2025\\sit378 team project b\\katabaticgitrepo\\sit378\\lib\\site-packages (from astunparse>=1.6.0->tensorflow) (0.45.1)\n",
      "Requirement already satisfied: namex in c:\\users\\kamal\\onedrive\\documents\\vilo\\deakin\\trimester 1 2025\\sit378 team project b\\katabaticgitrepo\\sit378\\lib\\site-packages (from keras>=3.5.0->tensorflow) (0.0.8)\n",
      "Requirement already satisfied: rich in c:\\users\\kamal\\onedrive\\documents\\vilo\\deakin\\trimester 1 2025\\sit378 team project b\\katabaticgitrepo\\sit378\\lib\\site-packages (from keras>=3.5.0->tensorflow) (13.9.4)\n",
      "Requirement already satisfied: optree in c:\\users\\kamal\\onedrive\\documents\\vilo\\deakin\\trimester 1 2025\\sit378 team project b\\katabaticgitrepo\\sit378\\lib\\site-packages (from keras>=3.5.0->tensorflow) (0.14.1)\n",
      "Requirement already satisfied: certifi>=2017.4.17 in c:\\users\\kamal\\onedrive\\documents\\vilo\\deakin\\trimester 1 2025\\sit378 team project b\\katabaticgitrepo\\sit378\\lib\\site-packages (from requests<3,>=2.21.0->tensorflow) (2025.1.31)\n",
      "Requirement already satisfied: urllib3<3,>=1.21.1 in c:\\users\\kamal\\onedrive\\documents\\vilo\\deakin\\trimester 1 2025\\sit378 team project b\\katabaticgitrepo\\sit378\\lib\\site-packages (from requests<3,>=2.21.0->tensorflow) (1.26.20)\n",
      "Requirement already satisfied: charset-normalizer<4,>=2 in c:\\users\\kamal\\onedrive\\documents\\vilo\\deakin\\trimester 1 2025\\sit378 team project b\\katabaticgitrepo\\sit378\\lib\\site-packages (from requests<3,>=2.21.0->tensorflow) (3.4.1)\n",
      "Requirement already satisfied: idna<4,>=2.5 in c:\\users\\kamal\\onedrive\\documents\\vilo\\deakin\\trimester 1 2025\\sit378 team project b\\katabaticgitrepo\\sit378\\lib\\site-packages (from requests<3,>=2.21.0->tensorflow) (3.10)\n",
      "Requirement already satisfied: tensorboard-data-server<0.8.0,>=0.7.0 in c:\\users\\kamal\\onedrive\\documents\\vilo\\deakin\\trimester 1 2025\\sit378 team project b\\katabaticgitrepo\\sit378\\lib\\site-packages (from tensorboard~=2.19.0->tensorflow) (0.7.2)\n",
      "Requirement already satisfied: werkzeug>=1.0.1 in c:\\users\\kamal\\onedrive\\documents\\vilo\\deakin\\trimester 1 2025\\sit378 team project b\\katabaticgitrepo\\sit378\\lib\\site-packages (from tensorboard~=2.19.0->tensorflow) (3.1.3)\n",
      "Requirement already satisfied: markdown>=2.6.8 in c:\\users\\kamal\\onedrive\\documents\\vilo\\deakin\\trimester 1 2025\\sit378 team project b\\katabaticgitrepo\\sit378\\lib\\site-packages (from tensorboard~=2.19.0->tensorflow) (3.7)\n",
      "Requirement already satisfied: importlib-metadata>=4.4 in c:\\users\\kamal\\onedrive\\documents\\vilo\\deakin\\trimester 1 2025\\sit378 team project b\\katabaticgitrepo\\sit378\\lib\\site-packages (from markdown>=2.6.8->tensorboard~=2.19.0->tensorflow) (8.6.1)\n",
      "Requirement already satisfied: MarkupSafe>=2.1.1 in c:\\users\\kamal\\onedrive\\documents\\vilo\\deakin\\trimester 1 2025\\sit378 team project b\\katabaticgitrepo\\sit378\\lib\\site-packages (from werkzeug>=1.0.1->tensorboard~=2.19.0->tensorflow) (3.0.2)\n",
      "Requirement already satisfied: pygments<3.0.0,>=2.13.0 in c:\\users\\kamal\\onedrive\\documents\\vilo\\deakin\\trimester 1 2025\\sit378 team project b\\katabaticgitrepo\\sit378\\lib\\site-packages (from rich->keras>=3.5.0->tensorflow) (2.19.1)\n",
      "Requirement already satisfied: markdown-it-py>=2.2.0 in c:\\users\\kamal\\onedrive\\documents\\vilo\\deakin\\trimester 1 2025\\sit378 team project b\\katabaticgitrepo\\sit378\\lib\\site-packages (from rich->keras>=3.5.0->tensorflow) (3.0.0)\n",
      "Requirement already satisfied: zipp>=3.20 in c:\\users\\kamal\\onedrive\\documents\\vilo\\deakin\\trimester 1 2025\\sit378 team project b\\katabaticgitrepo\\sit378\\lib\\site-packages (from importlib-metadata>=4.4->markdown>=2.6.8->tensorboard~=2.19.0->tensorflow) (3.21.0)\n",
      "Requirement already satisfied: mdurl~=0.1 in c:\\users\\kamal\\onedrive\\documents\\vilo\\deakin\\trimester 1 2025\\sit378 team project b\\katabaticgitrepo\\sit378\\lib\\site-packages (from markdown-it-py>=2.2.0->rich->keras>=3.5.0->tensorflow) (0.1.2)\n"
     ]
    },
    {
     "name": "stderr",
     "output_type": "stream",
     "text": [
      "WARNING: You are using pip version 22.0.4; however, version 25.0.1 is available.\n",
      "You should consider upgrading via the 'C:\\Users\\kamal\\OneDrive\\Documents\\Vilo\\DEAKIN\\TRIMESTER 1 2025\\SIT378 TEAM PROJECT B\\KatabaticGitRepo\\sit378\\Scripts\\python.exe -m pip install --upgrade pip' command.\n"
     ]
    }
   ],
   "source": [
    "!pip install tensorflow"
   ]
  },
  {
   "cell_type": "code",
   "execution_count": 6,
   "metadata": {},
   "outputs": [
    {
     "name": "stdout",
     "output_type": "stream",
     "text": [
      "Requirement already satisfied: pgmpy in c:\\users\\kamal\\onedrive\\documents\\vilo\\deakin\\trimester 1 2025\\sit378 team project b\\katabaticgitrepo\\sit378\\lib\\site-packages (0.1.26)\n",
      "Requirement already satisfied: google-generativeai in c:\\users\\kamal\\onedrive\\documents\\vilo\\deakin\\trimester 1 2025\\sit378 team project b\\katabaticgitrepo\\sit378\\lib\\site-packages (from pgmpy) (0.8.4)\n",
      "Requirement already satisfied: xgboost in c:\\users\\kamal\\onedrive\\documents\\vilo\\deakin\\trimester 1 2025\\sit378 team project b\\katabaticgitrepo\\sit378\\lib\\site-packages (from pgmpy) (2.1.4)\n",
      "Requirement already satisfied: pandas in c:\\users\\kamal\\onedrive\\documents\\vilo\\deakin\\trimester 1 2025\\sit378 team project b\\katabaticgitrepo\\sit378\\lib\\site-packages (from pgmpy) (2.2.3)\n",
      "Requirement already satisfied: scipy in c:\\users\\kamal\\onedrive\\documents\\vilo\\deakin\\trimester 1 2025\\sit378 team project b\\katabaticgitrepo\\sit378\\lib\\site-packages (from pgmpy) (1.13.1)\n",
      "Requirement already satisfied: statsmodels in c:\\users\\kamal\\onedrive\\documents\\vilo\\deakin\\trimester 1 2025\\sit378 team project b\\katabaticgitrepo\\sit378\\lib\\site-packages (from pgmpy) (0.14.4)\n",
      "Requirement already satisfied: joblib in c:\\users\\kamal\\onedrive\\documents\\vilo\\deakin\\trimester 1 2025\\sit378 team project b\\katabaticgitrepo\\sit378\\lib\\site-packages (from pgmpy) (1.4.2)\n",
      "Requirement already satisfied: opt-einsum in c:\\users\\kamal\\onedrive\\documents\\vilo\\deakin\\trimester 1 2025\\sit378 team project b\\katabaticgitrepo\\sit378\\lib\\site-packages (from pgmpy) (3.4.0)\n",
      "Requirement already satisfied: networkx in c:\\users\\kamal\\onedrive\\documents\\vilo\\deakin\\trimester 1 2025\\sit378 team project b\\katabaticgitrepo\\sit378\\lib\\site-packages (from pgmpy) (3.2.1)\n",
      "Requirement already satisfied: tqdm in c:\\users\\kamal\\onedrive\\documents\\vilo\\deakin\\trimester 1 2025\\sit378 team project b\\katabaticgitrepo\\sit378\\lib\\site-packages (from pgmpy) (4.67.1)\n",
      "Requirement already satisfied: scikit-learn in c:\\users\\kamal\\onedrive\\documents\\vilo\\deakin\\trimester 1 2025\\sit378 team project b\\katabaticgitrepo\\sit378\\lib\\site-packages (from pgmpy) (1.6.1)\n",
      "Requirement already satisfied: pyparsing in c:\\users\\kamal\\onedrive\\documents\\vilo\\deakin\\trimester 1 2025\\sit378 team project b\\katabaticgitrepo\\sit378\\lib\\site-packages (from pgmpy) (3.2.1)\n",
      "Requirement already satisfied: torch in c:\\users\\kamal\\onedrive\\documents\\vilo\\deakin\\trimester 1 2025\\sit378 team project b\\katabaticgitrepo\\sit378\\lib\\site-packages (from pgmpy) (2.6.0)\n",
      "Requirement already satisfied: numpy in c:\\users\\kamal\\onedrive\\documents\\vilo\\deakin\\trimester 1 2025\\sit378 team project b\\katabaticgitrepo\\sit378\\lib\\site-packages (from pgmpy) (1.26.4)\n",
      "Requirement already satisfied: google-auth>=2.15.0 in c:\\users\\kamal\\onedrive\\documents\\vilo\\deakin\\trimester 1 2025\\sit378 team project b\\katabaticgitrepo\\sit378\\lib\\site-packages (from google-generativeai->pgmpy) (2.38.0)\n",
      "Requirement already satisfied: protobuf in c:\\users\\kamal\\onedrive\\documents\\vilo\\deakin\\trimester 1 2025\\sit378 team project b\\katabaticgitrepo\\sit378\\lib\\site-packages (from google-generativeai->pgmpy) (5.29.3)\n",
      "Requirement already satisfied: google-api-python-client in c:\\users\\kamal\\onedrive\\documents\\vilo\\deakin\\trimester 1 2025\\sit378 team project b\\katabaticgitrepo\\sit378\\lib\\site-packages (from google-generativeai->pgmpy) (2.164.0)\n",
      "Requirement already satisfied: typing-extensions in c:\\users\\kamal\\onedrive\\documents\\vilo\\deakin\\trimester 1 2025\\sit378 team project b\\katabaticgitrepo\\sit378\\lib\\site-packages (from google-generativeai->pgmpy) (4.12.2)\n",
      "Requirement already satisfied: pydantic in c:\\users\\kamal\\onedrive\\documents\\vilo\\deakin\\trimester 1 2025\\sit378 team project b\\katabaticgitrepo\\sit378\\lib\\site-packages (from google-generativeai->pgmpy) (2.10.6)\n",
      "Requirement already satisfied: google-ai-generativelanguage==0.6.15 in c:\\users\\kamal\\onedrive\\documents\\vilo\\deakin\\trimester 1 2025\\sit378 team project b\\katabaticgitrepo\\sit378\\lib\\site-packages (from google-generativeai->pgmpy) (0.6.15)\n",
      "Requirement already satisfied: google-api-core in c:\\users\\kamal\\onedrive\\documents\\vilo\\deakin\\trimester 1 2025\\sit378 team project b\\katabaticgitrepo\\sit378\\lib\\site-packages (from google-generativeai->pgmpy) (2.24.2)\n",
      "Requirement already satisfied: proto-plus<2.0.0dev,>=1.22.3 in c:\\users\\kamal\\onedrive\\documents\\vilo\\deakin\\trimester 1 2025\\sit378 team project b\\katabaticgitrepo\\sit378\\lib\\site-packages (from google-ai-generativelanguage==0.6.15->google-generativeai->pgmpy) (1.26.1)\n",
      "Requirement already satisfied: python-dateutil>=2.8.2 in c:\\users\\kamal\\onedrive\\documents\\vilo\\deakin\\trimester 1 2025\\sit378 team project b\\katabaticgitrepo\\sit378\\lib\\site-packages (from pandas->pgmpy) (2.9.0.post0)\n",
      "Requirement already satisfied: tzdata>=2022.7 in c:\\users\\kamal\\onedrive\\documents\\vilo\\deakin\\trimester 1 2025\\sit378 team project b\\katabaticgitrepo\\sit378\\lib\\site-packages (from pandas->pgmpy) (2025.1)\n",
      "Requirement already satisfied: pytz>=2020.1 in c:\\users\\kamal\\onedrive\\documents\\vilo\\deakin\\trimester 1 2025\\sit378 team project b\\katabaticgitrepo\\sit378\\lib\\site-packages (from pandas->pgmpy) (2025.1)\n",
      "Requirement already satisfied: threadpoolctl>=3.1.0 in c:\\users\\kamal\\onedrive\\documents\\vilo\\deakin\\trimester 1 2025\\sit378 team project b\\katabaticgitrepo\\sit378\\lib\\site-packages (from scikit-learn->pgmpy) (3.6.0)\n",
      "Requirement already satisfied: packaging>=21.3 in c:\\users\\kamal\\onedrive\\documents\\vilo\\deakin\\trimester 1 2025\\sit378 team project b\\katabaticgitrepo\\sit378\\lib\\site-packages (from statsmodels->pgmpy) (24.2)\n",
      "Requirement already satisfied: patsy>=0.5.6 in c:\\users\\kamal\\onedrive\\documents\\vilo\\deakin\\trimester 1 2025\\sit378 team project b\\katabaticgitrepo\\sit378\\lib\\site-packages (from statsmodels->pgmpy) (1.0.1)\n",
      "Requirement already satisfied: sympy==1.13.1 in c:\\users\\kamal\\onedrive\\documents\\vilo\\deakin\\trimester 1 2025\\sit378 team project b\\katabaticgitrepo\\sit378\\lib\\site-packages (from torch->pgmpy) (1.13.1)\n",
      "Requirement already satisfied: jinja2 in c:\\users\\kamal\\onedrive\\documents\\vilo\\deakin\\trimester 1 2025\\sit378 team project b\\katabaticgitrepo\\sit378\\lib\\site-packages (from torch->pgmpy) (3.1.6)\n",
      "Requirement already satisfied: fsspec in c:\\users\\kamal\\onedrive\\documents\\vilo\\deakin\\trimester 1 2025\\sit378 team project b\\katabaticgitrepo\\sit378\\lib\\site-packages (from torch->pgmpy) (2025.3.0)\n",
      "Requirement already satisfied: filelock in c:\\users\\kamal\\onedrive\\documents\\vilo\\deakin\\trimester 1 2025\\sit378 team project b\\katabaticgitrepo\\sit378\\lib\\site-packages (from torch->pgmpy) (3.18.0)\n",
      "Requirement already satisfied: mpmath<1.4,>=1.1.0 in c:\\users\\kamal\\onedrive\\documents\\vilo\\deakin\\trimester 1 2025\\sit378 team project b\\katabaticgitrepo\\sit378\\lib\\site-packages (from sympy==1.13.1->torch->pgmpy) (1.3.0)\n",
      "Requirement already satisfied: colorama in c:\\users\\kamal\\onedrive\\documents\\vilo\\deakin\\trimester 1 2025\\sit378 team project b\\katabaticgitrepo\\sit378\\lib\\site-packages (from tqdm->pgmpy) (0.4.6)\n",
      "Requirement already satisfied: cachetools<6.0,>=2.0.0 in c:\\users\\kamal\\onedrive\\documents\\vilo\\deakin\\trimester 1 2025\\sit378 team project b\\katabaticgitrepo\\sit378\\lib\\site-packages (from google-auth>=2.15.0->google-generativeai->pgmpy) (5.5.2)\n",
      "Requirement already satisfied: pyasn1-modules>=0.2.1 in c:\\users\\kamal\\onedrive\\documents\\vilo\\deakin\\trimester 1 2025\\sit378 team project b\\katabaticgitrepo\\sit378\\lib\\site-packages (from google-auth>=2.15.0->google-generativeai->pgmpy) (0.4.1)\n",
      "Requirement already satisfied: rsa<5,>=3.1.4 in c:\\users\\kamal\\onedrive\\documents\\vilo\\deakin\\trimester 1 2025\\sit378 team project b\\katabaticgitrepo\\sit378\\lib\\site-packages (from google-auth>=2.15.0->google-generativeai->pgmpy) (4.9)\n",
      "Requirement already satisfied: six>=1.5 in c:\\users\\kamal\\onedrive\\documents\\vilo\\deakin\\trimester 1 2025\\sit378 team project b\\katabaticgitrepo\\sit378\\lib\\site-packages (from python-dateutil>=2.8.2->pandas->pgmpy) (1.17.0)\n",
      "Requirement already satisfied: requests<3.0.0,>=2.18.0 in c:\\users\\kamal\\onedrive\\documents\\vilo\\deakin\\trimester 1 2025\\sit378 team project b\\katabaticgitrepo\\sit378\\lib\\site-packages (from google-api-core->google-generativeai->pgmpy) (2.32.3)\n",
      "Requirement already satisfied: googleapis-common-protos<2.0.0,>=1.56.2 in c:\\users\\kamal\\onedrive\\documents\\vilo\\deakin\\trimester 1 2025\\sit378 team project b\\katabaticgitrepo\\sit378\\lib\\site-packages (from google-api-core->google-generativeai->pgmpy) (1.69.2)\n",
      "Requirement already satisfied: httplib2<1.dev0,>=0.19.0 in c:\\users\\kamal\\onedrive\\documents\\vilo\\deakin\\trimester 1 2025\\sit378 team project b\\katabaticgitrepo\\sit378\\lib\\site-packages (from google-api-python-client->google-generativeai->pgmpy) (0.22.0)\n",
      "Requirement already satisfied: google-auth-httplib2<1.0.0,>=0.2.0 in c:\\users\\kamal\\onedrive\\documents\\vilo\\deakin\\trimester 1 2025\\sit378 team project b\\katabaticgitrepo\\sit378\\lib\\site-packages (from google-api-python-client->google-generativeai->pgmpy) (0.2.0)\n",
      "Requirement already satisfied: uritemplate<5,>=3.0.1 in c:\\users\\kamal\\onedrive\\documents\\vilo\\deakin\\trimester 1 2025\\sit378 team project b\\katabaticgitrepo\\sit378\\lib\\site-packages (from google-api-python-client->google-generativeai->pgmpy) (4.1.1)\n",
      "Requirement already satisfied: MarkupSafe>=2.0 in c:\\users\\kamal\\onedrive\\documents\\vilo\\deakin\\trimester 1 2025\\sit378 team project b\\katabaticgitrepo\\sit378\\lib\\site-packages (from jinja2->torch->pgmpy) (3.0.2)\n",
      "Requirement already satisfied: pydantic-core==2.27.2 in c:\\users\\kamal\\onedrive\\documents\\vilo\\deakin\\trimester 1 2025\\sit378 team project b\\katabaticgitrepo\\sit378\\lib\\site-packages (from pydantic->google-generativeai->pgmpy) (2.27.2)\n",
      "Requirement already satisfied: annotated-types>=0.6.0 in c:\\users\\kamal\\onedrive\\documents\\vilo\\deakin\\trimester 1 2025\\sit378 team project b\\katabaticgitrepo\\sit378\\lib\\site-packages (from pydantic->google-generativeai->pgmpy) (0.7.0)\n",
      "Requirement already satisfied: grpcio<2.0dev,>=1.33.2 in c:\\users\\kamal\\onedrive\\documents\\vilo\\deakin\\trimester 1 2025\\sit378 team project b\\katabaticgitrepo\\sit378\\lib\\site-packages (from google-api-core->google-generativeai->pgmpy) (1.71.0)\n",
      "Requirement already satisfied: grpcio-status<2.0.dev0,>=1.33.2 in c:\\users\\kamal\\onedrive\\documents\\vilo\\deakin\\trimester 1 2025\\sit378 team project b\\katabaticgitrepo\\sit378\\lib\\site-packages (from google-api-core->google-generativeai->pgmpy) (1.71.0)\n",
      "Requirement already satisfied: pyasn1<0.7.0,>=0.4.6 in c:\\users\\kamal\\onedrive\\documents\\vilo\\deakin\\trimester 1 2025\\sit378 team project b\\katabaticgitrepo\\sit378\\lib\\site-packages (from pyasn1-modules>=0.2.1->google-auth>=2.15.0->google-generativeai->pgmpy) (0.6.1)\n",
      "Requirement already satisfied: certifi>=2017.4.17 in c:\\users\\kamal\\onedrive\\documents\\vilo\\deakin\\trimester 1 2025\\sit378 team project b\\katabaticgitrepo\\sit378\\lib\\site-packages (from requests<3.0.0,>=2.18.0->google-api-core->google-generativeai->pgmpy) (2025.1.31)\n",
      "Requirement already satisfied: charset-normalizer<4,>=2 in c:\\users\\kamal\\onedrive\\documents\\vilo\\deakin\\trimester 1 2025\\sit378 team project b\\katabaticgitrepo\\sit378\\lib\\site-packages (from requests<3.0.0,>=2.18.0->google-api-core->google-generativeai->pgmpy) (3.4.1)\n",
      "Requirement already satisfied: urllib3<3,>=1.21.1 in c:\\users\\kamal\\onedrive\\documents\\vilo\\deakin\\trimester 1 2025\\sit378 team project b\\katabaticgitrepo\\sit378\\lib\\site-packages (from requests<3.0.0,>=2.18.0->google-api-core->google-generativeai->pgmpy) (1.26.20)\n",
      "Requirement already satisfied: idna<4,>=2.5 in c:\\users\\kamal\\onedrive\\documents\\vilo\\deakin\\trimester 1 2025\\sit378 team project b\\katabaticgitrepo\\sit378\\lib\\site-packages (from requests<3.0.0,>=2.18.0->google-api-core->google-generativeai->pgmpy) (3.10)\n"
     ]
    },
    {
     "name": "stderr",
     "output_type": "stream",
     "text": [
      "WARNING: You are using pip version 22.0.4; however, version 25.0.1 is available.\n",
      "You should consider upgrading via the 'C:\\Users\\kamal\\OneDrive\\Documents\\Vilo\\DEAKIN\\TRIMESTER 1 2025\\SIT378 TEAM PROJECT B\\KatabaticGitRepo\\sit378\\Scripts\\python.exe -m pip install --upgrade pip' command.\n"
     ]
    }
   ],
   "source": [
    "!pip install pgmpy"
   ]
  },
  {
   "cell_type": "code",
   "execution_count": 7,
   "metadata": {},
   "outputs": [
    {
     "name": "stdout",
     "output_type": "stream",
     "text": [
      "Requirement already satisfied: sdv in c:\\users\\kamal\\onedrive\\documents\\vilo\\deakin\\trimester 1 2025\\sit378 team project b\\katabaticgitrepo\\sit378\\lib\\site-packages (1.19.0)\n",
      "Requirement already satisfied: ctgan>=0.11.0 in c:\\users\\kamal\\onedrive\\documents\\vilo\\deakin\\trimester 1 2025\\sit378 team project b\\katabaticgitrepo\\sit378\\lib\\site-packages (from sdv) (0.11.0)\n",
      "Requirement already satisfied: numpy>=1.21.0 in c:\\users\\kamal\\onedrive\\documents\\vilo\\deakin\\trimester 1 2025\\sit378 team project b\\katabaticgitrepo\\sit378\\lib\\site-packages (from sdv) (1.26.4)\n",
      "Requirement already satisfied: rdt>=1.14.0 in c:\\users\\kamal\\onedrive\\documents\\vilo\\deakin\\trimester 1 2025\\sit378 team project b\\katabaticgitrepo\\sit378\\lib\\site-packages (from sdv) (1.15.0)\n",
      "Requirement already satisfied: pandas>=1.4.0 in c:\\users\\kamal\\onedrive\\documents\\vilo\\deakin\\trimester 1 2025\\sit378 team project b\\katabaticgitrepo\\sit378\\lib\\site-packages (from sdv) (2.2.3)\n",
      "Requirement already satisfied: pyyaml>=6.0.1 in c:\\users\\kamal\\onedrive\\documents\\vilo\\deakin\\trimester 1 2025\\sit378 team project b\\katabaticgitrepo\\sit378\\lib\\site-packages (from sdv) (6.0.2)\n",
      "Requirement already satisfied: sdmetrics>=0.19.0 in c:\\users\\kamal\\onedrive\\documents\\vilo\\deakin\\trimester 1 2025\\sit378 team project b\\katabaticgitrepo\\sit378\\lib\\site-packages (from sdv) (0.19.0)\n",
      "Requirement already satisfied: copulas>=0.12.1 in c:\\users\\kamal\\onedrive\\documents\\vilo\\deakin\\trimester 1 2025\\sit378 team project b\\katabaticgitrepo\\sit378\\lib\\site-packages (from sdv) (0.12.1)\n",
      "Requirement already satisfied: botocore<2.0.0,>=1.31 in c:\\users\\kamal\\onedrive\\documents\\vilo\\deakin\\trimester 1 2025\\sit378 team project b\\katabaticgitrepo\\sit378\\lib\\site-packages (from sdv) (1.37.13)\n",
      "Requirement already satisfied: boto3<2.0.0,>=1.28 in c:\\users\\kamal\\onedrive\\documents\\vilo\\deakin\\trimester 1 2025\\sit378 team project b\\katabaticgitrepo\\sit378\\lib\\site-packages (from sdv) (1.37.13)\n",
      "Requirement already satisfied: deepecho>=0.7.0 in c:\\users\\kamal\\onedrive\\documents\\vilo\\deakin\\trimester 1 2025\\sit378 team project b\\katabaticgitrepo\\sit378\\lib\\site-packages (from sdv) (0.7.0)\n",
      "Requirement already satisfied: tqdm>=4.29 in c:\\users\\kamal\\onedrive\\documents\\vilo\\deakin\\trimester 1 2025\\sit378 team project b\\katabaticgitrepo\\sit378\\lib\\site-packages (from sdv) (4.67.1)\n",
      "Requirement already satisfied: platformdirs>=4.0 in c:\\users\\kamal\\onedrive\\documents\\vilo\\deakin\\trimester 1 2025\\sit378 team project b\\katabaticgitrepo\\sit378\\lib\\site-packages (from sdv) (4.3.6)\n",
      "Requirement already satisfied: cloudpickle>=2.1.0 in c:\\users\\kamal\\onedrive\\documents\\vilo\\deakin\\trimester 1 2025\\sit378 team project b\\katabaticgitrepo\\sit378\\lib\\site-packages (from sdv) (3.1.1)\n",
      "Requirement already satisfied: graphviz>=0.13.2 in c:\\users\\kamal\\onedrive\\documents\\vilo\\deakin\\trimester 1 2025\\sit378 team project b\\katabaticgitrepo\\sit378\\lib\\site-packages (from sdv) (0.20.3)\n",
      "Requirement already satisfied: jmespath<2.0.0,>=0.7.1 in c:\\users\\kamal\\onedrive\\documents\\vilo\\deakin\\trimester 1 2025\\sit378 team project b\\katabaticgitrepo\\sit378\\lib\\site-packages (from boto3<2.0.0,>=1.28->sdv) (1.0.1)\n",
      "Requirement already satisfied: s3transfer<0.12.0,>=0.11.0 in c:\\users\\kamal\\onedrive\\documents\\vilo\\deakin\\trimester 1 2025\\sit378 team project b\\katabaticgitrepo\\sit378\\lib\\site-packages (from boto3<2.0.0,>=1.28->sdv) (0.11.4)\n",
      "Requirement already satisfied: python-dateutil<3.0.0,>=2.1 in c:\\users\\kamal\\onedrive\\documents\\vilo\\deakin\\trimester 1 2025\\sit378 team project b\\katabaticgitrepo\\sit378\\lib\\site-packages (from botocore<2.0.0,>=1.31->sdv) (2.9.0.post0)\n",
      "Requirement already satisfied: urllib3<1.27,>=1.25.4 in c:\\users\\kamal\\onedrive\\documents\\vilo\\deakin\\trimester 1 2025\\sit378 team project b\\katabaticgitrepo\\sit378\\lib\\site-packages (from botocore<2.0.0,>=1.31->sdv) (1.26.20)\n",
      "Requirement already satisfied: scipy>=1.7.3 in c:\\users\\kamal\\onedrive\\documents\\vilo\\deakin\\trimester 1 2025\\sit378 team project b\\katabaticgitrepo\\sit378\\lib\\site-packages (from copulas>=0.12.1->sdv) (1.13.1)\n",
      "Requirement already satisfied: plotly>=5.10.0 in c:\\users\\kamal\\onedrive\\documents\\vilo\\deakin\\trimester 1 2025\\sit378 team project b\\katabaticgitrepo\\sit378\\lib\\site-packages (from copulas>=0.12.1->sdv) (6.0.0)\n",
      "Requirement already satisfied: torch>=1.13.0 in c:\\users\\kamal\\onedrive\\documents\\vilo\\deakin\\trimester 1 2025\\sit378 team project b\\katabaticgitrepo\\sit378\\lib\\site-packages (from ctgan>=0.11.0->sdv) (2.6.0)\n",
      "Requirement already satisfied: pytz>=2020.1 in c:\\users\\kamal\\onedrive\\documents\\vilo\\deakin\\trimester 1 2025\\sit378 team project b\\katabaticgitrepo\\sit378\\lib\\site-packages (from pandas>=1.4.0->sdv) (2025.1)\n",
      "Requirement already satisfied: tzdata>=2022.7 in c:\\users\\kamal\\onedrive\\documents\\vilo\\deakin\\trimester 1 2025\\sit378 team project b\\katabaticgitrepo\\sit378\\lib\\site-packages (from pandas>=1.4.0->sdv) (2025.1)\n",
      "Requirement already satisfied: scikit-learn>=1.0.2 in c:\\users\\kamal\\onedrive\\documents\\vilo\\deakin\\trimester 1 2025\\sit378 team project b\\katabaticgitrepo\\sit378\\lib\\site-packages (from rdt>=1.14.0->sdv) (1.6.1)\n",
      "Requirement already satisfied: Faker>=17 in c:\\users\\kamal\\onedrive\\documents\\vilo\\deakin\\trimester 1 2025\\sit378 team project b\\katabaticgitrepo\\sit378\\lib\\site-packages (from rdt>=1.14.0->sdv) (37.0.0)\n",
      "Requirement already satisfied: colorama in c:\\users\\kamal\\onedrive\\documents\\vilo\\deakin\\trimester 1 2025\\sit378 team project b\\katabaticgitrepo\\sit378\\lib\\site-packages (from tqdm>=4.29->sdv) (0.4.6)\n",
      "Requirement already satisfied: narwhals>=1.15.1 in c:\\users\\kamal\\onedrive\\documents\\vilo\\deakin\\trimester 1 2025\\sit378 team project b\\katabaticgitrepo\\sit378\\lib\\site-packages (from plotly>=5.10.0->copulas>=0.12.1->sdv) (1.30.0)\n",
      "Requirement already satisfied: packaging in c:\\users\\kamal\\onedrive\\documents\\vilo\\deakin\\trimester 1 2025\\sit378 team project b\\katabaticgitrepo\\sit378\\lib\\site-packages (from plotly>=5.10.0->copulas>=0.12.1->sdv) (24.2)\n",
      "Requirement already satisfied: six>=1.5 in c:\\users\\kamal\\onedrive\\documents\\vilo\\deakin\\trimester 1 2025\\sit378 team project b\\katabaticgitrepo\\sit378\\lib\\site-packages (from python-dateutil<3.0.0,>=2.1->botocore<2.0.0,>=1.31->sdv) (1.17.0)\n",
      "Requirement already satisfied: threadpoolctl>=3.1.0 in c:\\users\\kamal\\onedrive\\documents\\vilo\\deakin\\trimester 1 2025\\sit378 team project b\\katabaticgitrepo\\sit378\\lib\\site-packages (from scikit-learn>=1.0.2->rdt>=1.14.0->sdv) (3.6.0)\n",
      "Requirement already satisfied: joblib>=1.2.0 in c:\\users\\kamal\\onedrive\\documents\\vilo\\deakin\\trimester 1 2025\\sit378 team project b\\katabaticgitrepo\\sit378\\lib\\site-packages (from scikit-learn>=1.0.2->rdt>=1.14.0->sdv) (1.4.2)\n",
      "Requirement already satisfied: fsspec in c:\\users\\kamal\\onedrive\\documents\\vilo\\deakin\\trimester 1 2025\\sit378 team project b\\katabaticgitrepo\\sit378\\lib\\site-packages (from torch>=1.13.0->ctgan>=0.11.0->sdv) (2025.3.0)\n",
      "Requirement already satisfied: sympy==1.13.1 in c:\\users\\kamal\\onedrive\\documents\\vilo\\deakin\\trimester 1 2025\\sit378 team project b\\katabaticgitrepo\\sit378\\lib\\site-packages (from torch>=1.13.0->ctgan>=0.11.0->sdv) (1.13.1)\n",
      "Requirement already satisfied: jinja2 in c:\\users\\kamal\\onedrive\\documents\\vilo\\deakin\\trimester 1 2025\\sit378 team project b\\katabaticgitrepo\\sit378\\lib\\site-packages (from torch>=1.13.0->ctgan>=0.11.0->sdv) (3.1.6)\n",
      "Requirement already satisfied: typing-extensions>=4.10.0 in c:\\users\\kamal\\onedrive\\documents\\vilo\\deakin\\trimester 1 2025\\sit378 team project b\\katabaticgitrepo\\sit378\\lib\\site-packages (from torch>=1.13.0->ctgan>=0.11.0->sdv) (4.12.2)\n",
      "Requirement already satisfied: networkx in c:\\users\\kamal\\onedrive\\documents\\vilo\\deakin\\trimester 1 2025\\sit378 team project b\\katabaticgitrepo\\sit378\\lib\\site-packages (from torch>=1.13.0->ctgan>=0.11.0->sdv) (3.2.1)\n",
      "Requirement already satisfied: filelock in c:\\users\\kamal\\onedrive\\documents\\vilo\\deakin\\trimester 1 2025\\sit378 team project b\\katabaticgitrepo\\sit378\\lib\\site-packages (from torch>=1.13.0->ctgan>=0.11.0->sdv) (3.18.0)\n",
      "Requirement already satisfied: mpmath<1.4,>=1.1.0 in c:\\users\\kamal\\onedrive\\documents\\vilo\\deakin\\trimester 1 2025\\sit378 team project b\\katabaticgitrepo\\sit378\\lib\\site-packages (from sympy==1.13.1->torch>=1.13.0->ctgan>=0.11.0->sdv) (1.3.0)\n",
      "Requirement already satisfied: MarkupSafe>=2.0 in c:\\users\\kamal\\onedrive\\documents\\vilo\\deakin\\trimester 1 2025\\sit378 team project b\\katabaticgitrepo\\sit378\\lib\\site-packages (from jinja2->torch>=1.13.0->ctgan>=0.11.0->sdv) (3.0.2)\n"
     ]
    },
    {
     "name": "stderr",
     "output_type": "stream",
     "text": [
      "WARNING: You are using pip version 22.0.4; however, version 25.0.1 is available.\n",
      "You should consider upgrading via the 'C:\\Users\\kamal\\OneDrive\\Documents\\Vilo\\DEAKIN\\TRIMESTER 1 2025\\SIT378 TEAM PROJECT B\\KatabaticGitRepo\\sit378\\Scripts\\python.exe -m pip install --upgrade pip' command.\n"
     ]
    }
   ],
   "source": [
    "!pip install sdv"
   ]
  },
  {
   "cell_type": "markdown",
   "metadata": {},
   "source": [
    "#### Importing Katabatic"
   ]
  },
  {
   "cell_type": "code",
   "execution_count": 8,
   "metadata": {},
   "outputs": [],
   "source": [
    "from katabatic.katabatic import Katabatic\n",
    "import numpy as np\n"
   ]
  },
  {
   "cell_type": "markdown",
   "metadata": {},
   "source": [
    "Sample Training Data"
   ]
  },
  {
   "cell_type": "code",
   "execution_count": 9,
   "metadata": {},
   "outputs": [],
   "source": [
    "# Generating sample data for X_train\n",
    "X_train = np.array([\n",
    "    [0.1, 1.2, 3.4, 4.5],\n",
    "    [2.3, 3.4, 1.1, 0.2],\n",
    "    [1.4, 0.4, 2.2, 3.3],\n",
    "    [3.1, 4.2, 1.0, 2.5],\n",
    "    [2.2, 1.1, 0.3, 4.1],\n",
    "    [0.5, 2.2, 4.4, 1.3],\n",
    "    [1.8, 3.3, 0.9, 2.2],\n",
    "    [2.6, 1.5, 3.3, 0.1],\n",
    "    [0.7, 4.4, 1.4, 3.0],\n",
    "    [1.9, 2.8, 3.9, 4.0]\n",
    "])\n",
    "\n",
    "# Generating sample data for y_train\n",
    "y_train = np.array([0, 1, 0, 1, 0, 1, 0, 1, 0, 1])"
   ]
  },
  {
   "cell_type": "markdown",
   "metadata": {},
   "source": [
    "Load Model and Train it on Sample Training Data"
   ]
  },
  {
   "cell_type": "code",
   "execution_count": 10,
   "metadata": {},
   "outputs": [
    {
     "name": "stdout",
     "output_type": "stream",
     "text": [
      "--------------------------\n",
      "module name:    katabatic.katabatic\n",
      "parent process: 28556\n",
      "process id:     12628\n",
      "katabatic.models.ganblr.ganblr_adapter\n",
      "katabatic.models.ganblr.ganblr_adapter\n",
      "<module 'katabatic.models.ganblr.ganblr_adapter' from 'c:\\\\Users\\\\kamal\\\\OneDrive\\\\Documents\\\\Vilo\\\\DEAKIN\\\\TRIMESTER 1 2025\\\\SIT378 TEAM PROJECT B\\\\KatabaticGitRepo\\\\Katabatic\\\\katabatic\\\\models\\\\ganblr\\\\ganblr_adapter.py'>\n",
      "[INFO] Initializing GANBLR Model\n",
      "[INFO] Training GANBLR model\n",
      "warmup run:\n",
      "\u001b[1m1/1\u001b[0m \u001b[32m━━━━━━━━━━━━━━━━━━━━\u001b[0m\u001b[37m\u001b[0m \u001b[1m1s\u001b[0m 681ms/step - accuracy: 0.5000 - loss: 0.6706\n",
      "Epoch 1/10: G_loss = 7.476369, G_accuracy = 0.500000, D_loss = 2.607214, D_accuracy = 0.437500\n",
      "Epoch 2/10: G_loss = 2.226704, G_accuracy = 0.500000, D_loss = 1.204499, D_accuracy = 0.625000\n",
      "Epoch 3/10: G_loss = 2.170257, G_accuracy = 0.500000, D_loss = 2.523520, D_accuracy = 0.562500\n",
      "Epoch 4/10: G_loss = 0.654934, G_accuracy = 0.500000, D_loss = 3.866322, D_accuracy = 0.500000\n",
      "Epoch 5/10: G_loss = 1.625872, G_accuracy = 0.500000, D_loss = 2.481196, D_accuracy = 0.312500\n",
      "Epoch 6/10: G_loss = 3.749648, G_accuracy = 0.500000, D_loss = 1.990705, D_accuracy = 0.500000\n",
      "Epoch 7/10: G_loss = 1.704304, G_accuracy = 0.500000, D_loss = 2.644665, D_accuracy = 0.312500\n",
      "Epoch 8/10: G_loss = 10.585148, G_accuracy = 0.500000, D_loss = 3.488723, D_accuracy = 0.562500\n",
      "Epoch 9/10: G_loss = 5.171801, G_accuracy = 0.600000, D_loss = 2.036829, D_accuracy = 0.500000\n",
      "Epoch 10/10: G_loss = 10.380011, G_accuracy = 0.600000, D_loss = 5.135652, D_accuracy = 0.437500\n",
      "[SUCCESS] Model training completed\n"
     ]
    }
   ],
   "source": [
    "model = Katabatic.run_model('ganblr')\n",
    "model.load_model()\n",
    "model.fit(X_train,y_train)"
   ]
  },
  {
   "cell_type": "markdown",
   "metadata": {},
   "source": [
    "Generate New Data from trained model"
   ]
  },
  {
   "cell_type": "code",
   "execution_count": 11,
   "metadata": {},
   "outputs": [
    {
     "name": "stdout",
     "output_type": "stream",
     "text": [
      "[INFO] Generating data using GANBLR model\n",
      "[SUCCESS] Data generation completed\n"
     ]
    },
    {
     "data": {
      "text/plain": [
       "array([[0.7, 0.4, 0.3, 4.5, 0],\n",
       "       [2.6, 1.5, 1.4, 3.0, 1],\n",
       "       [1.8, 0.4, 3.4, 1.3, 0],\n",
       "       [0.7, 0.4, 1.4, 4.1, 1],\n",
       "       [2.2, 3.3, 4.4, 3.0, 1]], dtype=object)"
      ]
     },
     "execution_count": 11,
     "metadata": {},
     "output_type": "execute_result"
    }
   ],
   "source": [
    "model.generate(size=5)"
   ]
  },
  {
   "cell_type": "code",
   "execution_count": null,
   "metadata": {},
   "outputs": [],
   "source": [
    "# Future import statement ideas\n",
    "\n",
    "import katabatic as kb\n",
    "from katabatic.models import meg\n",
    "from katabatic.models import ganblr\n",
    "from katabatic.evaluate import eval_method1\n",
    "from katabatic.utils.preprocessing import data_processing_method1  # good place to store preprocessing utilities"
   ]
  }
 ],
 "metadata": {
  "kernelspec": {
   "display_name": "sit378",
   "language": "python",
   "name": "python3"
  },
  "language_info": {
   "codemirror_mode": {
    "name": "ipython",
    "version": 3
   },
   "file_extension": ".py",
   "mimetype": "text/x-python",
   "name": "python",
   "nbconvert_exporter": "python",
   "pygments_lexer": "ipython3",
   "version": "3.9.13"
  }
 },
 "nbformat": 4,
 "nbformat_minor": 2
}
