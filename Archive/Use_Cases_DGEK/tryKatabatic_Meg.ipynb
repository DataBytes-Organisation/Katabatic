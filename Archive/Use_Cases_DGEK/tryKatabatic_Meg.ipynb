{
 "cells": [
  {
   "cell_type": "markdown",
   "metadata": {},
   "source": [
    "# Katabatic Demo Usage"
   ]
  },
  {
   "cell_type": "markdown",
   "metadata": {},
   "source": [
    "#### Importing Dependenciencies"
   ]
  },
  {
   "cell_type": "code",
   "execution_count": 1,
   "metadata": {},
   "outputs": [
    {
     "name": "stdout",
     "output_type": "stream",
     "text": [
      "Requirement already satisfied: scikit-learn in c:\\users\\asus\\appdata\\local\\programs\\python\\python39\\lib\\site-packages (0.24.0)\n",
      "Collecting scikit-learn\n",
      "  Using cached scikit_learn-1.5.1-cp39-cp39-win_amd64.whl.metadata (12 kB)\n",
      "Requirement already satisfied: numpy>=1.19.5 in c:\\users\\asus\\appdata\\local\\programs\\python\\python39\\lib\\site-packages (from scikit-learn) (1.26.4)\n",
      "Requirement already satisfied: scipy>=1.6.0 in c:\\users\\asus\\appdata\\local\\programs\\python\\python39\\lib\\site-packages (from scikit-learn) (1.13.1)\n",
      "Requirement already satisfied: joblib>=1.2.0 in c:\\users\\asus\\appdata\\local\\programs\\python\\python39\\lib\\site-packages (from scikit-learn) (1.4.2)\n",
      "Requirement already satisfied: threadpoolctl>=3.1.0 in c:\\users\\asus\\appdata\\local\\programs\\python\\python39\\lib\\site-packages (from scikit-learn) (3.5.0)\n",
      "Downloading scikit_learn-1.5.1-cp39-cp39-win_amd64.whl (11.0 MB)\n",
      "   ---------------------------------------- 0.0/11.0 MB ? eta -:--:--\n",
      "   ----------------- ---------------------- 4.7/11.0 MB 28.6 MB/s eta 0:00:01\n",
      "   ---------------------------------------- 11.0/11.0 MB 29.9 MB/s eta 0:00:00\n",
      "Installing collected packages: scikit-learn\n",
      "  Attempting uninstall: scikit-learn\n",
      "    Found existing installation: scikit-learn 0.24.0\n",
      "    Uninstalling scikit-learn-0.24.0:\n",
      "      Successfully uninstalled scikit-learn-0.24.0\n",
      "Successfully installed scikit-learn-1.5.1\n"
     ]
    },
    {
     "name": "stderr",
     "output_type": "stream",
     "text": [
      "ERROR: pip's dependency resolver does not currently take into account all the packages that are installed. This behaviour is the source of the following dependency conflicts.\n",
      "pyitlib 0.2.3 requires scikit-learn<=0.24,>=0.16.0, but you have scikit-learn 1.5.1 which is incompatible.\n"
     ]
    }
   ],
   "source": [
    "!pip install -U scikit-learn"
   ]
  },
  {
   "cell_type": "code",
   "execution_count": 2,
   "metadata": {},
   "outputs": [
    {
     "name": "stdout",
     "output_type": "stream",
     "text": [
      "Requirement already satisfied: pyitlib in c:\\users\\asus\\appdata\\local\\programs\\python\\python39\\lib\\site-packages (0.2.3)\n",
      "Requirement already satisfied: pandas>=0.20.2 in c:\\users\\asus\\appdata\\local\\programs\\python\\python39\\lib\\site-packages (from pyitlib) (2.2.2)\n",
      "Requirement already satisfied: numpy>=1.9.2 in c:\\users\\asus\\appdata\\local\\programs\\python\\python39\\lib\\site-packages (from pyitlib) (1.26.4)\n",
      "Collecting scikit-learn<=0.24,>=0.16.0 (from pyitlib)\n",
      "  Using cached scikit_learn-0.24.0-cp39-cp39-win_amd64.whl.metadata (9.7 kB)\n",
      "Requirement already satisfied: scipy>=1.0.1 in c:\\users\\asus\\appdata\\local\\programs\\python\\python39\\lib\\site-packages (from pyitlib) (1.13.1)\n",
      "Requirement already satisfied: future>=0.16.0 in c:\\users\\asus\\appdata\\local\\programs\\python\\python39\\lib\\site-packages (from pyitlib) (1.0.0)\n",
      "Requirement already satisfied: python-dateutil>=2.8.2 in c:\\users\\asus\\appdata\\roaming\\python\\python39\\site-packages (from pandas>=0.20.2->pyitlib) (2.9.0.post0)\n",
      "Requirement already satisfied: pytz>=2020.1 in c:\\users\\asus\\appdata\\local\\programs\\python\\python39\\lib\\site-packages (from pandas>=0.20.2->pyitlib) (2024.1)\n",
      "Requirement already satisfied: tzdata>=2022.7 in c:\\users\\asus\\appdata\\local\\programs\\python\\python39\\lib\\site-packages (from pandas>=0.20.2->pyitlib) (2024.1)\n",
      "Requirement already satisfied: joblib>=0.11 in c:\\users\\asus\\appdata\\local\\programs\\python\\python39\\lib\\site-packages (from scikit-learn<=0.24,>=0.16.0->pyitlib) (1.4.2)\n",
      "Requirement already satisfied: threadpoolctl>=2.0.0 in c:\\users\\asus\\appdata\\local\\programs\\python\\python39\\lib\\site-packages (from scikit-learn<=0.24,>=0.16.0->pyitlib) (3.5.0)\n",
      "Requirement already satisfied: six>=1.5 in c:\\users\\asus\\appdata\\roaming\\python\\python39\\site-packages (from python-dateutil>=2.8.2->pandas>=0.20.2->pyitlib) (1.16.0)\n",
      "Using cached scikit_learn-0.24.0-cp39-cp39-win_amd64.whl (6.9 MB)\n",
      "Installing collected packages: scikit-learn\n",
      "  Attempting uninstall: scikit-learn\n",
      "    Found existing installation: scikit-learn 1.5.1\n",
      "    Uninstalling scikit-learn-1.5.1:\n",
      "      Successfully uninstalled scikit-learn-1.5.1\n",
      "Successfully installed scikit-learn-0.24.0\n"
     ]
    },
    {
     "name": "stderr",
     "output_type": "stream",
     "text": [
      "ERROR: pip's dependency resolver does not currently take into account all the packages that are installed. This behaviour is the source of the following dependency conflicts.\n",
      "rdt 1.12.2 requires scikit-learn>=1.0.2; python_version < \"3.10\", but you have scikit-learn 0.24.0 which is incompatible.\n",
      "sdmetrics 0.15.0 requires scikit-learn>=1.0.2; python_version < \"3.10\", but you have scikit-learn 0.24.0 which is incompatible.\n"
     ]
    }
   ],
   "source": [
    "!pip install pyitlib"
   ]
  },
  {
   "cell_type": "code",
   "execution_count": 3,
   "metadata": {},
   "outputs": [
    {
     "name": "stdout",
     "output_type": "stream",
     "text": [
      "Requirement already satisfied: tensorflow in c:\\users\\asus\\appdata\\local\\programs\\python\\python39\\lib\\site-packages (2.17.0)\n",
      "Requirement already satisfied: tensorflow-intel==2.17.0 in c:\\users\\asus\\appdata\\local\\programs\\python\\python39\\lib\\site-packages (from tensorflow) (2.17.0)\n",
      "Requirement already satisfied: absl-py>=1.0.0 in c:\\users\\asus\\appdata\\local\\programs\\python\\python39\\lib\\site-packages (from tensorflow-intel==2.17.0->tensorflow) (2.1.0)\n",
      "Requirement already satisfied: astunparse>=1.6.0 in c:\\users\\asus\\appdata\\local\\programs\\python\\python39\\lib\\site-packages (from tensorflow-intel==2.17.0->tensorflow) (1.6.3)\n",
      "Requirement already satisfied: flatbuffers>=24.3.25 in c:\\users\\asus\\appdata\\local\\programs\\python\\python39\\lib\\site-packages (from tensorflow-intel==2.17.0->tensorflow) (24.3.25)\n",
      "Requirement already satisfied: gast!=0.5.0,!=0.5.1,!=0.5.2,>=0.2.1 in c:\\users\\asus\\appdata\\local\\programs\\python\\python39\\lib\\site-packages (from tensorflow-intel==2.17.0->tensorflow) (0.6.0)\n",
      "Requirement already satisfied: google-pasta>=0.1.1 in c:\\users\\asus\\appdata\\local\\programs\\python\\python39\\lib\\site-packages (from tensorflow-intel==2.17.0->tensorflow) (0.2.0)\n",
      "Requirement already satisfied: h5py>=3.10.0 in c:\\users\\asus\\appdata\\local\\programs\\python\\python39\\lib\\site-packages (from tensorflow-intel==2.17.0->tensorflow) (3.11.0)\n",
      "Requirement already satisfied: libclang>=13.0.0 in c:\\users\\asus\\appdata\\local\\programs\\python\\python39\\lib\\site-packages (from tensorflow-intel==2.17.0->tensorflow) (18.1.1)\n",
      "Requirement already satisfied: ml-dtypes<0.5.0,>=0.3.1 in c:\\users\\asus\\appdata\\local\\programs\\python\\python39\\lib\\site-packages (from tensorflow-intel==2.17.0->tensorflow) (0.4.0)\n",
      "Requirement already satisfied: opt-einsum>=2.3.2 in c:\\users\\asus\\appdata\\local\\programs\\python\\python39\\lib\\site-packages (from tensorflow-intel==2.17.0->tensorflow) (3.3.0)\n",
      "Requirement already satisfied: packaging in c:\\users\\asus\\appdata\\roaming\\python\\python39\\site-packages (from tensorflow-intel==2.17.0->tensorflow) (24.1)\n",
      "Requirement already satisfied: protobuf!=4.21.0,!=4.21.1,!=4.21.2,!=4.21.3,!=4.21.4,!=4.21.5,<5.0.0dev,>=3.20.3 in c:\\users\\asus\\appdata\\local\\programs\\python\\python39\\lib\\site-packages (from tensorflow-intel==2.17.0->tensorflow) (4.25.4)\n",
      "Requirement already satisfied: requests<3,>=2.21.0 in c:\\users\\asus\\appdata\\local\\programs\\python\\python39\\lib\\site-packages (from tensorflow-intel==2.17.0->tensorflow) (2.32.3)\n",
      "Requirement already satisfied: setuptools in c:\\users\\asus\\appdata\\local\\programs\\python\\python39\\lib\\site-packages (from tensorflow-intel==2.17.0->tensorflow) (58.1.0)\n",
      "Requirement already satisfied: six>=1.12.0 in c:\\users\\asus\\appdata\\roaming\\python\\python39\\site-packages (from tensorflow-intel==2.17.0->tensorflow) (1.16.0)\n",
      "Requirement already satisfied: termcolor>=1.1.0 in c:\\users\\asus\\appdata\\local\\programs\\python\\python39\\lib\\site-packages (from tensorflow-intel==2.17.0->tensorflow) (2.4.0)\n",
      "Requirement already satisfied: typing-extensions>=3.6.6 in c:\\users\\asus\\appdata\\roaming\\python\\python39\\site-packages (from tensorflow-intel==2.17.0->tensorflow) (4.12.2)\n",
      "Requirement already satisfied: wrapt>=1.11.0 in c:\\users\\asus\\appdata\\local\\programs\\python\\python39\\lib\\site-packages (from tensorflow-intel==2.17.0->tensorflow) (1.16.0)\n",
      "Requirement already satisfied: grpcio<2.0,>=1.24.3 in c:\\users\\asus\\appdata\\local\\programs\\python\\python39\\lib\\site-packages (from tensorflow-intel==2.17.0->tensorflow) (1.65.4)\n",
      "Requirement already satisfied: tensorboard<2.18,>=2.17 in c:\\users\\asus\\appdata\\local\\programs\\python\\python39\\lib\\site-packages (from tensorflow-intel==2.17.0->tensorflow) (2.17.0)\n",
      "Requirement already satisfied: keras>=3.2.0 in c:\\users\\asus\\appdata\\local\\programs\\python\\python39\\lib\\site-packages (from tensorflow-intel==2.17.0->tensorflow) (3.4.1)\n",
      "Requirement already satisfied: tensorflow-io-gcs-filesystem>=0.23.1 in c:\\users\\asus\\appdata\\local\\programs\\python\\python39\\lib\\site-packages (from tensorflow-intel==2.17.0->tensorflow) (0.31.0)\n",
      "Requirement already satisfied: numpy<2.0.0,>=1.23.5 in c:\\users\\asus\\appdata\\local\\programs\\python\\python39\\lib\\site-packages (from tensorflow-intel==2.17.0->tensorflow) (1.26.4)\n",
      "Requirement already satisfied: wheel<1.0,>=0.23.0 in c:\\users\\asus\\appdata\\local\\programs\\python\\python39\\lib\\site-packages (from astunparse>=1.6.0->tensorflow-intel==2.17.0->tensorflow) (0.44.0)\n",
      "Requirement already satisfied: rich in c:\\users\\asus\\appdata\\local\\programs\\python\\python39\\lib\\site-packages (from keras>=3.2.0->tensorflow-intel==2.17.0->tensorflow) (13.7.1)\n",
      "Requirement already satisfied: namex in c:\\users\\asus\\appdata\\local\\programs\\python\\python39\\lib\\site-packages (from keras>=3.2.0->tensorflow-intel==2.17.0->tensorflow) (0.0.8)\n",
      "Requirement already satisfied: optree in c:\\users\\asus\\appdata\\local\\programs\\python\\python39\\lib\\site-packages (from keras>=3.2.0->tensorflow-intel==2.17.0->tensorflow) (0.12.1)\n",
      "Requirement already satisfied: charset-normalizer<4,>=2 in c:\\users\\asus\\appdata\\local\\programs\\python\\python39\\lib\\site-packages (from requests<3,>=2.21.0->tensorflow-intel==2.17.0->tensorflow) (3.3.2)\n",
      "Requirement already satisfied: idna<4,>=2.5 in c:\\users\\asus\\appdata\\local\\programs\\python\\python39\\lib\\site-packages (from requests<3,>=2.21.0->tensorflow-intel==2.17.0->tensorflow) (3.7)\n",
      "Requirement already satisfied: urllib3<3,>=1.21.1 in c:\\users\\asus\\appdata\\local\\programs\\python\\python39\\lib\\site-packages (from requests<3,>=2.21.0->tensorflow-intel==2.17.0->tensorflow) (1.26.19)\n",
      "Requirement already satisfied: certifi>=2017.4.17 in c:\\users\\asus\\appdata\\local\\programs\\python\\python39\\lib\\site-packages (from requests<3,>=2.21.0->tensorflow-intel==2.17.0->tensorflow) (2024.7.4)\n",
      "Requirement already satisfied: markdown>=2.6.8 in c:\\users\\asus\\appdata\\local\\programs\\python\\python39\\lib\\site-packages (from tensorboard<2.18,>=2.17->tensorflow-intel==2.17.0->tensorflow) (3.6)\n",
      "Requirement already satisfied: tensorboard-data-server<0.8.0,>=0.7.0 in c:\\users\\asus\\appdata\\local\\programs\\python\\python39\\lib\\site-packages (from tensorboard<2.18,>=2.17->tensorflow-intel==2.17.0->tensorflow) (0.7.2)\n",
      "Requirement already satisfied: werkzeug>=1.0.1 in c:\\users\\asus\\appdata\\local\\programs\\python\\python39\\lib\\site-packages (from tensorboard<2.18,>=2.17->tensorflow-intel==2.17.0->tensorflow) (3.0.3)\n",
      "Requirement already satisfied: importlib-metadata>=4.4 in c:\\users\\asus\\appdata\\roaming\\python\\python39\\site-packages (from markdown>=2.6.8->tensorboard<2.18,>=2.17->tensorflow-intel==2.17.0->tensorflow) (8.2.0)\n",
      "Requirement already satisfied: MarkupSafe>=2.1.1 in c:\\users\\asus\\appdata\\local\\programs\\python\\python39\\lib\\site-packages (from werkzeug>=1.0.1->tensorboard<2.18,>=2.17->tensorflow-intel==2.17.0->tensorflow) (2.1.5)\n",
      "Requirement already satisfied: markdown-it-py>=2.2.0 in c:\\users\\asus\\appdata\\local\\programs\\python\\python39\\lib\\site-packages (from rich->keras>=3.2.0->tensorflow-intel==2.17.0->tensorflow) (3.0.0)\n",
      "Requirement already satisfied: pygments<3.0.0,>=2.13.0 in c:\\users\\asus\\appdata\\roaming\\python\\python39\\site-packages (from rich->keras>=3.2.0->tensorflow-intel==2.17.0->tensorflow) (2.18.0)\n",
      "Requirement already satisfied: zipp>=0.5 in c:\\users\\asus\\appdata\\roaming\\python\\python39\\site-packages (from importlib-metadata>=4.4->markdown>=2.6.8->tensorboard<2.18,>=2.17->tensorflow-intel==2.17.0->tensorflow) (3.20.0)\n",
      "Requirement already satisfied: mdurl~=0.1 in c:\\users\\asus\\appdata\\local\\programs\\python\\python39\\lib\\site-packages (from markdown-it-py>=2.2.0->rich->keras>=3.2.0->tensorflow-intel==2.17.0->tensorflow) (0.1.2)\n"
     ]
    }
   ],
   "source": [
    "!pip install tensorflow"
   ]
  },
  {
   "cell_type": "code",
   "execution_count": 4,
   "metadata": {},
   "outputs": [
    {
     "name": "stdout",
     "output_type": "stream",
     "text": [
      "Requirement already satisfied: pgmpy in c:\\users\\asus\\appdata\\local\\programs\\python\\python39\\lib\\site-packages (0.1.26)\n",
      "Requirement already satisfied: networkx in c:\\users\\asus\\appdata\\local\\programs\\python\\python39\\lib\\site-packages (from pgmpy) (3.2.1)\n",
      "Requirement already satisfied: numpy in c:\\users\\asus\\appdata\\local\\programs\\python\\python39\\lib\\site-packages (from pgmpy) (1.26.4)\n",
      "Requirement already satisfied: scipy in c:\\users\\asus\\appdata\\local\\programs\\python\\python39\\lib\\site-packages (from pgmpy) (1.13.1)\n",
      "Requirement already satisfied: scikit-learn in c:\\users\\asus\\appdata\\local\\programs\\python\\python39\\lib\\site-packages (from pgmpy) (0.24.0)\n",
      "Requirement already satisfied: pandas in c:\\users\\asus\\appdata\\local\\programs\\python\\python39\\lib\\site-packages (from pgmpy) (2.2.2)\n",
      "Requirement already satisfied: pyparsing in c:\\users\\asus\\appdata\\local\\programs\\python\\python39\\lib\\site-packages (from pgmpy) (3.1.2)\n",
      "Requirement already satisfied: torch in c:\\users\\asus\\appdata\\local\\programs\\python\\python39\\lib\\site-packages (from pgmpy) (2.4.0)\n",
      "Requirement already satisfied: statsmodels in c:\\users\\asus\\appdata\\local\\programs\\python\\python39\\lib\\site-packages (from pgmpy) (0.14.2)\n",
      "Requirement already satisfied: tqdm in c:\\users\\asus\\appdata\\local\\programs\\python\\python39\\lib\\site-packages (from pgmpy) (4.66.5)\n",
      "Requirement already satisfied: joblib in c:\\users\\asus\\appdata\\local\\programs\\python\\python39\\lib\\site-packages (from pgmpy) (1.4.2)\n",
      "Requirement already satisfied: opt-einsum in c:\\users\\asus\\appdata\\local\\programs\\python\\python39\\lib\\site-packages (from pgmpy) (3.3.0)\n",
      "Requirement already satisfied: xgboost in c:\\users\\asus\\appdata\\local\\programs\\python\\python39\\lib\\site-packages (from pgmpy) (2.1.1)\n",
      "Requirement already satisfied: google-generativeai in c:\\users\\asus\\appdata\\local\\programs\\python\\python39\\lib\\site-packages (from pgmpy) (0.7.2)\n",
      "Requirement already satisfied: google-ai-generativelanguage==0.6.6 in c:\\users\\asus\\appdata\\local\\programs\\python\\python39\\lib\\site-packages (from google-generativeai->pgmpy) (0.6.6)\n",
      "Requirement already satisfied: google-api-core in c:\\users\\asus\\appdata\\local\\programs\\python\\python39\\lib\\site-packages (from google-generativeai->pgmpy) (2.19.1)\n",
      "Requirement already satisfied: google-api-python-client in c:\\users\\asus\\appdata\\local\\programs\\python\\python39\\lib\\site-packages (from google-generativeai->pgmpy) (2.140.0)\n",
      "Requirement already satisfied: google-auth>=2.15.0 in c:\\users\\asus\\appdata\\local\\programs\\python\\python39\\lib\\site-packages (from google-generativeai->pgmpy) (2.33.0)\n",
      "Requirement already satisfied: protobuf in c:\\users\\asus\\appdata\\local\\programs\\python\\python39\\lib\\site-packages (from google-generativeai->pgmpy) (4.25.4)\n",
      "Requirement already satisfied: pydantic in c:\\users\\asus\\appdata\\local\\programs\\python\\python39\\lib\\site-packages (from google-generativeai->pgmpy) (2.8.2)\n",
      "Requirement already satisfied: typing-extensions in c:\\users\\asus\\appdata\\roaming\\python\\python39\\site-packages (from google-generativeai->pgmpy) (4.12.2)\n",
      "Requirement already satisfied: proto-plus<2.0.0dev,>=1.22.3 in c:\\users\\asus\\appdata\\local\\programs\\python\\python39\\lib\\site-packages (from google-ai-generativelanguage==0.6.6->google-generativeai->pgmpy) (1.24.0)\n",
      "Requirement already satisfied: python-dateutil>=2.8.2 in c:\\users\\asus\\appdata\\roaming\\python\\python39\\site-packages (from pandas->pgmpy) (2.9.0.post0)\n",
      "Requirement already satisfied: pytz>=2020.1 in c:\\users\\asus\\appdata\\local\\programs\\python\\python39\\lib\\site-packages (from pandas->pgmpy) (2024.1)\n",
      "Requirement already satisfied: tzdata>=2022.7 in c:\\users\\asus\\appdata\\local\\programs\\python\\python39\\lib\\site-packages (from pandas->pgmpy) (2024.1)\n",
      "Requirement already satisfied: threadpoolctl>=2.0.0 in c:\\users\\asus\\appdata\\local\\programs\\python\\python39\\lib\\site-packages (from scikit-learn->pgmpy) (3.5.0)\n",
      "Requirement already satisfied: patsy>=0.5.6 in c:\\users\\asus\\appdata\\local\\programs\\python\\python39\\lib\\site-packages (from statsmodels->pgmpy) (0.5.6)\n",
      "Requirement already satisfied: packaging>=21.3 in c:\\users\\asus\\appdata\\roaming\\python\\python39\\site-packages (from statsmodels->pgmpy) (24.1)\n",
      "Requirement already satisfied: filelock in c:\\users\\asus\\appdata\\local\\programs\\python\\python39\\lib\\site-packages (from torch->pgmpy) (3.15.4)\n",
      "Requirement already satisfied: sympy in c:\\users\\asus\\appdata\\local\\programs\\python\\python39\\lib\\site-packages (from torch->pgmpy) (1.13.2)\n",
      "Requirement already satisfied: jinja2 in c:\\users\\asus\\appdata\\local\\programs\\python\\python39\\lib\\site-packages (from torch->pgmpy) (3.1.4)\n",
      "Requirement already satisfied: fsspec in c:\\users\\asus\\appdata\\local\\programs\\python\\python39\\lib\\site-packages (from torch->pgmpy) (2024.6.1)\n",
      "Requirement already satisfied: colorama in c:\\users\\asus\\appdata\\roaming\\python\\python39\\site-packages (from tqdm->pgmpy) (0.4.6)\n",
      "Requirement already satisfied: googleapis-common-protos<2.0.dev0,>=1.56.2 in c:\\users\\asus\\appdata\\local\\programs\\python\\python39\\lib\\site-packages (from google-api-core->google-generativeai->pgmpy) (1.63.2)\n",
      "Requirement already satisfied: requests<3.0.0.dev0,>=2.18.0 in c:\\users\\asus\\appdata\\local\\programs\\python\\python39\\lib\\site-packages (from google-api-core->google-generativeai->pgmpy) (2.32.3)\n",
      "Requirement already satisfied: cachetools<6.0,>=2.0.0 in c:\\users\\asus\\appdata\\local\\programs\\python\\python39\\lib\\site-packages (from google-auth>=2.15.0->google-generativeai->pgmpy) (5.4.0)\n",
      "Requirement already satisfied: pyasn1-modules>=0.2.1 in c:\\users\\asus\\appdata\\local\\programs\\python\\python39\\lib\\site-packages (from google-auth>=2.15.0->google-generativeai->pgmpy) (0.4.0)\n",
      "Requirement already satisfied: rsa<5,>=3.1.4 in c:\\users\\asus\\appdata\\local\\programs\\python\\python39\\lib\\site-packages (from google-auth>=2.15.0->google-generativeai->pgmpy) (4.9)\n",
      "Requirement already satisfied: six in c:\\users\\asus\\appdata\\roaming\\python\\python39\\site-packages (from patsy>=0.5.6->statsmodels->pgmpy) (1.16.0)\n",
      "Requirement already satisfied: httplib2<1.dev0,>=0.19.0 in c:\\users\\asus\\appdata\\local\\programs\\python\\python39\\lib\\site-packages (from google-api-python-client->google-generativeai->pgmpy) (0.22.0)\n",
      "Requirement already satisfied: google-auth-httplib2<1.0.0,>=0.2.0 in c:\\users\\asus\\appdata\\local\\programs\\python\\python39\\lib\\site-packages (from google-api-python-client->google-generativeai->pgmpy) (0.2.0)\n",
      "Requirement already satisfied: uritemplate<5,>=3.0.1 in c:\\users\\asus\\appdata\\local\\programs\\python\\python39\\lib\\site-packages (from google-api-python-client->google-generativeai->pgmpy) (4.1.1)\n",
      "Requirement already satisfied: MarkupSafe>=2.0 in c:\\users\\asus\\appdata\\local\\programs\\python\\python39\\lib\\site-packages (from jinja2->torch->pgmpy) (2.1.5)\n",
      "Requirement already satisfied: annotated-types>=0.4.0 in c:\\users\\asus\\appdata\\local\\programs\\python\\python39\\lib\\site-packages (from pydantic->google-generativeai->pgmpy) (0.7.0)\n",
      "Requirement already satisfied: pydantic-core==2.20.1 in c:\\users\\asus\\appdata\\local\\programs\\python\\python39\\lib\\site-packages (from pydantic->google-generativeai->pgmpy) (2.20.1)\n",
      "Requirement already satisfied: mpmath<1.4,>=1.1.0 in c:\\users\\asus\\appdata\\local\\programs\\python\\python39\\lib\\site-packages (from sympy->torch->pgmpy) (1.3.0)\n",
      "Requirement already satisfied: grpcio<2.0dev,>=1.33.2 in c:\\users\\asus\\appdata\\local\\programs\\python\\python39\\lib\\site-packages (from google-api-core[grpc]!=2.0.*,!=2.1.*,!=2.10.*,!=2.2.*,!=2.3.*,!=2.4.*,!=2.5.*,!=2.6.*,!=2.7.*,!=2.8.*,!=2.9.*,<3.0.0dev,>=1.34.1->google-ai-generativelanguage==0.6.6->google-generativeai->pgmpy) (1.65.4)\n",
      "Requirement already satisfied: grpcio-status<2.0.dev0,>=1.33.2 in c:\\users\\asus\\appdata\\local\\programs\\python\\python39\\lib\\site-packages (from google-api-core[grpc]!=2.0.*,!=2.1.*,!=2.10.*,!=2.2.*,!=2.3.*,!=2.4.*,!=2.5.*,!=2.6.*,!=2.7.*,!=2.8.*,!=2.9.*,<3.0.0dev,>=1.34.1->google-ai-generativelanguage==0.6.6->google-generativeai->pgmpy) (1.62.3)\n",
      "Requirement already satisfied: pyasn1<0.7.0,>=0.4.6 in c:\\users\\asus\\appdata\\local\\programs\\python\\python39\\lib\\site-packages (from pyasn1-modules>=0.2.1->google-auth>=2.15.0->google-generativeai->pgmpy) (0.6.0)\n",
      "Requirement already satisfied: charset-normalizer<4,>=2 in c:\\users\\asus\\appdata\\local\\programs\\python\\python39\\lib\\site-packages (from requests<3.0.0.dev0,>=2.18.0->google-api-core->google-generativeai->pgmpy) (3.3.2)\n",
      "Requirement already satisfied: idna<4,>=2.5 in c:\\users\\asus\\appdata\\local\\programs\\python\\python39\\lib\\site-packages (from requests<3.0.0.dev0,>=2.18.0->google-api-core->google-generativeai->pgmpy) (3.7)\n",
      "Requirement already satisfied: urllib3<3,>=1.21.1 in c:\\users\\asus\\appdata\\local\\programs\\python\\python39\\lib\\site-packages (from requests<3.0.0.dev0,>=2.18.0->google-api-core->google-generativeai->pgmpy) (1.26.19)\n",
      "Requirement already satisfied: certifi>=2017.4.17 in c:\\users\\asus\\appdata\\local\\programs\\python\\python39\\lib\\site-packages (from requests<3.0.0.dev0,>=2.18.0->google-api-core->google-generativeai->pgmpy) (2024.7.4)\n"
     ]
    }
   ],
   "source": [
    "!pip install pgmpy"
   ]
  },
  {
   "cell_type": "code",
   "execution_count": 5,
   "metadata": {},
   "outputs": [
    {
     "name": "stdout",
     "output_type": "stream",
     "text": [
      "Requirement already satisfied: sdv in c:\\users\\asus\\appdata\\local\\programs\\python\\python39\\lib\\site-packages (1.15.0)\n",
      "Requirement already satisfied: boto3>=1.28 in c:\\users\\asus\\appdata\\local\\programs\\python\\python39\\lib\\site-packages (from sdv) (1.34.158)\n",
      "Requirement already satisfied: botocore>=1.31 in c:\\users\\asus\\appdata\\local\\programs\\python\\python39\\lib\\site-packages (from sdv) (1.34.158)\n",
      "Requirement already satisfied: cloudpickle>=2.1.0 in c:\\users\\asus\\appdata\\local\\programs\\python\\python39\\lib\\site-packages (from sdv) (3.0.0)\n",
      "Requirement already satisfied: graphviz>=0.13.2 in c:\\users\\asus\\appdata\\local\\programs\\python\\python39\\lib\\site-packages (from sdv) (0.20.3)\n",
      "Requirement already satisfied: tqdm>=4.29 in c:\\users\\asus\\appdata\\local\\programs\\python\\python39\\lib\\site-packages (from sdv) (4.66.5)\n",
      "Requirement already satisfied: copulas>=0.11.0 in c:\\users\\asus\\appdata\\local\\programs\\python\\python39\\lib\\site-packages (from sdv) (0.11.0)\n",
      "Requirement already satisfied: ctgan>=0.10.0 in c:\\users\\asus\\appdata\\local\\programs\\python\\python39\\lib\\site-packages (from sdv) (0.10.1)\n",
      "Requirement already satisfied: deepecho>=0.6.0 in c:\\users\\asus\\appdata\\local\\programs\\python\\python39\\lib\\site-packages (from sdv) (0.6.0)\n",
      "Requirement already satisfied: rdt>=1.12.0 in c:\\users\\asus\\appdata\\local\\programs\\python\\python39\\lib\\site-packages (from sdv) (1.12.2)\n",
      "Requirement already satisfied: sdmetrics>=0.14.0 in c:\\users\\asus\\appdata\\local\\programs\\python\\python39\\lib\\site-packages (from sdv) (0.15.0)\n",
      "Requirement already satisfied: platformdirs>=4.0 in c:\\users\\asus\\appdata\\roaming\\python\\python39\\site-packages (from sdv) (4.2.2)\n",
      "Requirement already satisfied: pyyaml>=6.0.1 in c:\\users\\asus\\appdata\\local\\programs\\python\\python39\\lib\\site-packages (from sdv) (6.0.2)\n",
      "Requirement already satisfied: numpy<2.0.0,>=1.21.0 in c:\\users\\asus\\appdata\\local\\programs\\python\\python39\\lib\\site-packages (from sdv) (1.26.4)\n",
      "Requirement already satisfied: pandas>=1.4.0 in c:\\users\\asus\\appdata\\local\\programs\\python\\python39\\lib\\site-packages (from sdv) (2.2.2)\n",
      "Requirement already satisfied: jmespath<2.0.0,>=0.7.1 in c:\\users\\asus\\appdata\\local\\programs\\python\\python39\\lib\\site-packages (from boto3>=1.28->sdv) (1.0.1)\n",
      "Requirement already satisfied: s3transfer<0.11.0,>=0.10.0 in c:\\users\\asus\\appdata\\local\\programs\\python\\python39\\lib\\site-packages (from boto3>=1.28->sdv) (0.10.2)\n",
      "Requirement already satisfied: python-dateutil<3.0.0,>=2.1 in c:\\users\\asus\\appdata\\roaming\\python\\python39\\site-packages (from botocore>=1.31->sdv) (2.9.0.post0)\n",
      "Requirement already satisfied: urllib3<1.27,>=1.25.4 in c:\\users\\asus\\appdata\\local\\programs\\python\\python39\\lib\\site-packages (from botocore>=1.31->sdv) (1.26.19)\n",
      "Requirement already satisfied: plotly>=5.10.0 in c:\\users\\asus\\appdata\\local\\programs\\python\\python39\\lib\\site-packages (from copulas>=0.11.0->sdv) (5.23.0)\n",
      "Requirement already satisfied: scipy>=1.5.4 in c:\\users\\asus\\appdata\\local\\programs\\python\\python39\\lib\\site-packages (from copulas>=0.11.0->sdv) (1.13.1)\n",
      "Requirement already satisfied: torch>=1.9.0 in c:\\users\\asus\\appdata\\local\\programs\\python\\python39\\lib\\site-packages (from ctgan>=0.10.0->sdv) (2.4.0)\n",
      "Requirement already satisfied: pytz>=2020.1 in c:\\users\\asus\\appdata\\local\\programs\\python\\python39\\lib\\site-packages (from pandas>=1.4.0->sdv) (2024.1)\n",
      "Requirement already satisfied: tzdata>=2022.7 in c:\\users\\asus\\appdata\\local\\programs\\python\\python39\\lib\\site-packages (from pandas>=1.4.0->sdv) (2024.1)\n",
      "Requirement already satisfied: Faker>=17 in c:\\users\\asus\\appdata\\local\\programs\\python\\python39\\lib\\site-packages (from rdt>=1.12.0->sdv) (26.3.0)\n",
      "Collecting scikit-learn>=1.0.2 (from rdt>=1.12.0->sdv)\n",
      "  Using cached scikit_learn-1.5.1-cp39-cp39-win_amd64.whl.metadata (12 kB)\n",
      "Requirement already satisfied: colorama in c:\\users\\asus\\appdata\\roaming\\python\\python39\\site-packages (from tqdm>=4.29->sdv) (0.4.6)\n",
      "Requirement already satisfied: tenacity>=6.2.0 in c:\\users\\asus\\appdata\\local\\programs\\python\\python39\\lib\\site-packages (from plotly>=5.10.0->copulas>=0.11.0->sdv) (9.0.0)\n",
      "Requirement already satisfied: packaging in c:\\users\\asus\\appdata\\roaming\\python\\python39\\site-packages (from plotly>=5.10.0->copulas>=0.11.0->sdv) (24.1)\n",
      "Requirement already satisfied: six>=1.5 in c:\\users\\asus\\appdata\\roaming\\python\\python39\\site-packages (from python-dateutil<3.0.0,>=2.1->botocore>=1.31->sdv) (1.16.0)\n",
      "Requirement already satisfied: joblib>=1.2.0 in c:\\users\\asus\\appdata\\local\\programs\\python\\python39\\lib\\site-packages (from scikit-learn>=1.0.2->rdt>=1.12.0->sdv) (1.4.2)\n",
      "Requirement already satisfied: threadpoolctl>=3.1.0 in c:\\users\\asus\\appdata\\local\\programs\\python\\python39\\lib\\site-packages (from scikit-learn>=1.0.2->rdt>=1.12.0->sdv) (3.5.0)\n",
      "Requirement already satisfied: filelock in c:\\users\\asus\\appdata\\local\\programs\\python\\python39\\lib\\site-packages (from torch>=1.9.0->ctgan>=0.10.0->sdv) (3.15.4)\n",
      "Requirement already satisfied: typing-extensions>=4.8.0 in c:\\users\\asus\\appdata\\roaming\\python\\python39\\site-packages (from torch>=1.9.0->ctgan>=0.10.0->sdv) (4.12.2)\n",
      "Requirement already satisfied: sympy in c:\\users\\asus\\appdata\\local\\programs\\python\\python39\\lib\\site-packages (from torch>=1.9.0->ctgan>=0.10.0->sdv) (1.13.2)\n",
      "Requirement already satisfied: networkx in c:\\users\\asus\\appdata\\local\\programs\\python\\python39\\lib\\site-packages (from torch>=1.9.0->ctgan>=0.10.0->sdv) (3.2.1)\n",
      "Requirement already satisfied: jinja2 in c:\\users\\asus\\appdata\\local\\programs\\python\\python39\\lib\\site-packages (from torch>=1.9.0->ctgan>=0.10.0->sdv) (3.1.4)\n",
      "Requirement already satisfied: fsspec in c:\\users\\asus\\appdata\\local\\programs\\python\\python39\\lib\\site-packages (from torch>=1.9.0->ctgan>=0.10.0->sdv) (2024.6.1)\n",
      "Requirement already satisfied: MarkupSafe>=2.0 in c:\\users\\asus\\appdata\\local\\programs\\python\\python39\\lib\\site-packages (from jinja2->torch>=1.9.0->ctgan>=0.10.0->sdv) (2.1.5)\n",
      "Requirement already satisfied: mpmath<1.4,>=1.1.0 in c:\\users\\asus\\appdata\\local\\programs\\python\\python39\\lib\\site-packages (from sympy->torch>=1.9.0->ctgan>=0.10.0->sdv) (1.3.0)\n",
      "Using cached scikit_learn-1.5.1-cp39-cp39-win_amd64.whl (11.0 MB)\n",
      "Installing collected packages: scikit-learn\n",
      "  Attempting uninstall: scikit-learn\n",
      "    Found existing installation: scikit-learn 0.24.0\n",
      "    Uninstalling scikit-learn-0.24.0:\n",
      "      Successfully uninstalled scikit-learn-0.24.0\n",
      "Successfully installed scikit-learn-1.5.1\n"
     ]
    },
    {
     "name": "stderr",
     "output_type": "stream",
     "text": [
      "ERROR: pip's dependency resolver does not currently take into account all the packages that are installed. This behaviour is the source of the following dependency conflicts.\n",
      "pyitlib 0.2.3 requires scikit-learn<=0.24,>=0.16.0, but you have scikit-learn 1.5.1 which is incompatible.\n"
     ]
    }
   ],
   "source": [
    "!pip install sdv"
   ]
  },
  {
   "cell_type": "markdown",
   "metadata": {},
   "source": [
    "#### Importing Katabatic"
   ]
  },
  {
   "cell_type": "code",
   "execution_count": 1,
   "metadata": {},
   "outputs": [],
   "source": [
    "from katabatic.katabatic import Katabatic\n",
    "import pandas as pd\n",
    "import numpy as np\n",
    "\n"
   ]
  },
  {
   "cell_type": "code",
   "execution_count": null,
   "metadata": {},
   "outputs": [],
   "source": [
    "from katabatic.models.meg_DGEK.utils import get_demo_data\n",
    "df = get_demo_data('adult-raw')\n",
    "df.head()"
   ]
  },
  {
   "cell_type": "markdown",
   "metadata": {},
   "source": [
    "Sample Training Data"
   ]
  },
  {
   "cell_type": "code",
   "execution_count": 2,
   "metadata": {},
   "outputs": [
    {
     "data": {
      "text/plain": [
       "array([ 0,  2,  4, 10, 11, 12], dtype=int64)"
      ]
     },
     "execution_count": 2,
     "metadata": {},
     "output_type": "execute_result"
    }
   ],
   "source": [
    "from katabatic.models.meg_DGEK.utils import get_demo_data\n",
    "df = get_demo_data('adult-raw')\n",
    "df.head()\n",
    "\n",
    "from sklearn.model_selection import train_test_split\n",
    "x, y = df.values[:,:-1], df.values[:,-1]\n",
    "X_train, X_test, y_train, y_test = train_test_split(x, y, test_size=0.5)\n",
    "\n",
    "\n",
    "\n"
   ]
  },
  {
   "cell_type": "markdown",
   "metadata": {},
   "source": [
    "Load Model and Train it on Sample Training Data"
   ]
  },
  {
   "cell_type": "code",
   "execution_count": 5,
   "metadata": {},
   "outputs": [
    {
     "name": "stdout",
     "output_type": "stream",
     "text": [
      "[INFO] Initializing MEG Model\n",
      "[INFO] Initial X columns: RangeIndex(start=0, stop=14, step=1)\n",
      "[INFO] Converting column '0' to numerical format\n",
      "[INFO] Converting column '1' to numerical format\n",
      "[INFO] Converting column '2' to numerical format\n",
      "[INFO] Converting column '3' to numerical format\n",
      "[INFO] Converting column '4' to numerical format\n",
      "[INFO] Converting column '5' to numerical format\n",
      "[INFO] Converting column '6' to numerical format\n",
      "[INFO] Converting column '7' to numerical format\n",
      "[INFO] Converting column '8' to numerical format\n",
      "[INFO] Converting column '9' to numerical format\n",
      "[INFO] Converting column '10' to numerical format\n",
      "[INFO] Converting column '11' to numerical format\n",
      "[INFO] Converting column '12' to numerical format\n",
      "[INFO] Converting column '13' to numerical format\n",
      "[INFO] Converting labels to numerical format\n",
      "[INFO] Training MEG model\n",
      "E0U0: G_loss = inf, D_loss = 777.388672, sim_loss=110714.439373\n",
      "E0U1: G_loss = inf, D_loss = 559.423035, sim_loss=110715.170703\n",
      "E0 weight: [0.59, 0.41]\n",
      "E1U0: G_loss = inf, D_loss = 661.672607, sim_loss=110659.604135\n",
      "E1U1: G_loss = inf, D_loss = 728.580872, sim_loss=110660.189110\n",
      "E1 weight: [0.57, 0.43]\n",
      "E2U0: G_loss = inf, D_loss = 403.012054, sim_loss=111391.254888\n",
      "E2U1: G_loss = inf, D_loss = 267.257874, sim_loss=111391.850214\n",
      "E2 weight: [0.57, 0.43]\n",
      "E3U0: G_loss = inf, D_loss = 229.164261, sim_loss=110873.795380\n",
      "E3U1: G_loss = inf, D_loss = 517.770325, sim_loss=110874.383348\n",
      "E3 weight: [0.57, 0.43]\n",
      "E4U0: G_loss = inf, D_loss = 354.685089, sim_loss=111018.929235\n",
      "E4U1: G_loss = inf, D_loss = 587.477112, sim_loss=111019.523121\n",
      "E4 weight: [0.57, 0.43]\n",
      "[SUCCESS] Model training completed\n"
     ]
    }
   ],
   "source": [
    "from katabatic.models.meg_DGEK.meg_adapter import MegAdapter\n",
    "adapter = MegAdapter()\n",
    "adapter.load_model()\n",
    "adapter.fit(X_train, y_train, epochs=5)\n"
   ]
  },
  {
   "cell_type": "markdown",
   "metadata": {},
   "source": [
    "Generate New Data from trained model"
   ]
  },
  {
   "cell_type": "code",
   "execution_count": 6,
   "metadata": {},
   "outputs": [
    {
     "name": "stdout",
     "output_type": "stream",
     "text": [
      "[INFO] Generating data using MEG model\n",
      "[SUCCESS] Data generation completed\n"
     ]
    },
    {
     "data": {
      "text/html": [
       "<div>\n",
       "<style scoped>\n",
       "    .dataframe tbody tr th:only-of-type {\n",
       "        vertical-align: middle;\n",
       "    }\n",
       "\n",
       "    .dataframe tbody tr th {\n",
       "        vertical-align: top;\n",
       "    }\n",
       "\n",
       "    .dataframe thead th {\n",
       "        text-align: right;\n",
       "    }\n",
       "</style>\n",
       "<table border=\"1\" class=\"dataframe\">\n",
       "  <thead>\n",
       "    <tr style=\"text-align: right;\">\n",
       "      <th></th>\n",
       "      <th>0</th>\n",
       "      <th>1</th>\n",
       "      <th>2</th>\n",
       "      <th>3</th>\n",
       "      <th>4</th>\n",
       "      <th>5</th>\n",
       "      <th>6</th>\n",
       "      <th>7</th>\n",
       "      <th>8</th>\n",
       "      <th>9</th>\n",
       "      <th>10</th>\n",
       "      <th>11</th>\n",
       "      <th>12</th>\n",
       "      <th>13</th>\n",
       "    </tr>\n",
       "  </thead>\n",
       "  <tbody>\n",
       "    <tr>\n",
       "      <th>0</th>\n",
       "      <td>10</td>\n",
       "      <td>3</td>\n",
       "      <td>1734</td>\n",
       "      <td>4</td>\n",
       "      <td>1</td>\n",
       "      <td>1</td>\n",
       "      <td>12</td>\n",
       "      <td>3</td>\n",
       "      <td>2</td>\n",
       "      <td>1</td>\n",
       "      <td>82</td>\n",
       "      <td>35</td>\n",
       "      <td>86</td>\n",
       "      <td>19</td>\n",
       "    </tr>\n",
       "    <tr>\n",
       "      <th>1</th>\n",
       "      <td>4</td>\n",
       "      <td>2</td>\n",
       "      <td>16447</td>\n",
       "      <td>8</td>\n",
       "      <td>8</td>\n",
       "      <td>4</td>\n",
       "      <td>3</td>\n",
       "      <td>1</td>\n",
       "      <td>2</td>\n",
       "      <td>0</td>\n",
       "      <td>104</td>\n",
       "      <td>59</td>\n",
       "      <td>90</td>\n",
       "      <td>33</td>\n",
       "    </tr>\n",
       "    <tr>\n",
       "      <th>2</th>\n",
       "      <td>23</td>\n",
       "      <td>4</td>\n",
       "      <td>16892</td>\n",
       "      <td>9</td>\n",
       "      <td>9</td>\n",
       "      <td>0</td>\n",
       "      <td>4</td>\n",
       "      <td>2</td>\n",
       "      <td>4</td>\n",
       "      <td>0</td>\n",
       "      <td>66</td>\n",
       "      <td>69</td>\n",
       "      <td>3</td>\n",
       "      <td>33</td>\n",
       "    </tr>\n",
       "    <tr>\n",
       "      <th>3</th>\n",
       "      <td>22</td>\n",
       "      <td>4</td>\n",
       "      <td>13388</td>\n",
       "      <td>13</td>\n",
       "      <td>9</td>\n",
       "      <td>3</td>\n",
       "      <td>9</td>\n",
       "      <td>3</td>\n",
       "      <td>1</td>\n",
       "      <td>0</td>\n",
       "      <td>34</td>\n",
       "      <td>41</td>\n",
       "      <td>84</td>\n",
       "      <td>9</td>\n",
       "    </tr>\n",
       "    <tr>\n",
       "      <th>4</th>\n",
       "      <td>3</td>\n",
       "      <td>0</td>\n",
       "      <td>11124</td>\n",
       "      <td>12</td>\n",
       "      <td>11</td>\n",
       "      <td>6</td>\n",
       "      <td>0</td>\n",
       "      <td>3</td>\n",
       "      <td>0</td>\n",
       "      <td>1</td>\n",
       "      <td>93</td>\n",
       "      <td>60</td>\n",
       "      <td>21</td>\n",
       "      <td>8</td>\n",
       "    </tr>\n",
       "  </tbody>\n",
       "</table>\n",
       "</div>"
      ],
      "text/plain": [
       "   0   1      2   3   4   5   6   7   8   9    10  11  12  13\n",
       "0  10   3   1734   4   1   1  12   3   2   1   82  35  86  19\n",
       "1   4   2  16447   8   8   4   3   1   2   0  104  59  90  33\n",
       "2  23   4  16892   9   9   0   4   2   4   0   66  69   3  33\n",
       "3  22   4  13388  13   9   3   9   3   1   0   34  41  84   9\n",
       "4   3   0  11124  12  11   6   0   3   0   1   93  60  21   8"
      ]
     },
     "execution_count": 6,
     "metadata": {},
     "output_type": "execute_result"
    }
   ],
   "source": [
    "adapter.generate(size=5)"
   ]
  },
  {
   "cell_type": "code",
   "execution_count": null,
   "metadata": {},
   "outputs": [],
   "source": [
    "# Future import statement ideas\n",
    "\n",
    "import katabatic as kb\n",
    "from katabatic.models import meg\n",
    "from katabatic.models import ganblr\n",
    "from katabatic.evaluate import eval_method1\n",
    "from katabatic.utils.preprocessing import data_processing_method1  # good place to store preprocessing utilities"
   ]
  }
 ],
 "metadata": {
  "kernelspec": {
   "display_name": "Python 3",
   "language": "python",
   "name": "python3"
  },
  "language_info": {
   "codemirror_mode": {
    "name": "ipython",
    "version": 3
   },
   "file_extension": ".py",
   "mimetype": "text/x-python",
   "name": "python",
   "nbconvert_exporter": "python",
   "pygments_lexer": "ipython3",
   "version": "3.9.13"
  }
 },
 "nbformat": 4,
 "nbformat_minor": 2
}
