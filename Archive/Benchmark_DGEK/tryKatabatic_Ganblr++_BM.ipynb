{
 "cells": [
  {
   "cell_type": "markdown",
   "metadata": {},
   "source": [
    "# Katabatic Demo Usage"
   ]
  },
  {
   "cell_type": "markdown",
   "metadata": {},
   "source": [
    "#### Importing Dependenciencies"
   ]
  },
  {
   "cell_type": "code",
   "execution_count": null,
   "metadata": {},
   "outputs": [],
   "source": [
    "!pip install -U scikit-learn"
   ]
  },
  {
   "cell_type": "code",
   "execution_count": null,
   "metadata": {},
   "outputs": [],
   "source": [
    "!pip install pyitlib"
   ]
  },
  {
   "cell_type": "code",
   "execution_count": null,
   "metadata": {},
   "outputs": [],
   "source": [
    "!pip install tensorflow"
   ]
  },
  {
   "cell_type": "code",
   "execution_count": null,
   "metadata": {},
   "outputs": [],
   "source": [
    "!pip install pgmpy"
   ]
  },
  {
   "cell_type": "code",
   "execution_count": null,
   "metadata": {},
   "outputs": [],
   "source": [
    "!pip install sdv"
   ]
  },
  {
   "cell_type": "markdown",
   "metadata": {},
   "source": [
    "#### Importing Katabatic"
   ]
  },
  {
   "cell_type": "code",
   "execution_count": 3,
   "metadata": {},
   "outputs": [],
   "source": [
    "from katabatic.katabatic import Katabatic\n",
    "import numpy as np\n"
   ]
  },
  {
   "cell_type": "markdown",
   "metadata": {},
   "source": [
    "Sample Training Data"
   ]
  },
  {
   "cell_type": "code",
   "execution_count": 4,
   "metadata": {},
   "outputs": [
    {
     "data": {
      "text/plain": [
       "array([ 0,  2,  4, 10, 11, 12], dtype=int64)"
      ]
     },
     "execution_count": 4,
     "metadata": {},
     "output_type": "execute_result"
    }
   ],
   "source": [
    "from katabatic.models.ganblrpp.utils import get_demo_data\n",
    "real_data = get_demo_data('adult-raw')\n",
    "real_data.head()\n",
    "\n",
    "from sklearn.model_selection import train_test_split\n",
    "x, y = real_data.values[:,:-1], real_data.values[:,-1]\n",
    "X_train, X_test, y_train, y_test = train_test_split(x, y, test_size=0.5)\n",
    "\n",
    "import numpy as np\n",
    "def is_numerical(dtype):\n",
    "    '''\n",
    "    if the type is one of ['signed-integer', 'unsigned-integer', 'floating point'], we reconginze it as a numerical one.\n",
    "    \n",
    "    Reference: https://numpy.org/doc/stable/reference/generated/numpy.dtype.kind.html#numpy.dtype.kind\n",
    "    '''\n",
    "    return dtype.kind in 'iuf'\n",
    "\n",
    "column_is_numerical = real_data.dtypes.apply(is_numerical).values\n",
    "numerical = np.argwhere(column_is_numerical).ravel()\n",
    "numerical"
   ]
  },
  {
   "cell_type": "markdown",
   "metadata": {},
   "source": [
    "Load Model and Train it on Sample Training Data"
   ]
  },
  {
   "cell_type": "code",
   "execution_count": 5,
   "metadata": {},
   "outputs": [
    {
     "name": "stderr",
     "output_type": "stream",
     "text": [
      "c:\\Users\\Asus\\AppData\\Local\\Programs\\Python\\Python39\\lib\\site-packages\\tqdm\\auto.py:21: TqdmWarning: IProgress not found. Please update jupyter and ipywidgets. See https://ipywidgets.readthedocs.io/en/stable/user_install.html\n",
      "  from .autonotebook import tqdm as notebook_tqdm\n"
     ]
    },
    {
     "name": "stdout",
     "output_type": "stream",
     "text": [
      "[INFO] Initializing GANBLR++ Model\n",
      "[INFO] Training GANBLR++ model\n"
     ]
    },
    {
     "name": "stderr",
     "output_type": "stream",
     "text": [
      "c:\\Users\\Asus\\AppData\\Local\\Programs\\Python\\Python39\\lib\\site-packages\\sklearn\\mixture\\_base.py:270: ConvergenceWarning: Best performing initialization did not converge. Try different init parameters, or increase max_iter, tol, or check for degenerate data.\n",
      "  warnings.warn(\n",
      "c:\\Users\\Asus\\AppData\\Local\\Programs\\Python\\Python39\\lib\\site-packages\\sklearn\\mixture\\_base.py:270: ConvergenceWarning: Best performing initialization did not converge. Try different init parameters, or increase max_iter, tol, or check for degenerate data.\n",
      "  warnings.warn(\n",
      "c:\\Users\\Asus\\AppData\\Local\\Programs\\Python\\Python39\\lib\\site-packages\\keras\\src\\layers\\core\\dense.py:87: UserWarning: Do not pass an `input_shape`/`input_dim` argument to a layer. When using Sequential models, prefer using an `Input(shape)` object as the first layer in the model instead.\n",
      "  super().__init__(activity_regularizer=activity_regularizer, **kwargs)\n",
      "c:\\Users\\Asus\\AppData\\Local\\Programs\\Python\\Python39\\lib\\site-packages\\keras\\src\\layers\\core\\dense.py:87: UserWarning: Do not pass an `input_shape`/`input_dim` argument to a layer. When using Sequential models, prefer using an `Input(shape)` object as the first layer in the model instead.\n",
      "  super().__init__(activity_regularizer=activity_regularizer, **kwargs)\n",
      "c:\\Users\\Asus\\AppData\\Local\\Programs\\Python\\Python39\\lib\\site-packages\\keras\\src\\layers\\core\\dense.py:87: UserWarning: Do not pass an `input_shape`/`input_dim` argument to a layer. When using Sequential models, prefer using an `Input(shape)` object as the first layer in the model instead.\n",
      "  super().__init__(activity_regularizer=activity_regularizer, **kwargs)\n",
      "c:\\Users\\Asus\\Documents\\GitHub\\Katabatic\\katabatic\\models\\ganblrpp\\ganblr.py:76: RuntimeWarning: divide by zero encountered in log\n",
      "  ls = np.mean(-np.log(np.subtract(1, prob_fake)))\n",
      "c:\\Users\\Asus\\AppData\\Local\\Programs\\Python\\Python39\\lib\\site-packages\\keras\\src\\layers\\core\\dense.py:87: UserWarning: Do not pass an `input_shape`/`input_dim` argument to a layer. When using Sequential models, prefer using an `Input(shape)` object as the first layer in the model instead.\n",
      "  super().__init__(activity_regularizer=activity_regularizer, **kwargs)\n",
      "c:\\Users\\Asus\\AppData\\Local\\Programs\\Python\\Python39\\lib\\site-packages\\keras\\src\\layers\\core\\dense.py:87: UserWarning: Do not pass an `input_shape`/`input_dim` argument to a layer. When using Sequential models, prefer using an `Input(shape)` object as the first layer in the model instead.\n",
      "  super().__init__(activity_regularizer=activity_regularizer, **kwargs)\n",
      "c:\\Users\\Asus\\AppData\\Local\\Programs\\Python\\Python39\\lib\\site-packages\\keras\\src\\layers\\core\\dense.py:87: UserWarning: Do not pass an `input_shape`/`input_dim` argument to a layer. When using Sequential models, prefer using an `Input(shape)` object as the first layer in the model instead.\n",
      "  super().__init__(activity_regularizer=activity_regularizer, **kwargs)\n",
      "c:\\Users\\Asus\\AppData\\Local\\Programs\\Python\\Python39\\lib\\site-packages\\keras\\src\\layers\\core\\dense.py:87: UserWarning: Do not pass an `input_shape`/`input_dim` argument to a layer. When using Sequential models, prefer using an `Input(shape)` object as the first layer in the model instead.\n",
      "  super().__init__(activity_regularizer=activity_regularizer, **kwargs)\n",
      "c:\\Users\\Asus\\AppData\\Local\\Programs\\Python\\Python39\\lib\\site-packages\\keras\\src\\layers\\core\\dense.py:87: UserWarning: Do not pass an `input_shape`/`input_dim` argument to a layer. When using Sequential models, prefer using an `Input(shape)` object as the first layer in the model instead.\n",
      "  super().__init__(activity_regularizer=activity_regularizer, **kwargs)\n",
      "c:\\Users\\Asus\\AppData\\Local\\Programs\\Python\\Python39\\lib\\site-packages\\keras\\src\\layers\\core\\dense.py:87: UserWarning: Do not pass an `input_shape`/`input_dim` argument to a layer. When using Sequential models, prefer using an `Input(shape)` object as the first layer in the model instead.\n",
      "  super().__init__(activity_regularizer=activity_regularizer, **kwargs)\n",
      "c:\\Users\\Asus\\Documents\\GitHub\\Katabatic\\katabatic\\models\\ganblrpp\\ganblr.py:76: RuntimeWarning: divide by zero encountered in log\n",
      "  ls = np.mean(-np.log(np.subtract(1, prob_fake)))\n",
      "c:\\Users\\Asus\\AppData\\Local\\Programs\\Python\\Python39\\lib\\site-packages\\keras\\src\\layers\\core\\dense.py:87: UserWarning: Do not pass an `input_shape`/`input_dim` argument to a layer. When using Sequential models, prefer using an `Input(shape)` object as the first layer in the model instead.\n",
      "  super().__init__(activity_regularizer=activity_regularizer, **kwargs)\n",
      "c:\\Users\\Asus\\AppData\\Local\\Programs\\Python\\Python39\\lib\\site-packages\\keras\\src\\layers\\core\\dense.py:87: UserWarning: Do not pass an `input_shape`/`input_dim` argument to a layer. When using Sequential models, prefer using an `Input(shape)` object as the first layer in the model instead.\n",
      "  super().__init__(activity_regularizer=activity_regularizer, **kwargs)\n"
     ]
    },
    {
     "name": "stdout",
     "output_type": "stream",
     "text": [
      "[SUCCESS] Model training completed\n"
     ]
    }
   ],
   "source": [
    "from katabatic.models.ganblrpp.ganblrpp_adapter import GanblrppAdapter\n",
    "adapter = GanblrppAdapter(numerical_columns=numerical)\n",
    "adapter.load_model()\n",
    "adapter.fit(X_train, y_train, epochs=10)\n"
   ]
  },
  {
   "cell_type": "markdown",
   "metadata": {},
   "source": [
    "Generate New Data from trained model"
   ]
  },
  {
   "cell_type": "code",
   "execution_count": 6,
   "metadata": {},
   "outputs": [
    {
     "name": "stdout",
     "output_type": "stream",
     "text": [
      "[INFO] Generating data using GANBLR++ model\n"
     ]
    },
    {
     "name": "stderr",
     "output_type": "stream",
     "text": [
      "sampling: 100%|██████████| 6/6 [00:00<00:00, 41.19it/s]"
     ]
    },
    {
     "name": "stdout",
     "output_type": "stream",
     "text": [
      "[SUCCESS] Data generation completed\n"
     ]
    },
    {
     "name": "stderr",
     "output_type": "stream",
     "text": [
      "\n"
     ]
    },
    {
     "data": {
      "text/html": [
       "<div>\n",
       "<style scoped>\n",
       "    .dataframe tbody tr th:only-of-type {\n",
       "        vertical-align: middle;\n",
       "    }\n",
       "\n",
       "    .dataframe tbody tr th {\n",
       "        vertical-align: top;\n",
       "    }\n",
       "\n",
       "    .dataframe thead th {\n",
       "        text-align: right;\n",
       "    }\n",
       "</style>\n",
       "<table border=\"1\" class=\"dataframe\">\n",
       "  <thead>\n",
       "    <tr style=\"text-align: right;\">\n",
       "      <th></th>\n",
       "      <th>age</th>\n",
       "      <th>workclass</th>\n",
       "      <th>fnlwgt</th>\n",
       "      <th>education</th>\n",
       "      <th>education-num</th>\n",
       "      <th>marital-status</th>\n",
       "      <th>occupation</th>\n",
       "      <th>relationship</th>\n",
       "      <th>race</th>\n",
       "      <th>sex</th>\n",
       "      <th>capital-gain</th>\n",
       "      <th>capital-loss</th>\n",
       "      <th>hours-per-week</th>\n",
       "      <th>native-country</th>\n",
       "      <th>class</th>\n",
       "    </tr>\n",
       "  </thead>\n",
       "  <tbody>\n",
       "    <tr>\n",
       "      <th>0</th>\n",
       "      <td>NaN</td>\n",
       "      <td>NaN</td>\n",
       "      <td>NaN</td>\n",
       "      <td>NaN</td>\n",
       "      <td>NaN</td>\n",
       "      <td>NaN</td>\n",
       "      <td>NaN</td>\n",
       "      <td>NaN</td>\n",
       "      <td>NaN</td>\n",
       "      <td>NaN</td>\n",
       "      <td>NaN</td>\n",
       "      <td>NaN</td>\n",
       "      <td>NaN</td>\n",
       "      <td>NaN</td>\n",
       "      <td>NaN</td>\n",
       "    </tr>\n",
       "    <tr>\n",
       "      <th>1</th>\n",
       "      <td>NaN</td>\n",
       "      <td>NaN</td>\n",
       "      <td>NaN</td>\n",
       "      <td>NaN</td>\n",
       "      <td>NaN</td>\n",
       "      <td>NaN</td>\n",
       "      <td>NaN</td>\n",
       "      <td>NaN</td>\n",
       "      <td>NaN</td>\n",
       "      <td>NaN</td>\n",
       "      <td>NaN</td>\n",
       "      <td>NaN</td>\n",
       "      <td>NaN</td>\n",
       "      <td>NaN</td>\n",
       "      <td>NaN</td>\n",
       "    </tr>\n",
       "    <tr>\n",
       "      <th>2</th>\n",
       "      <td>NaN</td>\n",
       "      <td>NaN</td>\n",
       "      <td>NaN</td>\n",
       "      <td>NaN</td>\n",
       "      <td>NaN</td>\n",
       "      <td>NaN</td>\n",
       "      <td>NaN</td>\n",
       "      <td>NaN</td>\n",
       "      <td>NaN</td>\n",
       "      <td>NaN</td>\n",
       "      <td>NaN</td>\n",
       "      <td>NaN</td>\n",
       "      <td>NaN</td>\n",
       "      <td>NaN</td>\n",
       "      <td>NaN</td>\n",
       "    </tr>\n",
       "    <tr>\n",
       "      <th>3</th>\n",
       "      <td>NaN</td>\n",
       "      <td>NaN</td>\n",
       "      <td>NaN</td>\n",
       "      <td>NaN</td>\n",
       "      <td>NaN</td>\n",
       "      <td>NaN</td>\n",
       "      <td>NaN</td>\n",
       "      <td>NaN</td>\n",
       "      <td>NaN</td>\n",
       "      <td>NaN</td>\n",
       "      <td>NaN</td>\n",
       "      <td>NaN</td>\n",
       "      <td>NaN</td>\n",
       "      <td>NaN</td>\n",
       "      <td>NaN</td>\n",
       "    </tr>\n",
       "    <tr>\n",
       "      <th>4</th>\n",
       "      <td>NaN</td>\n",
       "      <td>NaN</td>\n",
       "      <td>NaN</td>\n",
       "      <td>NaN</td>\n",
       "      <td>NaN</td>\n",
       "      <td>NaN</td>\n",
       "      <td>NaN</td>\n",
       "      <td>NaN</td>\n",
       "      <td>NaN</td>\n",
       "      <td>NaN</td>\n",
       "      <td>NaN</td>\n",
       "      <td>NaN</td>\n",
       "      <td>NaN</td>\n",
       "      <td>NaN</td>\n",
       "      <td>NaN</td>\n",
       "    </tr>\n",
       "    <tr>\n",
       "      <th>5</th>\n",
       "      <td>NaN</td>\n",
       "      <td>NaN</td>\n",
       "      <td>NaN</td>\n",
       "      <td>NaN</td>\n",
       "      <td>NaN</td>\n",
       "      <td>NaN</td>\n",
       "      <td>NaN</td>\n",
       "      <td>NaN</td>\n",
       "      <td>NaN</td>\n",
       "      <td>NaN</td>\n",
       "      <td>NaN</td>\n",
       "      <td>NaN</td>\n",
       "      <td>NaN</td>\n",
       "      <td>NaN</td>\n",
       "      <td>NaN</td>\n",
       "    </tr>\n",
       "    <tr>\n",
       "      <th>6</th>\n",
       "      <td>NaN</td>\n",
       "      <td>NaN</td>\n",
       "      <td>NaN</td>\n",
       "      <td>NaN</td>\n",
       "      <td>NaN</td>\n",
       "      <td>NaN</td>\n",
       "      <td>NaN</td>\n",
       "      <td>NaN</td>\n",
       "      <td>NaN</td>\n",
       "      <td>NaN</td>\n",
       "      <td>NaN</td>\n",
       "      <td>NaN</td>\n",
       "      <td>NaN</td>\n",
       "      <td>NaN</td>\n",
       "      <td>NaN</td>\n",
       "    </tr>\n",
       "    <tr>\n",
       "      <th>7</th>\n",
       "      <td>NaN</td>\n",
       "      <td>NaN</td>\n",
       "      <td>NaN</td>\n",
       "      <td>NaN</td>\n",
       "      <td>NaN</td>\n",
       "      <td>NaN</td>\n",
       "      <td>NaN</td>\n",
       "      <td>NaN</td>\n",
       "      <td>NaN</td>\n",
       "      <td>NaN</td>\n",
       "      <td>NaN</td>\n",
       "      <td>NaN</td>\n",
       "      <td>NaN</td>\n",
       "      <td>NaN</td>\n",
       "      <td>NaN</td>\n",
       "    </tr>\n",
       "    <tr>\n",
       "      <th>8</th>\n",
       "      <td>NaN</td>\n",
       "      <td>NaN</td>\n",
       "      <td>NaN</td>\n",
       "      <td>NaN</td>\n",
       "      <td>NaN</td>\n",
       "      <td>NaN</td>\n",
       "      <td>NaN</td>\n",
       "      <td>NaN</td>\n",
       "      <td>NaN</td>\n",
       "      <td>NaN</td>\n",
       "      <td>NaN</td>\n",
       "      <td>NaN</td>\n",
       "      <td>NaN</td>\n",
       "      <td>NaN</td>\n",
       "      <td>NaN</td>\n",
       "    </tr>\n",
       "    <tr>\n",
       "      <th>9</th>\n",
       "      <td>NaN</td>\n",
       "      <td>NaN</td>\n",
       "      <td>NaN</td>\n",
       "      <td>NaN</td>\n",
       "      <td>NaN</td>\n",
       "      <td>NaN</td>\n",
       "      <td>NaN</td>\n",
       "      <td>NaN</td>\n",
       "      <td>NaN</td>\n",
       "      <td>NaN</td>\n",
       "      <td>NaN</td>\n",
       "      <td>NaN</td>\n",
       "      <td>NaN</td>\n",
       "      <td>NaN</td>\n",
       "      <td>NaN</td>\n",
       "    </tr>\n",
       "  </tbody>\n",
       "</table>\n",
       "</div>"
      ],
      "text/plain": [
       "   age  workclass  fnlwgt  education  education-num  marital-status  \\\n",
       "0  NaN        NaN     NaN        NaN            NaN             NaN   \n",
       "1  NaN        NaN     NaN        NaN            NaN             NaN   \n",
       "2  NaN        NaN     NaN        NaN            NaN             NaN   \n",
       "3  NaN        NaN     NaN        NaN            NaN             NaN   \n",
       "4  NaN        NaN     NaN        NaN            NaN             NaN   \n",
       "5  NaN        NaN     NaN        NaN            NaN             NaN   \n",
       "6  NaN        NaN     NaN        NaN            NaN             NaN   \n",
       "7  NaN        NaN     NaN        NaN            NaN             NaN   \n",
       "8  NaN        NaN     NaN        NaN            NaN             NaN   \n",
       "9  NaN        NaN     NaN        NaN            NaN             NaN   \n",
       "\n",
       "   occupation  relationship  race  sex  capital-gain  capital-loss  \\\n",
       "0         NaN           NaN   NaN  NaN           NaN           NaN   \n",
       "1         NaN           NaN   NaN  NaN           NaN           NaN   \n",
       "2         NaN           NaN   NaN  NaN           NaN           NaN   \n",
       "3         NaN           NaN   NaN  NaN           NaN           NaN   \n",
       "4         NaN           NaN   NaN  NaN           NaN           NaN   \n",
       "5         NaN           NaN   NaN  NaN           NaN           NaN   \n",
       "6         NaN           NaN   NaN  NaN           NaN           NaN   \n",
       "7         NaN           NaN   NaN  NaN           NaN           NaN   \n",
       "8         NaN           NaN   NaN  NaN           NaN           NaN   \n",
       "9         NaN           NaN   NaN  NaN           NaN           NaN   \n",
       "\n",
       "   hours-per-week  native-country  class  \n",
       "0             NaN             NaN    NaN  \n",
       "1             NaN             NaN    NaN  \n",
       "2             NaN             NaN    NaN  \n",
       "3             NaN             NaN    NaN  \n",
       "4             NaN             NaN    NaN  \n",
       "5             NaN             NaN    NaN  \n",
       "6             NaN             NaN    NaN  \n",
       "7             NaN             NaN    NaN  \n",
       "8             NaN             NaN    NaN  \n",
       "9             NaN             NaN    NaN  "
      ]
     },
     "execution_count": 6,
     "metadata": {},
     "output_type": "execute_result"
    }
   ],
   "source": [
    "import pandas as pd\n",
    "syn_data = adapter.generate(size= 50000)\n",
    "pd.DataFrame(syn_data, columns=real_data.columns).head(10)"
   ]
  },
  {
   "cell_type": "code",
   "execution_count": null,
   "metadata": {},
   "outputs": [],
   "source": [
    "from katabatic.metrics import tstr_logreg, tstr_mlp, tstr_rf, tstr_xgbt, trtr_jsd, trtr_wd\n",
    "import pandas as pd\n",
    "\n",
    "# Ensure syn_data and real_data are numpy arrays\n",
    "if isinstance(syn_data, pd.DataFrame):\n",
    "    X_synthetic, y_synthetic = syn_data.iloc[:, :-1].values, syn_data.iloc[:, -1].values\n",
    "else:\n",
    "    X_synthetic, y_synthetic = syn_data[:, :-1], syn_data[:, -1]\n",
    "\n",
    "if isinstance(real_data, pd.DataFrame):\n",
    "    X_real, y_real = real_data.iloc[:, :-1].values, real_data.iloc[:, -1].values\n",
    "else:\n",
    "    X_real, y_real = real_data[:, :-1], real_data[:, -1]\n",
    "\n",
    "# Convert numpy arrays back to DataFrames and Series\n",
    "X_synthetic_df = pd.DataFrame(X_synthetic)\n",
    "y_synthetic_df = pd.Series(y_synthetic)\n",
    "X_real_df = pd.DataFrame(X_real)\n",
    "y_real_df = pd.Series(y_real)\n",
    "\n",
    "# Evaluate using the different models\n",
    "acc_score_lr  = tstr_logreg.evaluate(X_synthetic_df, y_synthetic_df, X_real_df, y_real_df)\n",
    "acc_score_mlp = tstr_mlp.evaluate(X_synthetic_df, y_synthetic_df, X_real_df, y_real_df)\n",
    "acc_score_rf  = tstr_rf.evaluate(X_synthetic_df, y_synthetic_df, X_real_df, y_real_df)\n",
    "acc_score_xgbt  = tstr_xgbt.evaluate(X_synthetic_df, y_synthetic_df, X_real_df, y_real_df)\n",
    "jsd_value = trtr_jsd.evaluate(X_synthetic_df, y_synthetic_df, X_real_df, y_real_df)\n",
    "wd_value = trtr_wd.evaluate(X_synthetic_df, y_synthetic_df, X_real_df, y_real_df)\n",
    "\n",
    "# Print the results with 4 decimal places\n",
    "print(f\"Accuracy with Logistic Regression: {acc_score_lr:.4f}\")\n",
    "print(f\"Accuracy with MLP: {acc_score_mlp:.4f}\")\n",
    "print(f\"Accuracy with Random Forest: {acc_score_rf}\")\n",
    "print(f\"Accuracy with XgboostTree: {acc_score_xgbt:.4f}\")\n",
    "print(f\"Jensen-Shannon Divergence: {jsd_value:.4f}\")\n",
    "print(f\"Wasserstein Distance: {wd_value:.4f}\")"
   ]
  },
  {
   "cell_type": "code",
   "execution_count": null,
   "metadata": {},
   "outputs": [],
   "source": [
    "import numpy as np\n",
    "import pandas as pd\n",
    "from katabatic.models.ganblrpp.utils import get_demo_data\n",
    "from sklearn.model_selection import train_test_split, KFold\n",
    "from katabatic.models.ganblrpp.ganblrpp_adapter import GanblrppAdapter\n",
    "from katabatic.metrics import tstr_logreg, tstr_mlp, tstr_rf, tstr_xgbt, trtr_jsd, trtr_wd\n",
    "\n",
    "# Load and prepare the data\n",
    "real_data = get_demo_data('adult-raw')\n",
    "x, y = real_data.values[:, :-1], real_data.values[:, -1]\n",
    "\n",
    "# Define a function to check if a dtype is numerical\n",
    "def is_numerical(dtype):\n",
    "    return dtype.kind in 'iuf'\n",
    "\n",
    "# Get numerical columns\n",
    "column_is_numerical = real_data.dtypes.apply(is_numerical).values\n",
    "numerical = np.argwhere(column_is_numerical).ravel()\n",
    "\n",
    "# Initialize metrics accumulators\n",
    "acc_scores_lr = []\n",
    "acc_scores_mlp = []\n",
    "acc_scores_rf = []\n",
    "acc_scores_xgbt = []\n",
    "jsd_values = []\n",
    "wd_values = []\n",
    "\n",
    "# Set up 2-fold cross-validation\n",
    "kf = KFold(n_splits=2, shuffle=True)\n",
    "\n",
    "# Repeat the experiment 3 times\n",
    "for repeat in range(3):\n",
    "    print(f\"Repeat {repeat + 1}\")\n",
    "    \n",
    "    for train_index, test_index in kf.split(x):\n",
    "        X_train, X_test = x[train_index], x[test_index]\n",
    "        y_train, y_test = y[train_index], y[test_index]\n",
    "        \n",
    "        # Initialize and fit the model\n",
    "        adapter = GanblrppAdapter(numerical_columns=numerical)\n",
    "        adapter.load_model()\n",
    "        adapter.fit(X_train, y_train, epochs=100)\n",
    "        \n",
    "        # Generate synthetic data\n",
    "        syn_data = adapter.generate(size=50000)\n",
    "        \n",
    "        # Prepare the synthetic and real datasets for evaluation\n",
    "        X_synthetic, y_synthetic = syn_data[:, :-1], syn_data[:, -1]\n",
    "        X_real, y_real = x, y\n",
    "        \n",
    "        # Convert numpy arrays to DataFrames and Series\n",
    "        X_synthetic_df = pd.DataFrame(X_synthetic)\n",
    "        y_synthetic_df = pd.Series(y_synthetic)\n",
    "        X_real_df = pd.DataFrame(X_real)\n",
    "        y_real_df = pd.Series(y_real)\n",
    "        \n",
    "        # Evaluate using the different models\n",
    "        acc_scores_lr.append(tstr_logreg.evaluate(X_synthetic_df, y_synthetic_df, X_real_df, y_real_df))\n",
    "        acc_scores_mlp.append(tstr_mlp.evaluate(X_synthetic_df, y_synthetic_df, X_real_df, y_real_df))\n",
    "        acc_scores_rf.append(tstr_rf.evaluate(X_synthetic_df, y_synthetic_df, X_real_df, y_real_df))\n",
    "        acc_scores_xgbt.append(tstr_xgbt.evaluate(X_synthetic_df, y_synthetic_df, X_real_df, y_real_df))\n",
    "        jsd_values.append(trtr_jsd.evaluate(X_synthetic_df, y_synthetic_df, X_real_df, y_real_df))\n",
    "        wd_values.append(trtr_wd.evaluate(X_synthetic_df, y_synthetic_df, X_real_df, y_real_df))\n",
    "\n",
    "# Calculate average results\n",
    "avg_acc_score_lr = np.mean(acc_scores_lr)\n",
    "avg_acc_score_mlp = np.mean(acc_scores_mlp)\n",
    "avg_acc_score_rf = np.mean(acc_scores_rf)\n",
    "avg_acc_score_xgbt = np.mean(acc_scores_xgbt)\n",
    "avg_jsd_value = np.mean(jsd_values)\n",
    "avg_wd_value = np.mean(wd_values)\n",
    "\n",
    "# Print the averaged results with 4 decimal places\n",
    "print(f\"Average Accuracy with Logistic Regression: {avg_acc_score_lr:.4f}\")\n",
    "print(f\"Average Accuracy with MLP: {avg_acc_score_mlp:.4f}\")\n",
    "print(f\"Average Accuracy with Random Forest: {avg_acc_score_rf:.4f}\")\n",
    "print(f\"Average Accuracy with XgboostTree: {avg_acc_score_xgbt:.4f}\")\n",
    "print(f\"Average Jensen-Shannon Divergence: {avg_jsd_value:.4f}\")\n",
    "print(f\"Average Wasserstein Distance: {avg_wd_value:.4f}\")\n"
   ]
  },
  {
   "cell_type": "code",
   "execution_count": null,
   "metadata": {},
   "outputs": [],
   "source": [
    "# Future import statement ideas\n",
    "\n",
    "import katabatic as kb\n",
    "from katabatic.models import meg\n",
    "from katabatic.models import ganblr\n",
    "from katabatic.evaluate import eval_method1\n",
    "from katabatic.utils.preprocessing import data_processing_method1  # good place to store preprocessing utilities"
   ]
  }
 ],
 "metadata": {
  "kernelspec": {
   "display_name": "Python 3",
   "language": "python",
   "name": "python3"
  },
  "language_info": {
   "codemirror_mode": {
    "name": "ipython",
    "version": 3
   },
   "file_extension": ".py",
   "mimetype": "text/x-python",
   "name": "python",
   "nbconvert_exporter": "python",
   "pygments_lexer": "ipython3",
   "version": "3.9.13"
  }
 },
 "nbformat": 4,
 "nbformat_minor": 2
}
