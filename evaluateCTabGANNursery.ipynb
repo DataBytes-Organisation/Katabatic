{
 "cells": [
  {
   "cell_type": "code",
   "execution_count": 2,
   "metadata": {},
   "outputs": [
    {
     "name": "stdout",
     "output_type": "stream",
     "text": [
      "---Initialise CTABGANP Model\n"
     ]
    }
   ],
   "source": [
    "from katabatic.models.ctabganp import CTABGANPAdapter, CTABGANP, preprocess_data, postprocess_data\n",
    "import pandas as pd\n",
    "from sklearn.model_selection import train_test_split\n",
    "from sklearn.linear_model import LogisticRegression\n",
    "from sklearn.ensemble import RandomForestClassifier\n",
    "from sklearn.neural_network import MLPClassifier\n",
    "from xgboost import XGBClassifier, XGBRegressor\n",
    "from sklearn.preprocessing import OneHotEncoder, OrdinalEncoder, LabelEncoder\n",
    "from sklearn import preprocessing\n",
    "from sklearn.pipeline import Pipeline\n",
    "from sklearn.metrics import accuracy_score, precision_score, recall_score, f1_score\n",
    "\n",
    "def preprocessing_raw_df(raw_df):\n",
    "    labelencoder=preprocessing.LabelEncoder()\n",
    "    raw_df = raw_df.apply(lambda col: labelencoder.fit_transform(col) if col.dtype =='object' else col)\n",
    "    return raw_df\n",
    "\n",
    "data_path = 'data/Nursery/Nursery.csv'\n",
    "ctabgan_adapter = CTABGANPAdapter(type='continuous', raw_csv_path = data_path)\n",
    "ctabgan_adapter.load_model(\n",
    "                 test_ratio = 0.20,\n",
    "                 categorical_columns = ['parents','has_nurs','form','children','housing','finance','social','health','Target'], \n",
    "                 log_columns = [],\n",
    "                 mixed_columns= {},\n",
    "                 general_columns = [],\n",
    "                 non_categorical_columns = [],\n",
    "                 integer_columns = [],\n",
    "                 problem_type= {\"Classification\": 'Target'},\n",
    "                 preprocessing_raw_df=preprocessing_raw_df) \n",
    "\n",
    "df = ctabgan_adapter.raw_df\n",
    "x_train = ctabgan_adapter.x_train\n",
    "y_train = ctabgan_adapter.y_train\n",
    "x_test = ctabgan_adapter.x_test\n",
    "y_test = ctabgan_adapter.y_test"
   ]
  },
  {
   "cell_type": "code",
   "execution_count": 3,
   "metadata": {},
   "outputs": [
    {
     "name": "stderr",
     "output_type": "stream",
     "text": [
      "100%|██████████| 100/100 [12:39<00:00,  7.59s/it]"
     ]
    },
    {
     "name": "stdout",
     "output_type": "stream",
     "text": [
      "Finished training in 761.4685468673706  seconds.\n"
     ]
    },
    {
     "name": "stderr",
     "output_type": "stream",
     "text": [
      "\n"
     ]
    }
   ],
   "source": [
    "ctabgan_adapter.fit(epochs=100)"
   ]
  },
  {
   "cell_type": "code",
   "execution_count": 4,
   "metadata": {},
   "outputs": [
    {
     "name": "stdout",
     "output_type": "stream",
     "text": [
      "self.batch_size: 1000\n",
      " parents :  parents\n",
      "1.997078    1\n",
      "1.999967    1\n",
      "1.995806    1\n",
      "1.001567    1\n",
      "0.002103    1\n",
      "           ..\n",
      "1.997890    1\n",
      "1.996102    1\n",
      "0.998354    1\n",
      "1.998714    1\n",
      "0.999985    1\n",
      "Name: count, Length: 12960, dtype: int64\n",
      "has_nurs : has_nurs\n",
      "0    2840\n",
      "1    2743\n",
      "4    2592\n",
      "3    2494\n",
      "2    2291\n",
      "Name: count, dtype: int64\n",
      "form : form\n",
      "2    3996\n",
      "1    3613\n",
      "0    2997\n",
      "3    2354\n",
      "Name: count, dtype: int64\n",
      "children : children\n",
      "1    3444\n",
      "2    3384\n",
      "3    3113\n",
      "0    3019\n",
      "Name: count, dtype: int64\n",
      "housing : housing\n",
      "0    4594\n",
      "1    4591\n",
      "2    3775\n",
      "Name: count, dtype: int64\n",
      "finance : finance\n",
      "1    6829\n",
      "0    6131\n",
      "Name: count, dtype: int64\n",
      "social : social\n",
      "2    4774\n",
      "0    4142\n",
      "1    4044\n",
      "Name: count, dtype: int64\n",
      "health : health\n",
      "2    4427\n",
      "0    4371\n",
      "1    4162\n",
      "Name: count, dtype: int64\n",
      "Target : Target\n",
      "1    4800\n",
      "0    4472\n",
      "3    3512\n",
      "4     172\n",
      "2       4\n",
      "Name: count, dtype: int64\n"
     ]
    }
   ],
   "source": [
    "synthetic_df = ctabgan_adapter.generate(size=1000)\n",
    "for column in synthetic_df.columns:\n",
    "    print(column, \":\", synthetic_df[column].value_counts())"
   ]
  },
  {
   "cell_type": "code",
   "execution_count": 5,
   "metadata": {},
   "outputs": [],
   "source": [
    "x_sync_train = synthetic_df.drop(synthetic_df.columns[-1],axis=1).values\n",
    "y_sync_train = synthetic_df.iloc[ :, -1:].values"
   ]
  },
  {
   "cell_type": "code",
   "execution_count": 8,
   "metadata": {},
   "outputs": [
    {
     "name": "stdout",
     "output_type": "stream",
     "text": [
      "Classifier Evaluation on Syn Data:\n",
      "                     Accuracy  Precision    Recall  F1 Score\n",
      "Logistic Regression  0.760031   0.571717  0.582136  0.575903\n",
      "Random Forest        0.856096   0.615720  0.534190  0.536397\n",
      "MLP Classifier       0.884645   0.668151  0.679209  0.671762\n",
      "XGB Classifier       0.850309   0.645871  0.652166  0.645332\n"
     ]
    }
   ],
   "source": [
    "y_sync_train = LabelEncoder().fit_transform(y_sync_train)\n",
    "models = {\n",
    "    \"Logistic Regression\": LogisticRegression(max_iter=300, random_state=42),\n",
    "    \"Random Forest\": RandomForestClassifier(random_state=42),\n",
    "    \"MLP Classifier\": MLPClassifier(max_iter=300, random_state=42),\n",
    "    \"XGB Classifier\": XGBClassifier(use_label_encoder=False, eval_metric='logloss', random_state=42)\n",
    "}\n",
    "\n",
    "results = {}\n",
    "for name, model in models.items():\n",
    "    model.fit(x_sync_train, y_sync_train)\n",
    "    y_pred = model.predict(x_test)\n",
    "    results[name] = {\n",
    "        \"Accuracy\": accuracy_score(y_test, y_pred),\n",
    "        \"Precision\": precision_score(y_test, y_pred, average='macro', zero_division=0),\n",
    "        \"Recall\": recall_score(y_test, y_pred, average='macro', zero_division=0),\n",
    "        \"F1 Score\": f1_score(y_test, y_pred, average='macro', zero_division=0)\n",
    "    }\n",
    "results_df = pd.DataFrame(results).T\n",
    "print(\"Classifier Evaluation on Syn Data:\")\n",
    "print(results_df)"
   ]
  }
 ],
 "metadata": {
  "kernelspec": {
   "display_name": "py39",
   "language": "python",
   "name": "python3"
  },
  "language_info": {
   "codemirror_mode": {
    "name": "ipython",
    "version": 3
   },
   "file_extension": ".py",
   "mimetype": "text/x-python",
   "name": "python",
   "nbconvert_exporter": "python",
   "pygments_lexer": "ipython3",
   "version": "3.9.21"
  }
 },
 "nbformat": 4,
 "nbformat_minor": 2
}
